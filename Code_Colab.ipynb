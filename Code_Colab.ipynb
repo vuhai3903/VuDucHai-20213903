{
  "cells": [
    {
      "cell_type": "markdown",
      "metadata": {
        "colab_type": "text",
        "id": "view-in-github"
      },
      "source": [
        "<a href=\"https://colab.research.google.com/github/vuhai3903/VuDucHai-20213903/blob/main/Code_Colab.ipynb\" target=\"_parent\"><img src=\"https://colab.research.google.com/assets/colab-badge.svg\" alt=\"Open In Colab\"/></a>"
      ]
    },
    {
      "cell_type": "markdown",
      "metadata": {
        "id": "0Sqdikfv-_NV"
      },
      "source": [
        "#**Upload dataset lên colab**"
      ]
    },
    {
      "cell_type": "markdown",
      "metadata": {
        "id": "VNd5lALj3nks"
      },
      "source": []
    },
    {
      "cell_type": "code",
      "execution_count": null,
      "metadata": {
        "colab": {
          "base_uri": "https://localhost:8080/"
        },
        "id": "ME0o7VOU3BhT",
        "outputId": "f4189bbe-af3a-41ac-fa8a-56c264b2905c"
      },
      "outputs": [
        {
          "name": "stdout",
          "output_type": "stream",
          "text": [
            "Mounted at /content/drive\n"
          ]
        }
      ],
      "source": [
        "from google.colab import drive\n",
        "drive.mount('/content/drive')"
      ]
    },
    {
      "cell_type": "markdown",
      "metadata": {
        "id": "KT4uQNeOBnr0"
      },
      "source": [
        "# **Các thư viện**"
      ]
    },
    {
      "cell_type": "code",
      "execution_count": null,
      "metadata": {
        "id": "p_oSomruB3EV"
      },
      "outputs": [],
      "source": [
        "import pandas as pd\n",
        "import os\n",
        "import numpy as np\n",
        "import matplotlib.pyplot as plt\n",
        "from sklearn.impute import SimpleImputer\n",
        "from sklearn.preprocessing import OneHotEncoder\n",
        "from sklearn.feature_selection import SelectKBest, f_classif\n",
        "from sklearn.feature_selection import SelectKBest, chi2\n",
        "from imblearn.under_sampling import RandomUnderSampler\n",
        "from imblearn.under_sampling import NearMiss\n",
        "from sklearn.model_selection import train_test_split\n",
        "from sklearn.preprocessing import MinMaxScaler, StandardScaler\n",
        "from sklearn.neighbors import KNeighborsClassifier\n",
        "from sklearn.metrics import accuracy_score, precision_score, recall_score, f1_score, roc_auc_score\n",
        "from sklearn.preprocessing import label_binarize\n",
        "from sklearn.tree import DecisionTreeClassifier\n",
        "from sklearn.ensemble import RandomForestClassifier\n",
        "from sklearn.naive_bayes import GaussianNB\n",
        "from sklearn.preprocessing import label_binarize\n",
        "from sklearn.metrics import roc_curve, auc"
      ]
    },
    {
      "cell_type": "markdown",
      "metadata": {
        "id": "IzSgjfSQBDUu"
      },
      "source": [
        "# **Bộ dữ liệu CTU-13 từ Drive**"
      ]
    },
    {
      "cell_type": "code",
      "execution_count": null,
      "metadata": {
        "colab": {
          "base_uri": "https://localhost:8080/",
          "height": 423
        },
        "id": "bsS6c5GDBRQd",
        "outputId": "57385c41-6a26-4983-d68e-113f9bac4a1a"
      },
      "outputs": [
        {
          "data": {
            "application/vnd.google.colaboratory.intrinsic+json": {
              "type": "dataframe",
              "variable_name": "df"
            },
            "text/html": [
              "\n",
              "  <div id=\"df-c4826d95-cb33-48f0-a205-5885ba0c4e91\" class=\"colab-df-container\">\n",
              "    <div>\n",
              "<style scoped>\n",
              "    .dataframe tbody tr th:only-of-type {\n",
              "        vertical-align: middle;\n",
              "    }\n",
              "\n",
              "    .dataframe tbody tr th {\n",
              "        vertical-align: top;\n",
              "    }\n",
              "\n",
              "    .dataframe thead th {\n",
              "        text-align: right;\n",
              "    }\n",
              "</style>\n",
              "<table border=\"1\" class=\"dataframe\">\n",
              "  <thead>\n",
              "    <tr style=\"text-align: right;\">\n",
              "      <th></th>\n",
              "      <th>StartTime</th>\n",
              "      <th>Dur</th>\n",
              "      <th>Proto</th>\n",
              "      <th>SrcAddr</th>\n",
              "      <th>Sport</th>\n",
              "      <th>Dir</th>\n",
              "      <th>DstAddr</th>\n",
              "      <th>Dport</th>\n",
              "      <th>State</th>\n",
              "      <th>sTos</th>\n",
              "      <th>dTos</th>\n",
              "      <th>TotPkts</th>\n",
              "      <th>TotBytes</th>\n",
              "      <th>SrcBytes</th>\n",
              "      <th>Label</th>\n",
              "    </tr>\n",
              "  </thead>\n",
              "  <tbody>\n",
              "    <tr>\n",
              "      <th>0</th>\n",
              "      <td>2011/08/15 16:43:28.078942</td>\n",
              "      <td>0.000000</td>\n",
              "      <td>tcp</td>\n",
              "      <td>114.33.245.44</td>\n",
              "      <td>6881</td>\n",
              "      <td>?&gt;</td>\n",
              "      <td>147.32.84.118</td>\n",
              "      <td>1567</td>\n",
              "      <td>RA_</td>\n",
              "      <td>0.0</td>\n",
              "      <td>0.0</td>\n",
              "      <td>1</td>\n",
              "      <td>60</td>\n",
              "      <td>60</td>\n",
              "      <td>flow=Background</td>\n",
              "    </tr>\n",
              "    <tr>\n",
              "      <th>1</th>\n",
              "      <td>2011/08/15 16:43:32.283576</td>\n",
              "      <td>13.431962</td>\n",
              "      <td>tcp</td>\n",
              "      <td>212.93.105.52</td>\n",
              "      <td>49237</td>\n",
              "      <td>-&gt;</td>\n",
              "      <td>147.32.84.229</td>\n",
              "      <td>80</td>\n",
              "      <td>SRA_SA</td>\n",
              "      <td>0.0</td>\n",
              "      <td>0.0</td>\n",
              "      <td>6</td>\n",
              "      <td>388</td>\n",
              "      <td>208</td>\n",
              "      <td>flow=Background-TCP-Established</td>\n",
              "    </tr>\n",
              "    <tr>\n",
              "      <th>2</th>\n",
              "      <td>2011/08/15 16:43:32.456441</td>\n",
              "      <td>13.350228</td>\n",
              "      <td>tcp</td>\n",
              "      <td>212.93.105.52</td>\n",
              "      <td>14906</td>\n",
              "      <td>-&gt;</td>\n",
              "      <td>147.32.84.229</td>\n",
              "      <td>13363</td>\n",
              "      <td>SRA_SA</td>\n",
              "      <td>0.0</td>\n",
              "      <td>0.0</td>\n",
              "      <td>6</td>\n",
              "      <td>388</td>\n",
              "      <td>208</td>\n",
              "      <td>flow=Background-TCP-Established</td>\n",
              "    </tr>\n",
              "    <tr>\n",
              "      <th>3</th>\n",
              "      <td>2011/08/15 16:43:32.850648</td>\n",
              "      <td>13.010090</td>\n",
              "      <td>tcp</td>\n",
              "      <td>212.93.105.52</td>\n",
              "      <td>60349</td>\n",
              "      <td>-&gt;</td>\n",
              "      <td>147.32.84.229</td>\n",
              "      <td>443</td>\n",
              "      <td>SRA_SA</td>\n",
              "      <td>0.0</td>\n",
              "      <td>0.0</td>\n",
              "      <td>6</td>\n",
              "      <td>388</td>\n",
              "      <td>208</td>\n",
              "      <td>flow=Background-TCP-Established</td>\n",
              "    </tr>\n",
              "    <tr>\n",
              "      <th>4</th>\n",
              "      <td>2011/08/15 16:45:09.305002</td>\n",
              "      <td>20.990047</td>\n",
              "      <td>tcp</td>\n",
              "      <td>115.127.24.116</td>\n",
              "      <td>3198</td>\n",
              "      <td>-&gt;</td>\n",
              "      <td>147.32.84.229</td>\n",
              "      <td>443</td>\n",
              "      <td>SR_SA</td>\n",
              "      <td>0.0</td>\n",
              "      <td>0.0</td>\n",
              "      <td>5</td>\n",
              "      <td>308</td>\n",
              "      <td>122</td>\n",
              "      <td>flow=Background-TCP-Established</td>\n",
              "    </tr>\n",
              "    <tr>\n",
              "      <th>...</th>\n",
              "      <td>...</td>\n",
              "      <td>...</td>\n",
              "      <td>...</td>\n",
              "      <td>...</td>\n",
              "      <td>...</td>\n",
              "      <td>...</td>\n",
              "      <td>...</td>\n",
              "      <td>...</td>\n",
              "      <td>...</td>\n",
              "      <td>...</td>\n",
              "      <td>...</td>\n",
              "      <td>...</td>\n",
              "      <td>...</td>\n",
              "      <td>...</td>\n",
              "      <td>...</td>\n",
              "    </tr>\n",
              "    <tr>\n",
              "      <th>4593094</th>\n",
              "      <td>2011/08/18 15:04:59.579762</td>\n",
              "      <td>0.000158</td>\n",
              "      <td>tcp</td>\n",
              "      <td>219.129.213.146</td>\n",
              "      <td>25463</td>\n",
              "      <td>-&gt;</td>\n",
              "      <td>147.32.87.44</td>\n",
              "      <td>80</td>\n",
              "      <td>S_SA</td>\n",
              "      <td>0.0</td>\n",
              "      <td>0.0</td>\n",
              "      <td>2</td>\n",
              "      <td>152</td>\n",
              "      <td>78</td>\n",
              "      <td>flow=Background-TCP-Established</td>\n",
              "    </tr>\n",
              "    <tr>\n",
              "      <th>4593095</th>\n",
              "      <td>2011/08/18 15:04:59.626719</td>\n",
              "      <td>0.000688</td>\n",
              "      <td>udp</td>\n",
              "      <td>213.220.104.152</td>\n",
              "      <td>64126</td>\n",
              "      <td>&lt;-&gt;</td>\n",
              "      <td>147.32.84.229</td>\n",
              "      <td>13363</td>\n",
              "      <td>CON</td>\n",
              "      <td>0.0</td>\n",
              "      <td>0.0</td>\n",
              "      <td>2</td>\n",
              "      <td>306</td>\n",
              "      <td>244</td>\n",
              "      <td>flow=Background-UDP-Established</td>\n",
              "    </tr>\n",
              "    <tr>\n",
              "      <th>4593096</th>\n",
              "      <td>2011/08/18 15:04:59.686325</td>\n",
              "      <td>0.000689</td>\n",
              "      <td>udp</td>\n",
              "      <td>59.22.11.248</td>\n",
              "      <td>44432</td>\n",
              "      <td>&lt;-&gt;</td>\n",
              "      <td>147.32.84.229</td>\n",
              "      <td>13363</td>\n",
              "      <td>CON</td>\n",
              "      <td>0.0</td>\n",
              "      <td>0.0</td>\n",
              "      <td>2</td>\n",
              "      <td>144</td>\n",
              "      <td>83</td>\n",
              "      <td>flow=Background-UDP-Established</td>\n",
              "    </tr>\n",
              "    <tr>\n",
              "      <th>4593097</th>\n",
              "      <td>2011/08/18 15:04:59.690632</td>\n",
              "      <td>0.000000</td>\n",
              "      <td>udp</td>\n",
              "      <td>95.102.170.66</td>\n",
              "      <td>16978</td>\n",
              "      <td>-&gt;</td>\n",
              "      <td>147.32.84.229</td>\n",
              "      <td>13363</td>\n",
              "      <td>INT</td>\n",
              "      <td>0.0</td>\n",
              "      <td>NaN</td>\n",
              "      <td>1</td>\n",
              "      <td>172</td>\n",
              "      <td>172</td>\n",
              "      <td>flow=Background-UDP-Attempt</td>\n",
              "    </tr>\n",
              "    <tr>\n",
              "      <th>4593098</th>\n",
              "      <td>2011/08/18 15:04:59.703972</td>\n",
              "      <td>0.001252</td>\n",
              "      <td>tcp</td>\n",
              "      <td>147.32.86.223</td>\n",
              "      <td>52836</td>\n",
              "      <td>-&gt;</td>\n",
              "      <td>89.221.217.12</td>\n",
              "      <td>1935</td>\n",
              "      <td>SA_SA</td>\n",
              "      <td>0.0</td>\n",
              "      <td>0.0</td>\n",
              "      <td>3</td>\n",
              "      <td>192</td>\n",
              "      <td>126</td>\n",
              "      <td>flow=Background-TCP-Established</td>\n",
              "    </tr>\n",
              "  </tbody>\n",
              "</table>\n",
              "<p>4593099 rows × 15 columns</p>\n",
              "</div>\n",
              "    <div class=\"colab-df-buttons\">\n",
              "\n",
              "  <div class=\"colab-df-container\">\n",
              "    <button class=\"colab-df-convert\" onclick=\"convertToInteractive('df-c4826d95-cb33-48f0-a205-5885ba0c4e91')\"\n",
              "            title=\"Convert this dataframe to an interactive table.\"\n",
              "            style=\"display:none;\">\n",
              "\n",
              "  <svg xmlns=\"http://www.w3.org/2000/svg\" height=\"24px\" viewBox=\"0 -960 960 960\">\n",
              "    <path d=\"M120-120v-720h720v720H120Zm60-500h600v-160H180v160Zm220 220h160v-160H400v160Zm0 220h160v-160H400v160ZM180-400h160v-160H180v160Zm440 0h160v-160H620v160ZM180-180h160v-160H180v160Zm440 0h160v-160H620v160Z\"/>\n",
              "  </svg>\n",
              "    </button>\n",
              "\n",
              "  <style>\n",
              "    .colab-df-container {\n",
              "      display:flex;\n",
              "      gap: 12px;\n",
              "    }\n",
              "\n",
              "    .colab-df-convert {\n",
              "      background-color: #E8F0FE;\n",
              "      border: none;\n",
              "      border-radius: 50%;\n",
              "      cursor: pointer;\n",
              "      display: none;\n",
              "      fill: #1967D2;\n",
              "      height: 32px;\n",
              "      padding: 0 0 0 0;\n",
              "      width: 32px;\n",
              "    }\n",
              "\n",
              "    .colab-df-convert:hover {\n",
              "      background-color: #E2EBFA;\n",
              "      box-shadow: 0px 1px 2px rgba(60, 64, 67, 0.3), 0px 1px 3px 1px rgba(60, 64, 67, 0.15);\n",
              "      fill: #174EA6;\n",
              "    }\n",
              "\n",
              "    .colab-df-buttons div {\n",
              "      margin-bottom: 4px;\n",
              "    }\n",
              "\n",
              "    [theme=dark] .colab-df-convert {\n",
              "      background-color: #3B4455;\n",
              "      fill: #D2E3FC;\n",
              "    }\n",
              "\n",
              "    [theme=dark] .colab-df-convert:hover {\n",
              "      background-color: #434B5C;\n",
              "      box-shadow: 0px 1px 3px 1px rgba(0, 0, 0, 0.15);\n",
              "      filter: drop-shadow(0px 1px 2px rgba(0, 0, 0, 0.3));\n",
              "      fill: #FFFFFF;\n",
              "    }\n",
              "  </style>\n",
              "\n",
              "    <script>\n",
              "      const buttonEl =\n",
              "        document.querySelector('#df-c4826d95-cb33-48f0-a205-5885ba0c4e91 button.colab-df-convert');\n",
              "      buttonEl.style.display =\n",
              "        google.colab.kernel.accessAllowed ? 'block' : 'none';\n",
              "\n",
              "      async function convertToInteractive(key) {\n",
              "        const element = document.querySelector('#df-c4826d95-cb33-48f0-a205-5885ba0c4e91');\n",
              "        const dataTable =\n",
              "          await google.colab.kernel.invokeFunction('convertToInteractive',\n",
              "                                                    [key], {});\n",
              "        if (!dataTable) return;\n",
              "\n",
              "        const docLinkHtml = 'Like what you see? Visit the ' +\n",
              "          '<a target=\"_blank\" href=https://colab.research.google.com/notebooks/data_table.ipynb>data table notebook</a>'\n",
              "          + ' to learn more about interactive tables.';\n",
              "        element.innerHTML = '';\n",
              "        dataTable['output_type'] = 'display_data';\n",
              "        await google.colab.output.renderOutput(dataTable, element);\n",
              "        const docLink = document.createElement('div');\n",
              "        docLink.innerHTML = docLinkHtml;\n",
              "        element.appendChild(docLink);\n",
              "      }\n",
              "    </script>\n",
              "  </div>\n",
              "\n",
              "\n",
              "    <div id=\"df-2d4e3f5b-3cda-4f6b-9651-858f8e2c43ca\">\n",
              "      <button class=\"colab-df-quickchart\" onclick=\"quickchart('df-2d4e3f5b-3cda-4f6b-9651-858f8e2c43ca')\"\n",
              "                title=\"Suggest charts\"\n",
              "                style=\"display:none;\">\n",
              "\n",
              "<svg xmlns=\"http://www.w3.org/2000/svg\" height=\"24px\"viewBox=\"0 0 24 24\"\n",
              "     width=\"24px\">\n",
              "    <g>\n",
              "        <path d=\"M19 3H5c-1.1 0-2 .9-2 2v14c0 1.1.9 2 2 2h14c1.1 0 2-.9 2-2V5c0-1.1-.9-2-2-2zM9 17H7v-7h2v7zm4 0h-2V7h2v10zm4 0h-2v-4h2v4z\"/>\n",
              "    </g>\n",
              "</svg>\n",
              "      </button>\n",
              "\n",
              "<style>\n",
              "  .colab-df-quickchart {\n",
              "      --bg-color: #E8F0FE;\n",
              "      --fill-color: #1967D2;\n",
              "      --hover-bg-color: #E2EBFA;\n",
              "      --hover-fill-color: #174EA6;\n",
              "      --disabled-fill-color: #AAA;\n",
              "      --disabled-bg-color: #DDD;\n",
              "  }\n",
              "\n",
              "  [theme=dark] .colab-df-quickchart {\n",
              "      --bg-color: #3B4455;\n",
              "      --fill-color: #D2E3FC;\n",
              "      --hover-bg-color: #434B5C;\n",
              "      --hover-fill-color: #FFFFFF;\n",
              "      --disabled-bg-color: #3B4455;\n",
              "      --disabled-fill-color: #666;\n",
              "  }\n",
              "\n",
              "  .colab-df-quickchart {\n",
              "    background-color: var(--bg-color);\n",
              "    border: none;\n",
              "    border-radius: 50%;\n",
              "    cursor: pointer;\n",
              "    display: none;\n",
              "    fill: var(--fill-color);\n",
              "    height: 32px;\n",
              "    padding: 0;\n",
              "    width: 32px;\n",
              "  }\n",
              "\n",
              "  .colab-df-quickchart:hover {\n",
              "    background-color: var(--hover-bg-color);\n",
              "    box-shadow: 0 1px 2px rgba(60, 64, 67, 0.3), 0 1px 3px 1px rgba(60, 64, 67, 0.15);\n",
              "    fill: var(--button-hover-fill-color);\n",
              "  }\n",
              "\n",
              "  .colab-df-quickchart-complete:disabled,\n",
              "  .colab-df-quickchart-complete:disabled:hover {\n",
              "    background-color: var(--disabled-bg-color);\n",
              "    fill: var(--disabled-fill-color);\n",
              "    box-shadow: none;\n",
              "  }\n",
              "\n",
              "  .colab-df-spinner {\n",
              "    border: 2px solid var(--fill-color);\n",
              "    border-color: transparent;\n",
              "    border-bottom-color: var(--fill-color);\n",
              "    animation:\n",
              "      spin 1s steps(1) infinite;\n",
              "  }\n",
              "\n",
              "  @keyframes spin {\n",
              "    0% {\n",
              "      border-color: transparent;\n",
              "      border-bottom-color: var(--fill-color);\n",
              "      border-left-color: var(--fill-color);\n",
              "    }\n",
              "    20% {\n",
              "      border-color: transparent;\n",
              "      border-left-color: var(--fill-color);\n",
              "      border-top-color: var(--fill-color);\n",
              "    }\n",
              "    30% {\n",
              "      border-color: transparent;\n",
              "      border-left-color: var(--fill-color);\n",
              "      border-top-color: var(--fill-color);\n",
              "      border-right-color: var(--fill-color);\n",
              "    }\n",
              "    40% {\n",
              "      border-color: transparent;\n",
              "      border-right-color: var(--fill-color);\n",
              "      border-top-color: var(--fill-color);\n",
              "    }\n",
              "    60% {\n",
              "      border-color: transparent;\n",
              "      border-right-color: var(--fill-color);\n",
              "    }\n",
              "    80% {\n",
              "      border-color: transparent;\n",
              "      border-right-color: var(--fill-color);\n",
              "      border-bottom-color: var(--fill-color);\n",
              "    }\n",
              "    90% {\n",
              "      border-color: transparent;\n",
              "      border-bottom-color: var(--fill-color);\n",
              "    }\n",
              "  }\n",
              "</style>\n",
              "\n",
              "      <script>\n",
              "        async function quickchart(key) {\n",
              "          const quickchartButtonEl =\n",
              "            document.querySelector('#' + key + ' button');\n",
              "          quickchartButtonEl.disabled = true;  // To prevent multiple clicks.\n",
              "          quickchartButtonEl.classList.add('colab-df-spinner');\n",
              "          try {\n",
              "            const charts = await google.colab.kernel.invokeFunction(\n",
              "                'suggestCharts', [key], {});\n",
              "          } catch (error) {\n",
              "            console.error('Error during call to suggestCharts:', error);\n",
              "          }\n",
              "          quickchartButtonEl.classList.remove('colab-df-spinner');\n",
              "          quickchartButtonEl.classList.add('colab-df-quickchart-complete');\n",
              "        }\n",
              "        (() => {\n",
              "          let quickchartButtonEl =\n",
              "            document.querySelector('#df-2d4e3f5b-3cda-4f6b-9651-858f8e2c43ca button');\n",
              "          quickchartButtonEl.style.display =\n",
              "            google.colab.kernel.accessAllowed ? 'block' : 'none';\n",
              "        })();\n",
              "      </script>\n",
              "    </div>\n",
              "\n",
              "  <div id=\"id_556d3b2d-24ed-497c-a8eb-055bc119ab52\">\n",
              "    <style>\n",
              "      .colab-df-generate {\n",
              "        background-color: #E8F0FE;\n",
              "        border: none;\n",
              "        border-radius: 50%;\n",
              "        cursor: pointer;\n",
              "        display: none;\n",
              "        fill: #1967D2;\n",
              "        height: 32px;\n",
              "        padding: 0 0 0 0;\n",
              "        width: 32px;\n",
              "      }\n",
              "\n",
              "      .colab-df-generate:hover {\n",
              "        background-color: #E2EBFA;\n",
              "        box-shadow: 0px 1px 2px rgba(60, 64, 67, 0.3), 0px 1px 3px 1px rgba(60, 64, 67, 0.15);\n",
              "        fill: #174EA6;\n",
              "      }\n",
              "\n",
              "      [theme=dark] .colab-df-generate {\n",
              "        background-color: #3B4455;\n",
              "        fill: #D2E3FC;\n",
              "      }\n",
              "\n",
              "      [theme=dark] .colab-df-generate:hover {\n",
              "        background-color: #434B5C;\n",
              "        box-shadow: 0px 1px 3px 1px rgba(0, 0, 0, 0.15);\n",
              "        filter: drop-shadow(0px 1px 2px rgba(0, 0, 0, 0.3));\n",
              "        fill: #FFFFFF;\n",
              "      }\n",
              "    </style>\n",
              "    <button class=\"colab-df-generate\" onclick=\"generateWithVariable('df')\"\n",
              "            title=\"Generate code using this dataframe.\"\n",
              "            style=\"display:none;\">\n",
              "\n",
              "  <svg xmlns=\"http://www.w3.org/2000/svg\" height=\"24px\"viewBox=\"0 0 24 24\"\n",
              "       width=\"24px\">\n",
              "    <path d=\"M7,19H8.4L18.45,9,17,7.55,7,17.6ZM5,21V16.75L18.45,3.32a2,2,0,0,1,2.83,0l1.4,1.43a1.91,1.91,0,0,1,.58,1.4,1.91,1.91,0,0,1-.58,1.4L9.25,21ZM18.45,9,17,7.55Zm-12,3A5.31,5.31,0,0,0,4.9,8.1,5.31,5.31,0,0,0,1,6.5,5.31,5.31,0,0,0,4.9,4.9,5.31,5.31,0,0,0,6.5,1,5.31,5.31,0,0,0,8.1,4.9,5.31,5.31,0,0,0,12,6.5,5.46,5.46,0,0,0,6.5,12Z\"/>\n",
              "  </svg>\n",
              "    </button>\n",
              "    <script>\n",
              "      (() => {\n",
              "      const buttonEl =\n",
              "        document.querySelector('#id_556d3b2d-24ed-497c-a8eb-055bc119ab52 button.colab-df-generate');\n",
              "      buttonEl.style.display =\n",
              "        google.colab.kernel.accessAllowed ? 'block' : 'none';\n",
              "\n",
              "      buttonEl.onclick = () => {\n",
              "        google.colab.notebook.generateWithVariable('df');\n",
              "      }\n",
              "      })();\n",
              "    </script>\n",
              "  </div>\n",
              "\n",
              "    </div>\n",
              "  </div>\n"
            ],
            "text/plain": [
              "                          StartTime        Dur Proto          SrcAddr  Sport  \\\n",
              "0        2011/08/15 16:43:28.078942   0.000000   tcp    114.33.245.44   6881   \n",
              "1        2011/08/15 16:43:32.283576  13.431962   tcp    212.93.105.52  49237   \n",
              "2        2011/08/15 16:43:32.456441  13.350228   tcp    212.93.105.52  14906   \n",
              "3        2011/08/15 16:43:32.850648  13.010090   tcp    212.93.105.52  60349   \n",
              "4        2011/08/15 16:45:09.305002  20.990047   tcp   115.127.24.116   3198   \n",
              "...                             ...        ...   ...              ...    ...   \n",
              "4593094  2011/08/18 15:04:59.579762   0.000158   tcp  219.129.213.146  25463   \n",
              "4593095  2011/08/18 15:04:59.626719   0.000688   udp  213.220.104.152  64126   \n",
              "4593096  2011/08/18 15:04:59.686325   0.000689   udp     59.22.11.248  44432   \n",
              "4593097  2011/08/18 15:04:59.690632   0.000000   udp    95.102.170.66  16978   \n",
              "4593098  2011/08/18 15:04:59.703972   0.001252   tcp    147.32.86.223  52836   \n",
              "\n",
              "           Dir        DstAddr  Dport   State  sTos  dTos  TotPkts  TotBytes  \\\n",
              "0           ?>  147.32.84.118   1567     RA_   0.0   0.0        1        60   \n",
              "1           ->  147.32.84.229     80  SRA_SA   0.0   0.0        6       388   \n",
              "2           ->  147.32.84.229  13363  SRA_SA   0.0   0.0        6       388   \n",
              "3           ->  147.32.84.229    443  SRA_SA   0.0   0.0        6       388   \n",
              "4           ->  147.32.84.229    443   SR_SA   0.0   0.0        5       308   \n",
              "...        ...            ...    ...     ...   ...   ...      ...       ...   \n",
              "4593094     ->   147.32.87.44     80    S_SA   0.0   0.0        2       152   \n",
              "4593095    <->  147.32.84.229  13363     CON   0.0   0.0        2       306   \n",
              "4593096    <->  147.32.84.229  13363     CON   0.0   0.0        2       144   \n",
              "4593097     ->  147.32.84.229  13363     INT   0.0   NaN        1       172   \n",
              "4593098     ->  89.221.217.12   1935   SA_SA   0.0   0.0        3       192   \n",
              "\n",
              "         SrcBytes                            Label  \n",
              "0              60                  flow=Background  \n",
              "1             208  flow=Background-TCP-Established  \n",
              "2             208  flow=Background-TCP-Established  \n",
              "3             208  flow=Background-TCP-Established  \n",
              "4             122  flow=Background-TCP-Established  \n",
              "...           ...                              ...  \n",
              "4593094        78  flow=Background-TCP-Established  \n",
              "4593095       244  flow=Background-UDP-Established  \n",
              "4593096        83  flow=Background-UDP-Established  \n",
              "4593097       172      flow=Background-UDP-Attempt  \n",
              "4593098       126  flow=Background-TCP-Established  \n",
              "\n",
              "[4593099 rows x 15 columns]"
            ]
          },
          "execution_count": 3,
          "metadata": {},
          "output_type": "execute_result"
        }
      ],
      "source": [
        "folder_path = '/content/drive/MyDrive/my_dataset/dataset'\n",
        "df3 = pd.read_csv(os.path.join(folder_path, 'capture20110815-2.csv'))\n",
        "df4 = pd.read_csv(os.path.join(folder_path, 'capture20110815-3.csv'))\n",
        "df5 = pd.read_csv(os.path.join(folder_path, 'capture20110815.csv'))\n",
        "df10 = pd.read_csv(os.path.join(folder_path, 'capture20110818-2.csv'))\n",
        "df12 = pd.read_csv(os.path.join(folder_path, 'capture20110818.csv'))\n",
        "df = pd.concat([df3, df4, df5, df10, df12], ignore_index=True)\n",
        "df"
      ]
    },
    {
      "cell_type": "markdown",
      "metadata": {
        "id": "uaii_js3EI0F"
      },
      "source": [
        "# **1.Tiền xử lí bộ dữ liệu**\n",
        "\n"
      ]
    },
    {
      "cell_type": "markdown",
      "metadata": {
        "id": "0EX9QEV0E5T-"
      },
      "source": [
        "## **1.1.Xử lí giá trị nhãn**"
      ]
    },
    {
      "cell_type": "code",
      "execution_count": null,
      "metadata": {
        "colab": {
          "base_uri": "https://localhost:8080/",
          "height": 209
        },
        "id": "cv10BSeXzsDv",
        "outputId": "f20fdbe2-39d2-4089-e05b-0b37009b696d"
      },
      "outputs": [
        {
          "data": {
            "text/html": [
              "<div>\n",
              "<style scoped>\n",
              "    .dataframe tbody tr th:only-of-type {\n",
              "        vertical-align: middle;\n",
              "    }\n",
              "\n",
              "    .dataframe tbody tr th {\n",
              "        vertical-align: top;\n",
              "    }\n",
              "\n",
              "    .dataframe thead th {\n",
              "        text-align: right;\n",
              "    }\n",
              "</style>\n",
              "<table border=\"1\" class=\"dataframe\">\n",
              "  <thead>\n",
              "    <tr style=\"text-align: right;\">\n",
              "      <th></th>\n",
              "      <th>count</th>\n",
              "    </tr>\n",
              "    <tr>\n",
              "      <th>Label</th>\n",
              "      <th></th>\n",
              "    </tr>\n",
              "  </thead>\n",
              "  <tbody>\n",
              "    <tr>\n",
              "      <th>0</th>\n",
              "      <td>4354648</td>\n",
              "    </tr>\n",
              "    <tr>\n",
              "      <th>1</th>\n",
              "      <td>158000</td>\n",
              "    </tr>\n",
              "    <tr>\n",
              "      <th>2</th>\n",
              "      <td>80451</td>\n",
              "    </tr>\n",
              "  </tbody>\n",
              "</table>\n",
              "</div><br><label><b>dtype:</b> int64</label>"
            ],
            "text/plain": [
              "Label\n",
              "0    4354648\n",
              "1     158000\n",
              "2      80451\n",
              "Name: count, dtype: int64"
            ]
          },
          "execution_count": 4,
          "metadata": {},
          "output_type": "execute_result"
        }
      ],
      "source": [
        "lst = []\n",
        "for i in df['Label']:\n",
        "    if 'Botnet' in i:\n",
        "        lst.append(1)\n",
        "    elif 'Normal' in i:\n",
        "        lst.append(2)\n",
        "    else:\n",
        "        lst.append(0)\n",
        "\n",
        "df['Label'] = lst\n",
        "df['Label'].value_counts()"
      ]
    },
    {
      "cell_type": "markdown",
      "metadata": {
        "id": "b4iVh4rYDC6V"
      },
      "source": [
        "##**1.2.Xoá các cột ‘StartTime’, ‘SrcAddr’, ‘Sport’, ‘DstAddr’, ‘Dport’, ‘State’**"
      ]
    },
    {
      "cell_type": "code",
      "execution_count": null,
      "metadata": {
        "colab": {
          "base_uri": "https://localhost:8080/",
          "height": 423
        },
        "id": "LWn-SO3oDGtN",
        "outputId": "38c3d6e4-1f3d-4f83-c5aa-3f2cef097d3c"
      },
      "outputs": [
        {
          "data": {
            "application/vnd.google.colaboratory.intrinsic+json": {
              "type": "dataframe",
              "variable_name": "df"
            },
            "text/html": [
              "\n",
              "  <div id=\"df-05ea3521-5185-442e-9fc4-ddcb6503998c\" class=\"colab-df-container\">\n",
              "    <div>\n",
              "<style scoped>\n",
              "    .dataframe tbody tr th:only-of-type {\n",
              "        vertical-align: middle;\n",
              "    }\n",
              "\n",
              "    .dataframe tbody tr th {\n",
              "        vertical-align: top;\n",
              "    }\n",
              "\n",
              "    .dataframe thead th {\n",
              "        text-align: right;\n",
              "    }\n",
              "</style>\n",
              "<table border=\"1\" class=\"dataframe\">\n",
              "  <thead>\n",
              "    <tr style=\"text-align: right;\">\n",
              "      <th></th>\n",
              "      <th>Dur</th>\n",
              "      <th>Proto</th>\n",
              "      <th>Dir</th>\n",
              "      <th>sTos</th>\n",
              "      <th>dTos</th>\n",
              "      <th>TotPkts</th>\n",
              "      <th>TotBytes</th>\n",
              "      <th>SrcBytes</th>\n",
              "      <th>Label</th>\n",
              "    </tr>\n",
              "  </thead>\n",
              "  <tbody>\n",
              "    <tr>\n",
              "      <th>0</th>\n",
              "      <td>0.000000</td>\n",
              "      <td>tcp</td>\n",
              "      <td>?&gt;</td>\n",
              "      <td>0.0</td>\n",
              "      <td>0.0</td>\n",
              "      <td>1</td>\n",
              "      <td>60</td>\n",
              "      <td>60</td>\n",
              "      <td>0</td>\n",
              "    </tr>\n",
              "    <tr>\n",
              "      <th>1</th>\n",
              "      <td>13.431962</td>\n",
              "      <td>tcp</td>\n",
              "      <td>-&gt;</td>\n",
              "      <td>0.0</td>\n",
              "      <td>0.0</td>\n",
              "      <td>6</td>\n",
              "      <td>388</td>\n",
              "      <td>208</td>\n",
              "      <td>0</td>\n",
              "    </tr>\n",
              "    <tr>\n",
              "      <th>2</th>\n",
              "      <td>13.350228</td>\n",
              "      <td>tcp</td>\n",
              "      <td>-&gt;</td>\n",
              "      <td>0.0</td>\n",
              "      <td>0.0</td>\n",
              "      <td>6</td>\n",
              "      <td>388</td>\n",
              "      <td>208</td>\n",
              "      <td>0</td>\n",
              "    </tr>\n",
              "    <tr>\n",
              "      <th>3</th>\n",
              "      <td>13.010090</td>\n",
              "      <td>tcp</td>\n",
              "      <td>-&gt;</td>\n",
              "      <td>0.0</td>\n",
              "      <td>0.0</td>\n",
              "      <td>6</td>\n",
              "      <td>388</td>\n",
              "      <td>208</td>\n",
              "      <td>0</td>\n",
              "    </tr>\n",
              "    <tr>\n",
              "      <th>4</th>\n",
              "      <td>20.990047</td>\n",
              "      <td>tcp</td>\n",
              "      <td>-&gt;</td>\n",
              "      <td>0.0</td>\n",
              "      <td>0.0</td>\n",
              "      <td>5</td>\n",
              "      <td>308</td>\n",
              "      <td>122</td>\n",
              "      <td>0</td>\n",
              "    </tr>\n",
              "    <tr>\n",
              "      <th>...</th>\n",
              "      <td>...</td>\n",
              "      <td>...</td>\n",
              "      <td>...</td>\n",
              "      <td>...</td>\n",
              "      <td>...</td>\n",
              "      <td>...</td>\n",
              "      <td>...</td>\n",
              "      <td>...</td>\n",
              "      <td>...</td>\n",
              "    </tr>\n",
              "    <tr>\n",
              "      <th>4593094</th>\n",
              "      <td>0.000158</td>\n",
              "      <td>tcp</td>\n",
              "      <td>-&gt;</td>\n",
              "      <td>0.0</td>\n",
              "      <td>0.0</td>\n",
              "      <td>2</td>\n",
              "      <td>152</td>\n",
              "      <td>78</td>\n",
              "      <td>0</td>\n",
              "    </tr>\n",
              "    <tr>\n",
              "      <th>4593095</th>\n",
              "      <td>0.000688</td>\n",
              "      <td>udp</td>\n",
              "      <td>&lt;-&gt;</td>\n",
              "      <td>0.0</td>\n",
              "      <td>0.0</td>\n",
              "      <td>2</td>\n",
              "      <td>306</td>\n",
              "      <td>244</td>\n",
              "      <td>0</td>\n",
              "    </tr>\n",
              "    <tr>\n",
              "      <th>4593096</th>\n",
              "      <td>0.000689</td>\n",
              "      <td>udp</td>\n",
              "      <td>&lt;-&gt;</td>\n",
              "      <td>0.0</td>\n",
              "      <td>0.0</td>\n",
              "      <td>2</td>\n",
              "      <td>144</td>\n",
              "      <td>83</td>\n",
              "      <td>0</td>\n",
              "    </tr>\n",
              "    <tr>\n",
              "      <th>4593097</th>\n",
              "      <td>0.000000</td>\n",
              "      <td>udp</td>\n",
              "      <td>-&gt;</td>\n",
              "      <td>0.0</td>\n",
              "      <td>NaN</td>\n",
              "      <td>1</td>\n",
              "      <td>172</td>\n",
              "      <td>172</td>\n",
              "      <td>0</td>\n",
              "    </tr>\n",
              "    <tr>\n",
              "      <th>4593098</th>\n",
              "      <td>0.001252</td>\n",
              "      <td>tcp</td>\n",
              "      <td>-&gt;</td>\n",
              "      <td>0.0</td>\n",
              "      <td>0.0</td>\n",
              "      <td>3</td>\n",
              "      <td>192</td>\n",
              "      <td>126</td>\n",
              "      <td>0</td>\n",
              "    </tr>\n",
              "  </tbody>\n",
              "</table>\n",
              "<p>4593099 rows × 9 columns</p>\n",
              "</div>\n",
              "    <div class=\"colab-df-buttons\">\n",
              "\n",
              "  <div class=\"colab-df-container\">\n",
              "    <button class=\"colab-df-convert\" onclick=\"convertToInteractive('df-05ea3521-5185-442e-9fc4-ddcb6503998c')\"\n",
              "            title=\"Convert this dataframe to an interactive table.\"\n",
              "            style=\"display:none;\">\n",
              "\n",
              "  <svg xmlns=\"http://www.w3.org/2000/svg\" height=\"24px\" viewBox=\"0 -960 960 960\">\n",
              "    <path d=\"M120-120v-720h720v720H120Zm60-500h600v-160H180v160Zm220 220h160v-160H400v160Zm0 220h160v-160H400v160ZM180-400h160v-160H180v160Zm440 0h160v-160H620v160ZM180-180h160v-160H180v160Zm440 0h160v-160H620v160Z\"/>\n",
              "  </svg>\n",
              "    </button>\n",
              "\n",
              "  <style>\n",
              "    .colab-df-container {\n",
              "      display:flex;\n",
              "      gap: 12px;\n",
              "    }\n",
              "\n",
              "    .colab-df-convert {\n",
              "      background-color: #E8F0FE;\n",
              "      border: none;\n",
              "      border-radius: 50%;\n",
              "      cursor: pointer;\n",
              "      display: none;\n",
              "      fill: #1967D2;\n",
              "      height: 32px;\n",
              "      padding: 0 0 0 0;\n",
              "      width: 32px;\n",
              "    }\n",
              "\n",
              "    .colab-df-convert:hover {\n",
              "      background-color: #E2EBFA;\n",
              "      box-shadow: 0px 1px 2px rgba(60, 64, 67, 0.3), 0px 1px 3px 1px rgba(60, 64, 67, 0.15);\n",
              "      fill: #174EA6;\n",
              "    }\n",
              "\n",
              "    .colab-df-buttons div {\n",
              "      margin-bottom: 4px;\n",
              "    }\n",
              "\n",
              "    [theme=dark] .colab-df-convert {\n",
              "      background-color: #3B4455;\n",
              "      fill: #D2E3FC;\n",
              "    }\n",
              "\n",
              "    [theme=dark] .colab-df-convert:hover {\n",
              "      background-color: #434B5C;\n",
              "      box-shadow: 0px 1px 3px 1px rgba(0, 0, 0, 0.15);\n",
              "      filter: drop-shadow(0px 1px 2px rgba(0, 0, 0, 0.3));\n",
              "      fill: #FFFFFF;\n",
              "    }\n",
              "  </style>\n",
              "\n",
              "    <script>\n",
              "      const buttonEl =\n",
              "        document.querySelector('#df-05ea3521-5185-442e-9fc4-ddcb6503998c button.colab-df-convert');\n",
              "      buttonEl.style.display =\n",
              "        google.colab.kernel.accessAllowed ? 'block' : 'none';\n",
              "\n",
              "      async function convertToInteractive(key) {\n",
              "        const element = document.querySelector('#df-05ea3521-5185-442e-9fc4-ddcb6503998c');\n",
              "        const dataTable =\n",
              "          await google.colab.kernel.invokeFunction('convertToInteractive',\n",
              "                                                    [key], {});\n",
              "        if (!dataTable) return;\n",
              "\n",
              "        const docLinkHtml = 'Like what you see? Visit the ' +\n",
              "          '<a target=\"_blank\" href=https://colab.research.google.com/notebooks/data_table.ipynb>data table notebook</a>'\n",
              "          + ' to learn more about interactive tables.';\n",
              "        element.innerHTML = '';\n",
              "        dataTable['output_type'] = 'display_data';\n",
              "        await google.colab.output.renderOutput(dataTable, element);\n",
              "        const docLink = document.createElement('div');\n",
              "        docLink.innerHTML = docLinkHtml;\n",
              "        element.appendChild(docLink);\n",
              "      }\n",
              "    </script>\n",
              "  </div>\n",
              "\n",
              "\n",
              "    <div id=\"df-c768cfd3-156a-429e-8fc0-d1d3ff5a53ef\">\n",
              "      <button class=\"colab-df-quickchart\" onclick=\"quickchart('df-c768cfd3-156a-429e-8fc0-d1d3ff5a53ef')\"\n",
              "                title=\"Suggest charts\"\n",
              "                style=\"display:none;\">\n",
              "\n",
              "<svg xmlns=\"http://www.w3.org/2000/svg\" height=\"24px\"viewBox=\"0 0 24 24\"\n",
              "     width=\"24px\">\n",
              "    <g>\n",
              "        <path d=\"M19 3H5c-1.1 0-2 .9-2 2v14c0 1.1.9 2 2 2h14c1.1 0 2-.9 2-2V5c0-1.1-.9-2-2-2zM9 17H7v-7h2v7zm4 0h-2V7h2v10zm4 0h-2v-4h2v4z\"/>\n",
              "    </g>\n",
              "</svg>\n",
              "      </button>\n",
              "\n",
              "<style>\n",
              "  .colab-df-quickchart {\n",
              "      --bg-color: #E8F0FE;\n",
              "      --fill-color: #1967D2;\n",
              "      --hover-bg-color: #E2EBFA;\n",
              "      --hover-fill-color: #174EA6;\n",
              "      --disabled-fill-color: #AAA;\n",
              "      --disabled-bg-color: #DDD;\n",
              "  }\n",
              "\n",
              "  [theme=dark] .colab-df-quickchart {\n",
              "      --bg-color: #3B4455;\n",
              "      --fill-color: #D2E3FC;\n",
              "      --hover-bg-color: #434B5C;\n",
              "      --hover-fill-color: #FFFFFF;\n",
              "      --disabled-bg-color: #3B4455;\n",
              "      --disabled-fill-color: #666;\n",
              "  }\n",
              "\n",
              "  .colab-df-quickchart {\n",
              "    background-color: var(--bg-color);\n",
              "    border: none;\n",
              "    border-radius: 50%;\n",
              "    cursor: pointer;\n",
              "    display: none;\n",
              "    fill: var(--fill-color);\n",
              "    height: 32px;\n",
              "    padding: 0;\n",
              "    width: 32px;\n",
              "  }\n",
              "\n",
              "  .colab-df-quickchart:hover {\n",
              "    background-color: var(--hover-bg-color);\n",
              "    box-shadow: 0 1px 2px rgba(60, 64, 67, 0.3), 0 1px 3px 1px rgba(60, 64, 67, 0.15);\n",
              "    fill: var(--button-hover-fill-color);\n",
              "  }\n",
              "\n",
              "  .colab-df-quickchart-complete:disabled,\n",
              "  .colab-df-quickchart-complete:disabled:hover {\n",
              "    background-color: var(--disabled-bg-color);\n",
              "    fill: var(--disabled-fill-color);\n",
              "    box-shadow: none;\n",
              "  }\n",
              "\n",
              "  .colab-df-spinner {\n",
              "    border: 2px solid var(--fill-color);\n",
              "    border-color: transparent;\n",
              "    border-bottom-color: var(--fill-color);\n",
              "    animation:\n",
              "      spin 1s steps(1) infinite;\n",
              "  }\n",
              "\n",
              "  @keyframes spin {\n",
              "    0% {\n",
              "      border-color: transparent;\n",
              "      border-bottom-color: var(--fill-color);\n",
              "      border-left-color: var(--fill-color);\n",
              "    }\n",
              "    20% {\n",
              "      border-color: transparent;\n",
              "      border-left-color: var(--fill-color);\n",
              "      border-top-color: var(--fill-color);\n",
              "    }\n",
              "    30% {\n",
              "      border-color: transparent;\n",
              "      border-left-color: var(--fill-color);\n",
              "      border-top-color: var(--fill-color);\n",
              "      border-right-color: var(--fill-color);\n",
              "    }\n",
              "    40% {\n",
              "      border-color: transparent;\n",
              "      border-right-color: var(--fill-color);\n",
              "      border-top-color: var(--fill-color);\n",
              "    }\n",
              "    60% {\n",
              "      border-color: transparent;\n",
              "      border-right-color: var(--fill-color);\n",
              "    }\n",
              "    80% {\n",
              "      border-color: transparent;\n",
              "      border-right-color: var(--fill-color);\n",
              "      border-bottom-color: var(--fill-color);\n",
              "    }\n",
              "    90% {\n",
              "      border-color: transparent;\n",
              "      border-bottom-color: var(--fill-color);\n",
              "    }\n",
              "  }\n",
              "</style>\n",
              "\n",
              "      <script>\n",
              "        async function quickchart(key) {\n",
              "          const quickchartButtonEl =\n",
              "            document.querySelector('#' + key + ' button');\n",
              "          quickchartButtonEl.disabled = true;  // To prevent multiple clicks.\n",
              "          quickchartButtonEl.classList.add('colab-df-spinner');\n",
              "          try {\n",
              "            const charts = await google.colab.kernel.invokeFunction(\n",
              "                'suggestCharts', [key], {});\n",
              "          } catch (error) {\n",
              "            console.error('Error during call to suggestCharts:', error);\n",
              "          }\n",
              "          quickchartButtonEl.classList.remove('colab-df-spinner');\n",
              "          quickchartButtonEl.classList.add('colab-df-quickchart-complete');\n",
              "        }\n",
              "        (() => {\n",
              "          let quickchartButtonEl =\n",
              "            document.querySelector('#df-c768cfd3-156a-429e-8fc0-d1d3ff5a53ef button');\n",
              "          quickchartButtonEl.style.display =\n",
              "            google.colab.kernel.accessAllowed ? 'block' : 'none';\n",
              "        })();\n",
              "      </script>\n",
              "    </div>\n",
              "\n",
              "  <div id=\"id_ffd43289-8414-49d7-bd07-565a7f13e76e\">\n",
              "    <style>\n",
              "      .colab-df-generate {\n",
              "        background-color: #E8F0FE;\n",
              "        border: none;\n",
              "        border-radius: 50%;\n",
              "        cursor: pointer;\n",
              "        display: none;\n",
              "        fill: #1967D2;\n",
              "        height: 32px;\n",
              "        padding: 0 0 0 0;\n",
              "        width: 32px;\n",
              "      }\n",
              "\n",
              "      .colab-df-generate:hover {\n",
              "        background-color: #E2EBFA;\n",
              "        box-shadow: 0px 1px 2px rgba(60, 64, 67, 0.3), 0px 1px 3px 1px rgba(60, 64, 67, 0.15);\n",
              "        fill: #174EA6;\n",
              "      }\n",
              "\n",
              "      [theme=dark] .colab-df-generate {\n",
              "        background-color: #3B4455;\n",
              "        fill: #D2E3FC;\n",
              "      }\n",
              "\n",
              "      [theme=dark] .colab-df-generate:hover {\n",
              "        background-color: #434B5C;\n",
              "        box-shadow: 0px 1px 3px 1px rgba(0, 0, 0, 0.15);\n",
              "        filter: drop-shadow(0px 1px 2px rgba(0, 0, 0, 0.3));\n",
              "        fill: #FFFFFF;\n",
              "      }\n",
              "    </style>\n",
              "    <button class=\"colab-df-generate\" onclick=\"generateWithVariable('df')\"\n",
              "            title=\"Generate code using this dataframe.\"\n",
              "            style=\"display:none;\">\n",
              "\n",
              "  <svg xmlns=\"http://www.w3.org/2000/svg\" height=\"24px\"viewBox=\"0 0 24 24\"\n",
              "       width=\"24px\">\n",
              "    <path d=\"M7,19H8.4L18.45,9,17,7.55,7,17.6ZM5,21V16.75L18.45,3.32a2,2,0,0,1,2.83,0l1.4,1.43a1.91,1.91,0,0,1,.58,1.4,1.91,1.91,0,0,1-.58,1.4L9.25,21ZM18.45,9,17,7.55Zm-12,3A5.31,5.31,0,0,0,4.9,8.1,5.31,5.31,0,0,0,1,6.5,5.31,5.31,0,0,0,4.9,4.9,5.31,5.31,0,0,0,6.5,1,5.31,5.31,0,0,0,8.1,4.9,5.31,5.31,0,0,0,12,6.5,5.46,5.46,0,0,0,6.5,12Z\"/>\n",
              "  </svg>\n",
              "    </button>\n",
              "    <script>\n",
              "      (() => {\n",
              "      const buttonEl =\n",
              "        document.querySelector('#id_ffd43289-8414-49d7-bd07-565a7f13e76e button.colab-df-generate');\n",
              "      buttonEl.style.display =\n",
              "        google.colab.kernel.accessAllowed ? 'block' : 'none';\n",
              "\n",
              "      buttonEl.onclick = () => {\n",
              "        google.colab.notebook.generateWithVariable('df');\n",
              "      }\n",
              "      })();\n",
              "    </script>\n",
              "  </div>\n",
              "\n",
              "    </div>\n",
              "  </div>\n"
            ],
            "text/plain": [
              "               Dur Proto    Dir  sTos  dTos  TotPkts  TotBytes  SrcBytes  \\\n",
              "0         0.000000   tcp     ?>   0.0   0.0        1        60        60   \n",
              "1        13.431962   tcp     ->   0.0   0.0        6       388       208   \n",
              "2        13.350228   tcp     ->   0.0   0.0        6       388       208   \n",
              "3        13.010090   tcp     ->   0.0   0.0        6       388       208   \n",
              "4        20.990047   tcp     ->   0.0   0.0        5       308       122   \n",
              "...            ...   ...    ...   ...   ...      ...       ...       ...   \n",
              "4593094   0.000158   tcp     ->   0.0   0.0        2       152        78   \n",
              "4593095   0.000688   udp    <->   0.0   0.0        2       306       244   \n",
              "4593096   0.000689   udp    <->   0.0   0.0        2       144        83   \n",
              "4593097   0.000000   udp     ->   0.0   NaN        1       172       172   \n",
              "4593098   0.001252   tcp     ->   0.0   0.0        3       192       126   \n",
              "\n",
              "         Label  \n",
              "0            0  \n",
              "1            0  \n",
              "2            0  \n",
              "3            0  \n",
              "4            0  \n",
              "...        ...  \n",
              "4593094      0  \n",
              "4593095      0  \n",
              "4593096      0  \n",
              "4593097      0  \n",
              "4593098      0  \n",
              "\n",
              "[4593099 rows x 9 columns]"
            ]
          },
          "execution_count": 5,
          "metadata": {},
          "output_type": "execute_result"
        }
      ],
      "source": [
        "df = df.drop(['StartTime','SrcAddr','Sport','DstAddr','Dport','State'], axis=1)\n",
        "df"
      ]
    },
    {
      "cell_type": "markdown",
      "metadata": {
        "id": "gbP6ek8ZC0t2"
      },
      "source": [
        "Số lượng các giá trị bị thiếu trong các cột"
      ]
    },
    {
      "cell_type": "code",
      "execution_count": null,
      "metadata": {
        "colab": {
          "base_uri": "https://localhost:8080/",
          "height": 366
        },
        "id": "A2C9H9XiC389",
        "outputId": "34209dda-445b-4e1e-d9fa-e318237db390"
      },
      "outputs": [
        {
          "data": {
            "text/html": [
              "<div>\n",
              "<style scoped>\n",
              "    .dataframe tbody tr th:only-of-type {\n",
              "        vertical-align: middle;\n",
              "    }\n",
              "\n",
              "    .dataframe tbody tr th {\n",
              "        vertical-align: top;\n",
              "    }\n",
              "\n",
              "    .dataframe thead th {\n",
              "        text-align: right;\n",
              "    }\n",
              "</style>\n",
              "<table border=\"1\" class=\"dataframe\">\n",
              "  <thead>\n",
              "    <tr style=\"text-align: right;\">\n",
              "      <th></th>\n",
              "      <th>0</th>\n",
              "    </tr>\n",
              "  </thead>\n",
              "  <tbody>\n",
              "    <tr>\n",
              "      <th>Dur</th>\n",
              "      <td>0</td>\n",
              "    </tr>\n",
              "    <tr>\n",
              "      <th>Proto</th>\n",
              "      <td>0</td>\n",
              "    </tr>\n",
              "    <tr>\n",
              "      <th>Dir</th>\n",
              "      <td>0</td>\n",
              "    </tr>\n",
              "    <tr>\n",
              "      <th>sTos</th>\n",
              "      <td>49849</td>\n",
              "    </tr>\n",
              "    <tr>\n",
              "      <th>dTos</th>\n",
              "      <td>414028</td>\n",
              "    </tr>\n",
              "    <tr>\n",
              "      <th>TotPkts</th>\n",
              "      <td>0</td>\n",
              "    </tr>\n",
              "    <tr>\n",
              "      <th>TotBytes</th>\n",
              "      <td>0</td>\n",
              "    </tr>\n",
              "    <tr>\n",
              "      <th>SrcBytes</th>\n",
              "      <td>0</td>\n",
              "    </tr>\n",
              "    <tr>\n",
              "      <th>Label</th>\n",
              "      <td>0</td>\n",
              "    </tr>\n",
              "  </tbody>\n",
              "</table>\n",
              "</div><br><label><b>dtype:</b> int64</label>"
            ],
            "text/plain": [
              "Dur              0\n",
              "Proto            0\n",
              "Dir              0\n",
              "sTos         49849\n",
              "dTos        414028\n",
              "TotPkts          0\n",
              "TotBytes         0\n",
              "SrcBytes         0\n",
              "Label            0\n",
              "dtype: int64"
            ]
          },
          "execution_count": 6,
          "metadata": {},
          "output_type": "execute_result"
        }
      ],
      "source": [
        "df.isnull().sum()"
      ]
    },
    {
      "cell_type": "markdown",
      "metadata": {
        "id": "NnRzcs4ewe0h"
      },
      "source": [
        "## **1.3.Xử lý các giá trị bị thiếu (NaN)**"
      ]
    },
    {
      "cell_type": "code",
      "execution_count": null,
      "metadata": {
        "colab": {
          "base_uri": "https://localhost:8080/",
          "height": 366
        },
        "id": "_tS26Ilyytsw",
        "outputId": "4af8f683-811b-4501-fd11-c871df7984e1"
      },
      "outputs": [
        {
          "data": {
            "text/html": [
              "<div>\n",
              "<style scoped>\n",
              "    .dataframe tbody tr th:only-of-type {\n",
              "        vertical-align: middle;\n",
              "    }\n",
              "\n",
              "    .dataframe tbody tr th {\n",
              "        vertical-align: top;\n",
              "    }\n",
              "\n",
              "    .dataframe thead th {\n",
              "        text-align: right;\n",
              "    }\n",
              "</style>\n",
              "<table border=\"1\" class=\"dataframe\">\n",
              "  <thead>\n",
              "    <tr style=\"text-align: right;\">\n",
              "      <th></th>\n",
              "      <th>0</th>\n",
              "    </tr>\n",
              "  </thead>\n",
              "  <tbody>\n",
              "    <tr>\n",
              "      <th>Dur</th>\n",
              "      <td>0</td>\n",
              "    </tr>\n",
              "    <tr>\n",
              "      <th>Proto</th>\n",
              "      <td>0</td>\n",
              "    </tr>\n",
              "    <tr>\n",
              "      <th>Dir</th>\n",
              "      <td>0</td>\n",
              "    </tr>\n",
              "    <tr>\n",
              "      <th>sTos</th>\n",
              "      <td>0</td>\n",
              "    </tr>\n",
              "    <tr>\n",
              "      <th>dTos</th>\n",
              "      <td>0</td>\n",
              "    </tr>\n",
              "    <tr>\n",
              "      <th>TotPkts</th>\n",
              "      <td>0</td>\n",
              "    </tr>\n",
              "    <tr>\n",
              "      <th>TotBytes</th>\n",
              "      <td>0</td>\n",
              "    </tr>\n",
              "    <tr>\n",
              "      <th>SrcBytes</th>\n",
              "      <td>0</td>\n",
              "    </tr>\n",
              "    <tr>\n",
              "      <th>Label</th>\n",
              "      <td>0</td>\n",
              "    </tr>\n",
              "  </tbody>\n",
              "</table>\n",
              "</div><br><label><b>dtype:</b> int64</label>"
            ],
            "text/plain": [
              "Dur         0\n",
              "Proto       0\n",
              "Dir         0\n",
              "sTos        0\n",
              "dTos        0\n",
              "TotPkts     0\n",
              "TotBytes    0\n",
              "SrcBytes    0\n",
              "Label       0\n",
              "dtype: int64"
            ]
          },
          "execution_count": 7,
          "metadata": {},
          "output_type": "execute_result"
        }
      ],
      "source": [
        "df = df.fillna(10)\n",
        "\n",
        "df.isnull().sum()"
      ]
    },
    {
      "cell_type": "code",
      "execution_count": null,
      "metadata": {
        "id": "kOB6FIK9QiFB"
      },
      "outputs": [],
      "source": [
        "df_1_4_1 = df.copy()\n",
        "df_1_4_2 = df.copy()"
      ]
    },
    {
      "cell_type": "markdown",
      "metadata": {
        "id": "zrsjp0H-0X7H"
      },
      "source": [
        "## **1.4.Xử lý dữ liệu có giá trị là biến phân loại**"
      ]
    },
    {
      "cell_type": "markdown",
      "metadata": {
        "id": "Q6zzBbst0lcv"
      },
      "source": [
        "### 1.4.1.Mã hoá giá trị số  "
      ]
    },
    {
      "cell_type": "code",
      "execution_count": null,
      "metadata": {
        "colab": {
          "base_uri": "https://localhost:8080/",
          "height": 209
        },
        "id": "gQAmM0KkHcqB",
        "outputId": "523999bd-2f0f-4a16-9502-d25d46568601"
      },
      "outputs": [
        {
          "data": {
            "text/html": [
              "<div>\n",
              "<style scoped>\n",
              "    .dataframe tbody tr th:only-of-type {\n",
              "        vertical-align: middle;\n",
              "    }\n",
              "\n",
              "    .dataframe tbody tr th {\n",
              "        vertical-align: top;\n",
              "    }\n",
              "\n",
              "    .dataframe thead th {\n",
              "        text-align: right;\n",
              "    }\n",
              "</style>\n",
              "<table border=\"1\" class=\"dataframe\">\n",
              "  <thead>\n",
              "    <tr style=\"text-align: right;\">\n",
              "      <th></th>\n",
              "      <th>count</th>\n",
              "    </tr>\n",
              "    <tr>\n",
              "      <th>Dir</th>\n",
              "      <th></th>\n",
              "    </tr>\n",
              "  </thead>\n",
              "  <tbody>\n",
              "    <tr>\n",
              "      <th>1.0</th>\n",
              "      <td>3212631</td>\n",
              "    </tr>\n",
              "    <tr>\n",
              "      <th>2.0</th>\n",
              "      <td>1306825</td>\n",
              "    </tr>\n",
              "    <tr>\n",
              "      <th>0.0</th>\n",
              "      <td>73643</td>\n",
              "    </tr>\n",
              "  </tbody>\n",
              "</table>\n",
              "</div><br><label><b>dtype:</b> int64</label>"
            ],
            "text/plain": [
              "Dir\n",
              "1.0    3212631\n",
              "2.0    1306825\n",
              "0.0      73643\n",
              "Name: count, dtype: int64"
            ]
          },
          "execution_count": 9,
          "metadata": {},
          "output_type": "execute_result"
        }
      ],
      "source": [
        "def encode_dir_proto(df):\n",
        "    dir_map = {'<->': 1, '->': 2}\n",
        "    proto_map = {'udp': 20, 'tcp': 30, 'icmp': 40}\n",
        "\n",
        "    df['Dir'] = df['Dir'].str.strip()\n",
        "    df['Dir'] = df['Dir'].map(dir_map).fillna(0)\n",
        "\n",
        "    df['Proto'] = df['Proto'].str.strip()\n",
        "    df['Proto'] = df['Proto'].map(proto_map).fillna(0)\n",
        "\n",
        "    return df\n",
        "df_1_1_1 = encode_dir_proto(df_1_4_1)\n",
        "df_1_4_1['Dir'].value_counts()"
      ]
    },
    {
      "cell_type": "code",
      "execution_count": null,
      "metadata": {
        "colab": {
          "base_uri": "https://localhost:8080/",
          "height": 241
        },
        "id": "uaLVKKKw2Oe3",
        "outputId": "aeefd642-caef-4654-9827-d80b5a336a6d"
      },
      "outputs": [
        {
          "data": {
            "text/html": [
              "<div>\n",
              "<style scoped>\n",
              "    .dataframe tbody tr th:only-of-type {\n",
              "        vertical-align: middle;\n",
              "    }\n",
              "\n",
              "    .dataframe tbody tr th {\n",
              "        vertical-align: top;\n",
              "    }\n",
              "\n",
              "    .dataframe thead th {\n",
              "        text-align: right;\n",
              "    }\n",
              "</style>\n",
              "<table border=\"1\" class=\"dataframe\">\n",
              "  <thead>\n",
              "    <tr style=\"text-align: right;\">\n",
              "      <th></th>\n",
              "      <th>count</th>\n",
              "    </tr>\n",
              "    <tr>\n",
              "      <th>Proto</th>\n",
              "      <th></th>\n",
              "    </tr>\n",
              "  </thead>\n",
              "  <tbody>\n",
              "    <tr>\n",
              "      <th>20.0</th>\n",
              "      <td>3333333</td>\n",
              "    </tr>\n",
              "    <tr>\n",
              "      <th>30.0</th>\n",
              "      <td>1030671</td>\n",
              "    </tr>\n",
              "    <tr>\n",
              "      <th>40.0</th>\n",
              "      <td>212957</td>\n",
              "    </tr>\n",
              "    <tr>\n",
              "      <th>0.0</th>\n",
              "      <td>16138</td>\n",
              "    </tr>\n",
              "  </tbody>\n",
              "</table>\n",
              "</div><br><label><b>dtype:</b> int64</label>"
            ],
            "text/plain": [
              "Proto\n",
              "20.0    3333333\n",
              "30.0    1030671\n",
              "40.0     212957\n",
              "0.0       16138\n",
              "Name: count, dtype: int64"
            ]
          },
          "execution_count": 10,
          "metadata": {},
          "output_type": "execute_result"
        }
      ],
      "source": [
        "df_1_4_1['Proto'].value_counts()"
      ]
    },
    {
      "cell_type": "markdown",
      "metadata": {
        "id": "hdWcKUE02RKn"
      },
      "source": [
        "### 1.4.2.Mã hoá One-Hot Encoding"
      ]
    },
    {
      "cell_type": "code",
      "execution_count": null,
      "metadata": {
        "colab": {
          "base_uri": "https://localhost:8080/",
          "height": 423
        },
        "id": "_Dw-gaa32U6e",
        "outputId": "2704e38d-b29b-4022-f99c-3b56d2f5a21e"
      },
      "outputs": [
        {
          "data": {
            "application/vnd.google.colaboratory.intrinsic+json": {
              "type": "dataframe",
              "variable_name": "df_1_4_2"
            },
            "text/html": [
              "\n",
              "  <div id=\"df-9181b06c-8efa-4ffd-aa22-04ccfc3f002e\" class=\"colab-df-container\">\n",
              "    <div>\n",
              "<style scoped>\n",
              "    .dataframe tbody tr th:only-of-type {\n",
              "        vertical-align: middle;\n",
              "    }\n",
              "\n",
              "    .dataframe tbody tr th {\n",
              "        vertical-align: top;\n",
              "    }\n",
              "\n",
              "    .dataframe thead th {\n",
              "        text-align: right;\n",
              "    }\n",
              "</style>\n",
              "<table border=\"1\" class=\"dataframe\">\n",
              "  <thead>\n",
              "    <tr style=\"text-align: right;\">\n",
              "      <th></th>\n",
              "      <th>Dur</th>\n",
              "      <th>TotPkts</th>\n",
              "      <th>TotBytes</th>\n",
              "      <th>SrcBytes</th>\n",
              "      <th>Label</th>\n",
              "      <th>Dir_-&gt;</th>\n",
              "      <th>Dir_&lt;-&gt;</th>\n",
              "      <th>Dir_others</th>\n",
              "      <th>Proto_icmp</th>\n",
              "      <th>Proto_others</th>\n",
              "      <th>Proto_tcp</th>\n",
              "      <th>Proto_udp</th>\n",
              "      <th>sTos_0.0</th>\n",
              "      <th>sTos_10.0</th>\n",
              "      <th>sTos_others</th>\n",
              "      <th>dTos_0.0</th>\n",
              "      <th>dTos_10.0</th>\n",
              "      <th>dTos_others</th>\n",
              "    </tr>\n",
              "  </thead>\n",
              "  <tbody>\n",
              "    <tr>\n",
              "      <th>0</th>\n",
              "      <td>0.000000</td>\n",
              "      <td>1</td>\n",
              "      <td>60</td>\n",
              "      <td>60</td>\n",
              "      <td>0</td>\n",
              "      <td>0.0</td>\n",
              "      <td>0.0</td>\n",
              "      <td>1.0</td>\n",
              "      <td>0.0</td>\n",
              "      <td>0.0</td>\n",
              "      <td>1.0</td>\n",
              "      <td>0.0</td>\n",
              "      <td>1.0</td>\n",
              "      <td>0.0</td>\n",
              "      <td>0.0</td>\n",
              "      <td>1.0</td>\n",
              "      <td>0.0</td>\n",
              "      <td>0.0</td>\n",
              "    </tr>\n",
              "    <tr>\n",
              "      <th>1</th>\n",
              "      <td>13.431962</td>\n",
              "      <td>6</td>\n",
              "      <td>388</td>\n",
              "      <td>208</td>\n",
              "      <td>0</td>\n",
              "      <td>1.0</td>\n",
              "      <td>0.0</td>\n",
              "      <td>0.0</td>\n",
              "      <td>0.0</td>\n",
              "      <td>0.0</td>\n",
              "      <td>1.0</td>\n",
              "      <td>0.0</td>\n",
              "      <td>1.0</td>\n",
              "      <td>0.0</td>\n",
              "      <td>0.0</td>\n",
              "      <td>1.0</td>\n",
              "      <td>0.0</td>\n",
              "      <td>0.0</td>\n",
              "    </tr>\n",
              "    <tr>\n",
              "      <th>2</th>\n",
              "      <td>13.350228</td>\n",
              "      <td>6</td>\n",
              "      <td>388</td>\n",
              "      <td>208</td>\n",
              "      <td>0</td>\n",
              "      <td>1.0</td>\n",
              "      <td>0.0</td>\n",
              "      <td>0.0</td>\n",
              "      <td>0.0</td>\n",
              "      <td>0.0</td>\n",
              "      <td>1.0</td>\n",
              "      <td>0.0</td>\n",
              "      <td>1.0</td>\n",
              "      <td>0.0</td>\n",
              "      <td>0.0</td>\n",
              "      <td>1.0</td>\n",
              "      <td>0.0</td>\n",
              "      <td>0.0</td>\n",
              "    </tr>\n",
              "    <tr>\n",
              "      <th>3</th>\n",
              "      <td>13.010090</td>\n",
              "      <td>6</td>\n",
              "      <td>388</td>\n",
              "      <td>208</td>\n",
              "      <td>0</td>\n",
              "      <td>1.0</td>\n",
              "      <td>0.0</td>\n",
              "      <td>0.0</td>\n",
              "      <td>0.0</td>\n",
              "      <td>0.0</td>\n",
              "      <td>1.0</td>\n",
              "      <td>0.0</td>\n",
              "      <td>1.0</td>\n",
              "      <td>0.0</td>\n",
              "      <td>0.0</td>\n",
              "      <td>1.0</td>\n",
              "      <td>0.0</td>\n",
              "      <td>0.0</td>\n",
              "    </tr>\n",
              "    <tr>\n",
              "      <th>4</th>\n",
              "      <td>20.990047</td>\n",
              "      <td>5</td>\n",
              "      <td>308</td>\n",
              "      <td>122</td>\n",
              "      <td>0</td>\n",
              "      <td>1.0</td>\n",
              "      <td>0.0</td>\n",
              "      <td>0.0</td>\n",
              "      <td>0.0</td>\n",
              "      <td>0.0</td>\n",
              "      <td>1.0</td>\n",
              "      <td>0.0</td>\n",
              "      <td>1.0</td>\n",
              "      <td>0.0</td>\n",
              "      <td>0.0</td>\n",
              "      <td>1.0</td>\n",
              "      <td>0.0</td>\n",
              "      <td>0.0</td>\n",
              "    </tr>\n",
              "    <tr>\n",
              "      <th>...</th>\n",
              "      <td>...</td>\n",
              "      <td>...</td>\n",
              "      <td>...</td>\n",
              "      <td>...</td>\n",
              "      <td>...</td>\n",
              "      <td>...</td>\n",
              "      <td>...</td>\n",
              "      <td>...</td>\n",
              "      <td>...</td>\n",
              "      <td>...</td>\n",
              "      <td>...</td>\n",
              "      <td>...</td>\n",
              "      <td>...</td>\n",
              "      <td>...</td>\n",
              "      <td>...</td>\n",
              "      <td>...</td>\n",
              "      <td>...</td>\n",
              "      <td>...</td>\n",
              "    </tr>\n",
              "    <tr>\n",
              "      <th>4593094</th>\n",
              "      <td>0.000158</td>\n",
              "      <td>2</td>\n",
              "      <td>152</td>\n",
              "      <td>78</td>\n",
              "      <td>0</td>\n",
              "      <td>1.0</td>\n",
              "      <td>0.0</td>\n",
              "      <td>0.0</td>\n",
              "      <td>0.0</td>\n",
              "      <td>0.0</td>\n",
              "      <td>1.0</td>\n",
              "      <td>0.0</td>\n",
              "      <td>1.0</td>\n",
              "      <td>0.0</td>\n",
              "      <td>0.0</td>\n",
              "      <td>1.0</td>\n",
              "      <td>0.0</td>\n",
              "      <td>0.0</td>\n",
              "    </tr>\n",
              "    <tr>\n",
              "      <th>4593095</th>\n",
              "      <td>0.000688</td>\n",
              "      <td>2</td>\n",
              "      <td>306</td>\n",
              "      <td>244</td>\n",
              "      <td>0</td>\n",
              "      <td>0.0</td>\n",
              "      <td>1.0</td>\n",
              "      <td>0.0</td>\n",
              "      <td>0.0</td>\n",
              "      <td>0.0</td>\n",
              "      <td>0.0</td>\n",
              "      <td>1.0</td>\n",
              "      <td>1.0</td>\n",
              "      <td>0.0</td>\n",
              "      <td>0.0</td>\n",
              "      <td>1.0</td>\n",
              "      <td>0.0</td>\n",
              "      <td>0.0</td>\n",
              "    </tr>\n",
              "    <tr>\n",
              "      <th>4593096</th>\n",
              "      <td>0.000689</td>\n",
              "      <td>2</td>\n",
              "      <td>144</td>\n",
              "      <td>83</td>\n",
              "      <td>0</td>\n",
              "      <td>0.0</td>\n",
              "      <td>1.0</td>\n",
              "      <td>0.0</td>\n",
              "      <td>0.0</td>\n",
              "      <td>0.0</td>\n",
              "      <td>0.0</td>\n",
              "      <td>1.0</td>\n",
              "      <td>1.0</td>\n",
              "      <td>0.0</td>\n",
              "      <td>0.0</td>\n",
              "      <td>1.0</td>\n",
              "      <td>0.0</td>\n",
              "      <td>0.0</td>\n",
              "    </tr>\n",
              "    <tr>\n",
              "      <th>4593097</th>\n",
              "      <td>0.000000</td>\n",
              "      <td>1</td>\n",
              "      <td>172</td>\n",
              "      <td>172</td>\n",
              "      <td>0</td>\n",
              "      <td>1.0</td>\n",
              "      <td>0.0</td>\n",
              "      <td>0.0</td>\n",
              "      <td>0.0</td>\n",
              "      <td>0.0</td>\n",
              "      <td>0.0</td>\n",
              "      <td>1.0</td>\n",
              "      <td>1.0</td>\n",
              "      <td>0.0</td>\n",
              "      <td>0.0</td>\n",
              "      <td>0.0</td>\n",
              "      <td>1.0</td>\n",
              "      <td>0.0</td>\n",
              "    </tr>\n",
              "    <tr>\n",
              "      <th>4593098</th>\n",
              "      <td>0.001252</td>\n",
              "      <td>3</td>\n",
              "      <td>192</td>\n",
              "      <td>126</td>\n",
              "      <td>0</td>\n",
              "      <td>1.0</td>\n",
              "      <td>0.0</td>\n",
              "      <td>0.0</td>\n",
              "      <td>0.0</td>\n",
              "      <td>0.0</td>\n",
              "      <td>1.0</td>\n",
              "      <td>0.0</td>\n",
              "      <td>1.0</td>\n",
              "      <td>0.0</td>\n",
              "      <td>0.0</td>\n",
              "      <td>1.0</td>\n",
              "      <td>0.0</td>\n",
              "      <td>0.0</td>\n",
              "    </tr>\n",
              "  </tbody>\n",
              "</table>\n",
              "<p>4593099 rows × 18 columns</p>\n",
              "</div>\n",
              "    <div class=\"colab-df-buttons\">\n",
              "\n",
              "  <div class=\"colab-df-container\">\n",
              "    <button class=\"colab-df-convert\" onclick=\"convertToInteractive('df-9181b06c-8efa-4ffd-aa22-04ccfc3f002e')\"\n",
              "            title=\"Convert this dataframe to an interactive table.\"\n",
              "            style=\"display:none;\">\n",
              "\n",
              "  <svg xmlns=\"http://www.w3.org/2000/svg\" height=\"24px\" viewBox=\"0 -960 960 960\">\n",
              "    <path d=\"M120-120v-720h720v720H120Zm60-500h600v-160H180v160Zm220 220h160v-160H400v160Zm0 220h160v-160H400v160ZM180-400h160v-160H180v160Zm440 0h160v-160H620v160ZM180-180h160v-160H180v160Zm440 0h160v-160H620v160Z\"/>\n",
              "  </svg>\n",
              "    </button>\n",
              "\n",
              "  <style>\n",
              "    .colab-df-container {\n",
              "      display:flex;\n",
              "      gap: 12px;\n",
              "    }\n",
              "\n",
              "    .colab-df-convert {\n",
              "      background-color: #E8F0FE;\n",
              "      border: none;\n",
              "      border-radius: 50%;\n",
              "      cursor: pointer;\n",
              "      display: none;\n",
              "      fill: #1967D2;\n",
              "      height: 32px;\n",
              "      padding: 0 0 0 0;\n",
              "      width: 32px;\n",
              "    }\n",
              "\n",
              "    .colab-df-convert:hover {\n",
              "      background-color: #E2EBFA;\n",
              "      box-shadow: 0px 1px 2px rgba(60, 64, 67, 0.3), 0px 1px 3px 1px rgba(60, 64, 67, 0.15);\n",
              "      fill: #174EA6;\n",
              "    }\n",
              "\n",
              "    .colab-df-buttons div {\n",
              "      margin-bottom: 4px;\n",
              "    }\n",
              "\n",
              "    [theme=dark] .colab-df-convert {\n",
              "      background-color: #3B4455;\n",
              "      fill: #D2E3FC;\n",
              "    }\n",
              "\n",
              "    [theme=dark] .colab-df-convert:hover {\n",
              "      background-color: #434B5C;\n",
              "      box-shadow: 0px 1px 3px 1px rgba(0, 0, 0, 0.15);\n",
              "      filter: drop-shadow(0px 1px 2px rgba(0, 0, 0, 0.3));\n",
              "      fill: #FFFFFF;\n",
              "    }\n",
              "  </style>\n",
              "\n",
              "    <script>\n",
              "      const buttonEl =\n",
              "        document.querySelector('#df-9181b06c-8efa-4ffd-aa22-04ccfc3f002e button.colab-df-convert');\n",
              "      buttonEl.style.display =\n",
              "        google.colab.kernel.accessAllowed ? 'block' : 'none';\n",
              "\n",
              "      async function convertToInteractive(key) {\n",
              "        const element = document.querySelector('#df-9181b06c-8efa-4ffd-aa22-04ccfc3f002e');\n",
              "        const dataTable =\n",
              "          await google.colab.kernel.invokeFunction('convertToInteractive',\n",
              "                                                    [key], {});\n",
              "        if (!dataTable) return;\n",
              "\n",
              "        const docLinkHtml = 'Like what you see? Visit the ' +\n",
              "          '<a target=\"_blank\" href=https://colab.research.google.com/notebooks/data_table.ipynb>data table notebook</a>'\n",
              "          + ' to learn more about interactive tables.';\n",
              "        element.innerHTML = '';\n",
              "        dataTable['output_type'] = 'display_data';\n",
              "        await google.colab.output.renderOutput(dataTable, element);\n",
              "        const docLink = document.createElement('div');\n",
              "        docLink.innerHTML = docLinkHtml;\n",
              "        element.appendChild(docLink);\n",
              "      }\n",
              "    </script>\n",
              "  </div>\n",
              "\n",
              "\n",
              "    <div id=\"df-43170e7f-f21b-433a-b90a-a7a2aa57959d\">\n",
              "      <button class=\"colab-df-quickchart\" onclick=\"quickchart('df-43170e7f-f21b-433a-b90a-a7a2aa57959d')\"\n",
              "                title=\"Suggest charts\"\n",
              "                style=\"display:none;\">\n",
              "\n",
              "<svg xmlns=\"http://www.w3.org/2000/svg\" height=\"24px\"viewBox=\"0 0 24 24\"\n",
              "     width=\"24px\">\n",
              "    <g>\n",
              "        <path d=\"M19 3H5c-1.1 0-2 .9-2 2v14c0 1.1.9 2 2 2h14c1.1 0 2-.9 2-2V5c0-1.1-.9-2-2-2zM9 17H7v-7h2v7zm4 0h-2V7h2v10zm4 0h-2v-4h2v4z\"/>\n",
              "    </g>\n",
              "</svg>\n",
              "      </button>\n",
              "\n",
              "<style>\n",
              "  .colab-df-quickchart {\n",
              "      --bg-color: #E8F0FE;\n",
              "      --fill-color: #1967D2;\n",
              "      --hover-bg-color: #E2EBFA;\n",
              "      --hover-fill-color: #174EA6;\n",
              "      --disabled-fill-color: #AAA;\n",
              "      --disabled-bg-color: #DDD;\n",
              "  }\n",
              "\n",
              "  [theme=dark] .colab-df-quickchart {\n",
              "      --bg-color: #3B4455;\n",
              "      --fill-color: #D2E3FC;\n",
              "      --hover-bg-color: #434B5C;\n",
              "      --hover-fill-color: #FFFFFF;\n",
              "      --disabled-bg-color: #3B4455;\n",
              "      --disabled-fill-color: #666;\n",
              "  }\n",
              "\n",
              "  .colab-df-quickchart {\n",
              "    background-color: var(--bg-color);\n",
              "    border: none;\n",
              "    border-radius: 50%;\n",
              "    cursor: pointer;\n",
              "    display: none;\n",
              "    fill: var(--fill-color);\n",
              "    height: 32px;\n",
              "    padding: 0;\n",
              "    width: 32px;\n",
              "  }\n",
              "\n",
              "  .colab-df-quickchart:hover {\n",
              "    background-color: var(--hover-bg-color);\n",
              "    box-shadow: 0 1px 2px rgba(60, 64, 67, 0.3), 0 1px 3px 1px rgba(60, 64, 67, 0.15);\n",
              "    fill: var(--button-hover-fill-color);\n",
              "  }\n",
              "\n",
              "  .colab-df-quickchart-complete:disabled,\n",
              "  .colab-df-quickchart-complete:disabled:hover {\n",
              "    background-color: var(--disabled-bg-color);\n",
              "    fill: var(--disabled-fill-color);\n",
              "    box-shadow: none;\n",
              "  }\n",
              "\n",
              "  .colab-df-spinner {\n",
              "    border: 2px solid var(--fill-color);\n",
              "    border-color: transparent;\n",
              "    border-bottom-color: var(--fill-color);\n",
              "    animation:\n",
              "      spin 1s steps(1) infinite;\n",
              "  }\n",
              "\n",
              "  @keyframes spin {\n",
              "    0% {\n",
              "      border-color: transparent;\n",
              "      border-bottom-color: var(--fill-color);\n",
              "      border-left-color: var(--fill-color);\n",
              "    }\n",
              "    20% {\n",
              "      border-color: transparent;\n",
              "      border-left-color: var(--fill-color);\n",
              "      border-top-color: var(--fill-color);\n",
              "    }\n",
              "    30% {\n",
              "      border-color: transparent;\n",
              "      border-left-color: var(--fill-color);\n",
              "      border-top-color: var(--fill-color);\n",
              "      border-right-color: var(--fill-color);\n",
              "    }\n",
              "    40% {\n",
              "      border-color: transparent;\n",
              "      border-right-color: var(--fill-color);\n",
              "      border-top-color: var(--fill-color);\n",
              "    }\n",
              "    60% {\n",
              "      border-color: transparent;\n",
              "      border-right-color: var(--fill-color);\n",
              "    }\n",
              "    80% {\n",
              "      border-color: transparent;\n",
              "      border-right-color: var(--fill-color);\n",
              "      border-bottom-color: var(--fill-color);\n",
              "    }\n",
              "    90% {\n",
              "      border-color: transparent;\n",
              "      border-bottom-color: var(--fill-color);\n",
              "    }\n",
              "  }\n",
              "</style>\n",
              "\n",
              "      <script>\n",
              "        async function quickchart(key) {\n",
              "          const quickchartButtonEl =\n",
              "            document.querySelector('#' + key + ' button');\n",
              "          quickchartButtonEl.disabled = true;  // To prevent multiple clicks.\n",
              "          quickchartButtonEl.classList.add('colab-df-spinner');\n",
              "          try {\n",
              "            const charts = await google.colab.kernel.invokeFunction(\n",
              "                'suggestCharts', [key], {});\n",
              "          } catch (error) {\n",
              "            console.error('Error during call to suggestCharts:', error);\n",
              "          }\n",
              "          quickchartButtonEl.classList.remove('colab-df-spinner');\n",
              "          quickchartButtonEl.classList.add('colab-df-quickchart-complete');\n",
              "        }\n",
              "        (() => {\n",
              "          let quickchartButtonEl =\n",
              "            document.querySelector('#df-43170e7f-f21b-433a-b90a-a7a2aa57959d button');\n",
              "          quickchartButtonEl.style.display =\n",
              "            google.colab.kernel.accessAllowed ? 'block' : 'none';\n",
              "        })();\n",
              "      </script>\n",
              "    </div>\n",
              "\n",
              "  <div id=\"id_eba02ddf-462b-4c6f-8c26-5358a085b3dc\">\n",
              "    <style>\n",
              "      .colab-df-generate {\n",
              "        background-color: #E8F0FE;\n",
              "        border: none;\n",
              "        border-radius: 50%;\n",
              "        cursor: pointer;\n",
              "        display: none;\n",
              "        fill: #1967D2;\n",
              "        height: 32px;\n",
              "        padding: 0 0 0 0;\n",
              "        width: 32px;\n",
              "      }\n",
              "\n",
              "      .colab-df-generate:hover {\n",
              "        background-color: #E2EBFA;\n",
              "        box-shadow: 0px 1px 2px rgba(60, 64, 67, 0.3), 0px 1px 3px 1px rgba(60, 64, 67, 0.15);\n",
              "        fill: #174EA6;\n",
              "      }\n",
              "\n",
              "      [theme=dark] .colab-df-generate {\n",
              "        background-color: #3B4455;\n",
              "        fill: #D2E3FC;\n",
              "      }\n",
              "\n",
              "      [theme=dark] .colab-df-generate:hover {\n",
              "        background-color: #434B5C;\n",
              "        box-shadow: 0px 1px 3px 1px rgba(0, 0, 0, 0.15);\n",
              "        filter: drop-shadow(0px 1px 2px rgba(0, 0, 0, 0.3));\n",
              "        fill: #FFFFFF;\n",
              "      }\n",
              "    </style>\n",
              "    <button class=\"colab-df-generate\" onclick=\"generateWithVariable('df_1_4_2')\"\n",
              "            title=\"Generate code using this dataframe.\"\n",
              "            style=\"display:none;\">\n",
              "\n",
              "  <svg xmlns=\"http://www.w3.org/2000/svg\" height=\"24px\"viewBox=\"0 0 24 24\"\n",
              "       width=\"24px\">\n",
              "    <path d=\"M7,19H8.4L18.45,9,17,7.55,7,17.6ZM5,21V16.75L18.45,3.32a2,2,0,0,1,2.83,0l1.4,1.43a1.91,1.91,0,0,1,.58,1.4,1.91,1.91,0,0,1-.58,1.4L9.25,21ZM18.45,9,17,7.55Zm-12,3A5.31,5.31,0,0,0,4.9,8.1,5.31,5.31,0,0,0,1,6.5,5.31,5.31,0,0,0,4.9,4.9,5.31,5.31,0,0,0,6.5,1,5.31,5.31,0,0,0,8.1,4.9,5.31,5.31,0,0,0,12,6.5,5.46,5.46,0,0,0,6.5,12Z\"/>\n",
              "  </svg>\n",
              "    </button>\n",
              "    <script>\n",
              "      (() => {\n",
              "      const buttonEl =\n",
              "        document.querySelector('#id_eba02ddf-462b-4c6f-8c26-5358a085b3dc button.colab-df-generate');\n",
              "      buttonEl.style.display =\n",
              "        google.colab.kernel.accessAllowed ? 'block' : 'none';\n",
              "\n",
              "      buttonEl.onclick = () => {\n",
              "        google.colab.notebook.generateWithVariable('df_1_4_2');\n",
              "      }\n",
              "      })();\n",
              "    </script>\n",
              "  </div>\n",
              "\n",
              "    </div>\n",
              "  </div>\n"
            ],
            "text/plain": [
              "               Dur  TotPkts  TotBytes  SrcBytes  Label  Dir_->  Dir_<->  \\\n",
              "0         0.000000        1        60        60      0     0.0      0.0   \n",
              "1        13.431962        6       388       208      0     1.0      0.0   \n",
              "2        13.350228        6       388       208      0     1.0      0.0   \n",
              "3        13.010090        6       388       208      0     1.0      0.0   \n",
              "4        20.990047        5       308       122      0     1.0      0.0   \n",
              "...            ...      ...       ...       ...    ...     ...      ...   \n",
              "4593094   0.000158        2       152        78      0     1.0      0.0   \n",
              "4593095   0.000688        2       306       244      0     0.0      1.0   \n",
              "4593096   0.000689        2       144        83      0     0.0      1.0   \n",
              "4593097   0.000000        1       172       172      0     1.0      0.0   \n",
              "4593098   0.001252        3       192       126      0     1.0      0.0   \n",
              "\n",
              "         Dir_others  Proto_icmp  Proto_others  Proto_tcp  Proto_udp  sTos_0.0  \\\n",
              "0               1.0         0.0           0.0        1.0        0.0       1.0   \n",
              "1               0.0         0.0           0.0        1.0        0.0       1.0   \n",
              "2               0.0         0.0           0.0        1.0        0.0       1.0   \n",
              "3               0.0         0.0           0.0        1.0        0.0       1.0   \n",
              "4               0.0         0.0           0.0        1.0        0.0       1.0   \n",
              "...             ...         ...           ...        ...        ...       ...   \n",
              "4593094         0.0         0.0           0.0        1.0        0.0       1.0   \n",
              "4593095         0.0         0.0           0.0        0.0        1.0       1.0   \n",
              "4593096         0.0         0.0           0.0        0.0        1.0       1.0   \n",
              "4593097         0.0         0.0           0.0        0.0        1.0       1.0   \n",
              "4593098         0.0         0.0           0.0        1.0        0.0       1.0   \n",
              "\n",
              "         sTos_10.0  sTos_others  dTos_0.0  dTos_10.0  dTos_others  \n",
              "0              0.0          0.0       1.0        0.0          0.0  \n",
              "1              0.0          0.0       1.0        0.0          0.0  \n",
              "2              0.0          0.0       1.0        0.0          0.0  \n",
              "3              0.0          0.0       1.0        0.0          0.0  \n",
              "4              0.0          0.0       1.0        0.0          0.0  \n",
              "...            ...          ...       ...        ...          ...  \n",
              "4593094        0.0          0.0       1.0        0.0          0.0  \n",
              "4593095        0.0          0.0       1.0        0.0          0.0  \n",
              "4593096        0.0          0.0       1.0        0.0          0.0  \n",
              "4593097        0.0          0.0       0.0        1.0          0.0  \n",
              "4593098        0.0          0.0       1.0        0.0          0.0  \n",
              "\n",
              "[4593099 rows x 18 columns]"
            ]
          },
          "execution_count": 11,
          "metadata": {},
          "output_type": "execute_result"
        }
      ],
      "source": [
        "def OneHot_Ending(df):\n",
        "\n",
        "        dir_values = ['<->', '->']\n",
        "        proto_values = ['tcp', 'udp', 'icmp']\n",
        "        tos_values = ['0.0', '10.0']\n",
        "\n",
        "        df['Dir'] = df['Dir'].str.strip().apply(lambda x: x if x in dir_values else 'others')\n",
        "        df['Proto'] = df['Proto'].str.lower().apply(lambda x: x if x in proto_values else 'others')\n",
        "        df['sTos'] = df['sTos'].apply(lambda x: x if x in tos_values else 'others')\n",
        "        df['dTos'] = df['dTos'].apply(lambda x: x if x in tos_values else 'others')\n",
        "\n",
        "        df_encoded = pd.get_dummies(df, columns=['Dir', 'Proto', 'sTos', 'dTos'])\n",
        "\n",
        "        return df_encoded\n",
        "\n",
        "df_1_4_2 = OneHot_Ending(df_1_4_2)\n",
        "df_1_4_2"
      ]
    },
    {
      "cell_type": "code",
      "execution_count": null,
      "metadata": {
        "id": "BIoF_DX_SkVy"
      },
      "outputs": [],
      "source": [
        "x_1_4_1 = df_1_4_1.drop('Label', axis=1) # Trường hợp mã hóa gán trị số\n",
        "x_1_4_2 = df_1_4_2.drop('Label', axis=1) # Trường hợp mã hóa One Hot Encoding sẽ tiếp tục dùng phương pháp Feature Selection\n"
      ]
    },
    {
      "cell_type": "code",
      "execution_count": null,
      "metadata": {
        "id": "lWl-gGeRTByi"
      },
      "outputs": [],
      "source": [
        "y = df['Label']"
      ]
    },
    {
      "cell_type": "markdown",
      "metadata": {
        "id": "fUZq6gdDSGPa"
      },
      "source": [
        "## **1.5.Kỹ thuật Feature Selection**"
      ]
    },
    {
      "cell_type": "markdown",
      "metadata": {
        "id": "_xV6rhKiSTWz"
      },
      "source": [
        "### **1.5.1.ANOVA**"
      ]
    },
    {
      "cell_type": "code",
      "execution_count": null,
      "metadata": {
        "colab": {
          "base_uri": "https://localhost:8080/"
        },
        "id": "_tTG32QPSXMB",
        "outputId": "4f402761-930d-4249-9eab-a875ca206f96"
      },
      "outputs": [
        {
          "data": {
            "text/plain": [
              "Index(['Dur', 'Dir_->', 'Dir_<->', 'Dir_others', 'Proto_icmp', 'Proto_tcp',\n",
              "       'Proto_udp', 'sTos_0.0', 'dTos_0.0', 'dTos_10.0'],\n",
              "      dtype='object')"
            ]
          },
          "execution_count": 14,
          "metadata": {},
          "output_type": "execute_result"
        }
      ],
      "source": [
        "def anova(x_1_4_2, y):\n",
        "\n",
        "  selector = SelectKBest(score_func=f_classif,k=10)  # k là cọt đặc trưng muốn giữ\n",
        "  x_ANOVA = selector.fit_transform(x_1_4_2, y)\n",
        "  return x_ANOVA , selector\n",
        "\n",
        "x_ANOVA, selector = anova(x_1_4_2, y)\n",
        "selected_cols_ANOVA = x_1_4_2.columns[selector.get_support()]\n",
        "selected_cols_ANOVA"
      ]
    },
    {
      "cell_type": "markdown",
      "metadata": {
        "id": "FwDwE0EOWf-Z"
      },
      "source": [
        "Với ANOVA thì ta có các cột 'Dur', 'Dir_->', 'Dir_<->', 'Dir_others','Proto_icmp', 'Proto_others',\n",
        "       'Proto_tcp', 'Proto_udp', 'sTos_0.0', 'sTos_others', 'dTos_0.0',\n",
        "       'dTos_10.0'"
      ]
    },
    {
      "cell_type": "markdown",
      "metadata": {
        "id": "H6Z6xTQkWnzp"
      },
      "source": [
        "### **1.5.2.Chi-Squared**"
      ]
    },
    {
      "cell_type": "code",
      "execution_count": null,
      "metadata": {
        "colab": {
          "base_uri": "https://localhost:8080/"
        },
        "id": "cxRIq9IRWt2J",
        "outputId": "4e19db33-c440-46a5-bb42-bf670915bf3c"
      },
      "outputs": [
        {
          "data": {
            "text/plain": [
              "Index(['Dur', 'TotPkts', 'TotBytes', 'SrcBytes', 'Dir_->', 'Dir_<->',\n",
              "       'Proto_icmp', 'Proto_udp', 'dTos_0.0', 'dTos_10.0'],\n",
              "      dtype='object')"
            ]
          },
          "execution_count": 16,
          "metadata": {},
          "output_type": "execute_result"
        }
      ],
      "source": [
        "def chi_squared(x_1_4_2, y):\n",
        "\n",
        "    selector = SelectKBest(chi2, k=10) # k là cọt đặc trưng muốn giữ\n",
        "    x_chi_2 = selector.fit_transform(x_1_4_2, y)\n",
        "    selected_cols_chi_2 = x_1_4_2.columns[selector.get_support()]\n",
        "\n",
        "    return x_chi_2, selected_cols_chi_2\n",
        "\n",
        "x_chi_2, selected_cols_chi_2 = chi_squared(x_1_4_2, y)\n",
        "\n",
        "selected_cols_chi_2"
      ]
    },
    {
      "cell_type": "markdown",
      "metadata": {
        "id": "hOZObr9PYrfK"
      },
      "source": [
        "Với Chi-Squared có cột là  'Dur', 'TotPkts', 'TotBytes', 'SrcBytes', 'Dir_->', 'Dir_<->',\n",
        "       'Proto_icmp', 'Proto_udp', 'dTos_0.0', 'dTos_10.0'"
      ]
    },
    {
      "cell_type": "markdown",
      "metadata": {
        "id": "GBLrQFI5Ydsb"
      },
      "source": [
        "**Vậy 2 phương pháp trên có sự khác nhau về chọn côt**"
      ]
    },
    {
      "cell_type": "markdown",
      "metadata": {
        "id": "o0bv2YaVZAt4"
      },
      "source": [
        "## **1.6.Xử lý tập dữ liệu mất cân bằng**\n",
        "\n",
        "\n",
        "\n"
      ]
    },
    {
      "cell_type": "markdown",
      "metadata": {
        "id": "8hJDezuTZJWh"
      },
      "source": [
        "### **1.6.1.RandomUnderSampler**"
      ]
    },
    {
      "cell_type": "code",
      "execution_count": null,
      "metadata": {
        "colab": {
          "base_uri": "https://localhost:8080/"
        },
        "id": "Xr9pgfC3ZRJR",
        "outputId": "48be32be-774c-4d2b-bd25-71c30a40d3b4"
      },
      "outputs": [
        {
          "data": {
            "text/html": [
              "<div>\n",
              "<style scoped>\n",
              "    .dataframe tbody tr th:only-of-type {\n",
              "        vertical-align: middle;\n",
              "    }\n",
              "\n",
              "    .dataframe tbody tr th {\n",
              "        vertical-align: top;\n",
              "    }\n",
              "\n",
              "    .dataframe thead th {\n",
              "        text-align: right;\n",
              "    }\n",
              "</style>\n",
              "<table border=\"1\" class=\"dataframe\">\n",
              "  <thead>\n",
              "    <tr style=\"text-align: right;\">\n",
              "      <th></th>\n",
              "      <th>count</th>\n",
              "    </tr>\n",
              "    <tr>\n",
              "      <th>Label</th>\n",
              "      <th></th>\n",
              "    </tr>\n",
              "  </thead>\n",
              "  <tbody>\n",
              "    <tr>\n",
              "      <th>0</th>\n",
              "      <td>240000</td>\n",
              "    </tr>\n",
              "    <tr>\n",
              "      <th>1</th>\n",
              "      <td>158000</td>\n",
              "    </tr>\n",
              "    <tr>\n",
              "      <th>2</th>\n",
              "      <td>80451</td>\n",
              "    </tr>\n",
              "  </tbody>\n",
              "</table>\n",
              "</div><br><label><b>dtype:</b> int64</label>"
            ],
            "text/plain": [
              "Label\n",
              "0    240000\n",
              "1    158000\n",
              "2     80451\n",
              "Name: count, dtype: int64"
            ]
          },
          "execution_count": 17,
          "metadata": {},
          "output_type": "execute_result"
        }
      ],
      "source": [
        "def randomundersampler(x, y):\n",
        "\n",
        "    rus = RandomUnderSampler(random_state=0, sampling_strategy={0: 240000, 1: 158000, 2: 80451})  # số mẫu nhãn 0 = nhãn 1 + nhãn 2\n",
        "    x_UnderSampler, y_UnderSampler = rus.fit_resample(x, y)\n",
        "\n",
        "    return x_UnderSampler, y_UnderSampler\n",
        "\n",
        "x_UnderSampler_1_4_1, y_UnderSampler_1_4_1 = randomundersampler(x_1_4_1, y)  # TH mã hóa gán trị số xử lí mất căn bằng RandomUnderSampler\n",
        "y_UnderSampler_1_4_1.value_counts()\n"
      ]
    },
    {
      "cell_type": "code",
      "execution_count": null,
      "metadata": {
        "colab": {
          "base_uri": "https://localhost:8080/"
        },
        "id": "qucfF9l9dxqK",
        "outputId": "b24c6672-4ee6-42a0-d77d-17a0c68cd817"
      },
      "outputs": [
        {
          "data": {
            "text/html": [
              "<div>\n",
              "<style scoped>\n",
              "    .dataframe tbody tr th:only-of-type {\n",
              "        vertical-align: middle;\n",
              "    }\n",
              "\n",
              "    .dataframe tbody tr th {\n",
              "        vertical-align: top;\n",
              "    }\n",
              "\n",
              "    .dataframe thead th {\n",
              "        text-align: right;\n",
              "    }\n",
              "</style>\n",
              "<table border=\"1\" class=\"dataframe\">\n",
              "  <thead>\n",
              "    <tr style=\"text-align: right;\">\n",
              "      <th></th>\n",
              "      <th>count</th>\n",
              "    </tr>\n",
              "    <tr>\n",
              "      <th>Label</th>\n",
              "      <th></th>\n",
              "    </tr>\n",
              "  </thead>\n",
              "  <tbody>\n",
              "    <tr>\n",
              "      <th>0</th>\n",
              "      <td>240000</td>\n",
              "    </tr>\n",
              "    <tr>\n",
              "      <th>1</th>\n",
              "      <td>158000</td>\n",
              "    </tr>\n",
              "    <tr>\n",
              "      <th>2</th>\n",
              "      <td>80451</td>\n",
              "    </tr>\n",
              "  </tbody>\n",
              "</table>\n",
              "</div><br><label><b>dtype:</b> int64</label>"
            ],
            "text/plain": [
              "Label\n",
              "0    240000\n",
              "1    158000\n",
              "2     80451\n",
              "Name: count, dtype: int64"
            ]
          },
          "execution_count": 18,
          "metadata": {},
          "output_type": "execute_result"
        }
      ],
      "source": [
        "x_UnderSampler_ANOVA, y_UnderSampler_ANOVA = randomundersampler(x_ANOVA, y)  # TH ANOVA xử lí mất căn bằng RandomUnderSampler\n",
        "y_UnderSampler_ANOVA.value_counts()\n"
      ]
    },
    {
      "cell_type": "code",
      "execution_count": null,
      "metadata": {
        "colab": {
          "base_uri": "https://localhost:8080/"
        },
        "id": "ENBIDTXsd2hR",
        "outputId": "68854b05-a0dc-4a68-9bb1-8655e20087bf"
      },
      "outputs": [
        {
          "data": {
            "text/html": [
              "<div>\n",
              "<style scoped>\n",
              "    .dataframe tbody tr th:only-of-type {\n",
              "        vertical-align: middle;\n",
              "    }\n",
              "\n",
              "    .dataframe tbody tr th {\n",
              "        vertical-align: top;\n",
              "    }\n",
              "\n",
              "    .dataframe thead th {\n",
              "        text-align: right;\n",
              "    }\n",
              "</style>\n",
              "<table border=\"1\" class=\"dataframe\">\n",
              "  <thead>\n",
              "    <tr style=\"text-align: right;\">\n",
              "      <th></th>\n",
              "      <th>count</th>\n",
              "    </tr>\n",
              "    <tr>\n",
              "      <th>Label</th>\n",
              "      <th></th>\n",
              "    </tr>\n",
              "  </thead>\n",
              "  <tbody>\n",
              "    <tr>\n",
              "      <th>0</th>\n",
              "      <td>240000</td>\n",
              "    </tr>\n",
              "    <tr>\n",
              "      <th>1</th>\n",
              "      <td>158000</td>\n",
              "    </tr>\n",
              "    <tr>\n",
              "      <th>2</th>\n",
              "      <td>80451</td>\n",
              "    </tr>\n",
              "  </tbody>\n",
              "</table>\n",
              "</div><br><label><b>dtype:</b> int64</label>"
            ],
            "text/plain": [
              "Label\n",
              "0    240000\n",
              "1    158000\n",
              "2     80451\n",
              "Name: count, dtype: int64"
            ]
          },
          "execution_count": 19,
          "metadata": {},
          "output_type": "execute_result"
        }
      ],
      "source": [
        "x_UnderSampler_chi_2, y_UnderSampler_chi_2 = randomundersampler(x_chi_2, y)  # TH chi 2 xử lí mất căn bằng RandomUnderSampler\n",
        "y_UnderSampler_chi_2.value_counts()"
      ]
    },
    {
      "cell_type": "markdown",
      "metadata": {
        "id": "Fel-qQWnbjPi"
      },
      "source": [
        "### **1.6.2.NearMiss**"
      ]
    },
    {
      "cell_type": "code",
      "execution_count": null,
      "metadata": {
        "colab": {
          "base_uri": "https://localhost:8080/"
        },
        "id": "uQMCKRMkbniS",
        "outputId": "8c44b502-d791-4667-f6f7-3c06a17ecce0"
      },
      "outputs": [
        {
          "data": {
            "text/html": [
              "<div>\n",
              "<style scoped>\n",
              "    .dataframe tbody tr th:only-of-type {\n",
              "        vertical-align: middle;\n",
              "    }\n",
              "\n",
              "    .dataframe tbody tr th {\n",
              "        vertical-align: top;\n",
              "    }\n",
              "\n",
              "    .dataframe thead th {\n",
              "        text-align: right;\n",
              "    }\n",
              "</style>\n",
              "<table border=\"1\" class=\"dataframe\">\n",
              "  <thead>\n",
              "    <tr style=\"text-align: right;\">\n",
              "      <th></th>\n",
              "      <th>count</th>\n",
              "    </tr>\n",
              "    <tr>\n",
              "      <th>Label</th>\n",
              "      <th></th>\n",
              "    </tr>\n",
              "  </thead>\n",
              "  <tbody>\n",
              "    <tr>\n",
              "      <th>0</th>\n",
              "      <td>240000</td>\n",
              "    </tr>\n",
              "    <tr>\n",
              "      <th>1</th>\n",
              "      <td>158000</td>\n",
              "    </tr>\n",
              "    <tr>\n",
              "      <th>2</th>\n",
              "      <td>80451</td>\n",
              "    </tr>\n",
              "  </tbody>\n",
              "</table>\n",
              "</div><br><label><b>dtype:</b> int64</label>"
            ],
            "text/plain": [
              "Label\n",
              "0    240000\n",
              "1    158000\n",
              "2     80451\n",
              "Name: count, dtype: int64"
            ]
          },
          "execution_count": 20,
          "metadata": {},
          "output_type": "execute_result"
        }
      ],
      "source": [
        "def nearmiss(x, y):\n",
        "    nm = NearMiss(version=1, sampling_strategy={0: 240000, 1: 158000, 2: 80451}) # tổng 0 = 1 +2\n",
        "    x_nearmiss, y_nearmiss = nm.fit_resample(x, y)\n",
        "\n",
        "    return x_nearmiss,y_nearmiss\n",
        "x_nearmiss_ANOVA, y_nearmiss_ANOVA = nearmiss(x_ANOVA,y)\n",
        "y_nearmiss_ANOVA.value_counts()   # TH ANOVA xử lí mất căn bằng nearmiss\n"
      ]
    },
    {
      "cell_type": "code",
      "execution_count": null,
      "metadata": {
        "colab": {
          "base_uri": "https://localhost:8080/"
        },
        "id": "vJLvrNuwpcc7",
        "outputId": "ff67c4c8-d050-414b-b942-232e0f579890"
      },
      "outputs": [
        {
          "data": {
            "text/html": [
              "<div>\n",
              "<style scoped>\n",
              "    .dataframe tbody tr th:only-of-type {\n",
              "        vertical-align: middle;\n",
              "    }\n",
              "\n",
              "    .dataframe tbody tr th {\n",
              "        vertical-align: top;\n",
              "    }\n",
              "\n",
              "    .dataframe thead th {\n",
              "        text-align: right;\n",
              "    }\n",
              "</style>\n",
              "<table border=\"1\" class=\"dataframe\">\n",
              "  <thead>\n",
              "    <tr style=\"text-align: right;\">\n",
              "      <th></th>\n",
              "      <th>count</th>\n",
              "    </tr>\n",
              "    <tr>\n",
              "      <th>Label</th>\n",
              "      <th></th>\n",
              "    </tr>\n",
              "  </thead>\n",
              "  <tbody>\n",
              "    <tr>\n",
              "      <th>0</th>\n",
              "      <td>240000</td>\n",
              "    </tr>\n",
              "    <tr>\n",
              "      <th>1</th>\n",
              "      <td>158000</td>\n",
              "    </tr>\n",
              "    <tr>\n",
              "      <th>2</th>\n",
              "      <td>80451</td>\n",
              "    </tr>\n",
              "  </tbody>\n",
              "</table>\n",
              "</div><br><label><b>dtype:</b> int64</label>"
            ],
            "text/plain": [
              "Label\n",
              "0    240000\n",
              "1    158000\n",
              "2     80451\n",
              "Name: count, dtype: int64"
            ]
          },
          "execution_count": 21,
          "metadata": {},
          "output_type": "execute_result"
        }
      ],
      "source": [
        "x_nearmiss_1_4_1, y_nearmiss_1_4_1 = nearmiss(x_1_4_1,y)\n",
        "y_nearmiss_1_4_1.value_counts()   # TH mã hóa gán trị số xử lí mất căn bằng nearmiss"
      ]
    },
    {
      "cell_type": "code",
      "execution_count": null,
      "metadata": {
        "colab": {
          "base_uri": "https://localhost:8080/"
        },
        "id": "U34tBSZHfGih",
        "outputId": "de7437a1-a1b7-4593-b5fd-eb0241dc06c7"
      },
      "outputs": [
        {
          "data": {
            "text/html": [
              "<div>\n",
              "<style scoped>\n",
              "    .dataframe tbody tr th:only-of-type {\n",
              "        vertical-align: middle;\n",
              "    }\n",
              "\n",
              "    .dataframe tbody tr th {\n",
              "        vertical-align: top;\n",
              "    }\n",
              "\n",
              "    .dataframe thead th {\n",
              "        text-align: right;\n",
              "    }\n",
              "</style>\n",
              "<table border=\"1\" class=\"dataframe\">\n",
              "  <thead>\n",
              "    <tr style=\"text-align: right;\">\n",
              "      <th></th>\n",
              "      <th>count</th>\n",
              "    </tr>\n",
              "    <tr>\n",
              "      <th>Label</th>\n",
              "      <th></th>\n",
              "    </tr>\n",
              "  </thead>\n",
              "  <tbody>\n",
              "    <tr>\n",
              "      <th>0</th>\n",
              "      <td>240000</td>\n",
              "    </tr>\n",
              "    <tr>\n",
              "      <th>1</th>\n",
              "      <td>158000</td>\n",
              "    </tr>\n",
              "    <tr>\n",
              "      <th>2</th>\n",
              "      <td>80451</td>\n",
              "    </tr>\n",
              "  </tbody>\n",
              "</table>\n",
              "</div><br><label><b>dtype:</b> int64</label>"
            ],
            "text/plain": [
              "Label\n",
              "0    240000\n",
              "1    158000\n",
              "2     80451\n",
              "Name: count, dtype: int64"
            ]
          },
          "execution_count": 22,
          "metadata": {},
          "output_type": "execute_result"
        }
      ],
      "source": [
        "x_nearmiss_chi_2, y_nearmiss_chi_2 = nearmiss(x_chi_2,y)\n",
        "y_nearmiss_chi_2.value_counts()   # TH chi 2 xử lí mất căn bằng nearmiss"
      ]
    },
    {
      "cell_type": "code",
      "execution_count": null,
      "metadata": {
        "id": "ey2FBaMEhEab"
      },
      "outputs": [],
      "source": [
        "x_train_UnderSampler_1_4_1, x_test_UnderSampler_1_4_1, y_train_UnderSampler_1_4_1, y_test_UnderSampler_1_4_1 = train_test_split(x_UnderSampler_1_4_1, y_UnderSampler_1_4_1, test_size=0.2, random_state=42, stratify=y_UnderSampler_1_4_1)\n",
        "x_train_UnderSampler_ANOVA, x_test_UnderSampler_ANOVA, y_train_UnderSampler_ANOVA, y_test_UnderSampler_ANOVA = train_test_split(x_UnderSampler_ANOVA, y_UnderSampler_ANOVA, test_size=0.2, random_state=42,stratify=y_UnderSampler_ANOVA)\n",
        "x_train_UnderSampler_chi_2, x_test_UnderSampler_chi_2, y_train_UnderSampler_chi_2, y_test_UnderSampler_chi_2 = train_test_split(x_UnderSampler_chi_2, y_UnderSampler_chi_2, test_size=0.2, random_state=42, stratify=y_UnderSampler_chi_2)\n",
        "\n",
        "x_train_nearmiss_1_4_1, x_test_nearmiss_1_4_1, y_train_nearmiss_1_4_1, y_test_nearmiss_1_4_1 = train_test_split(x_nearmiss_1_4_1, y_nearmiss_1_4_1, test_size=0.2, random_state=42, stratify=y_nearmiss_1_4_1)\n",
        "x_train_nearmiss_ANOVA, x_test_nearmiss_ANOVA, y_train_nearmiss_ANOVA, y_test_nearmiss_ANOVA = train_test_split(x_nearmiss_ANOVA, y_nearmiss_ANOVA, test_size=0.2, random_state=42, stratify=y_nearmiss_ANOVA)\n",
        "x_train_nearmiss_chi_2, x_test_nearmiss_chi_2, y_train_nearmiss_chi_2, y_test_nearmiss_chi_2 = train_test_split(x_nearmiss_chi_2, y_nearmiss_chi_2, test_size=0.2, random_state=42, stratify=y_nearmiss_chi_2)\n"
      ]
    },
    {
      "cell_type": "markdown",
      "metadata": {
        "id": "GfeFcF7tglNC"
      },
      "source": [
        "## **1.7.Chuẩn hóa dữ liệu**"
      ]
    },
    {
      "cell_type": "markdown",
      "metadata": {
        "id": "8MvXVCdAg1kp"
      },
      "source": [
        "### **1.7.1.Normalization**"
      ]
    },
    {
      "cell_type": "code",
      "execution_count": null,
      "metadata": {
        "colab": {
          "base_uri": "https://localhost:8080/"
        },
        "id": "nb_IiK4Ug5rK",
        "outputId": "364c0293-2494-4940-84a6-b25a538d590f"
      },
      "outputs": [
        {
          "data": {
            "text/plain": [
              "array([[2.25138513e-02, 3.52941176e-01, 1.00000000e+00, 0.00000000e+00,\n",
              "        0.00000000e+00, 2.71362268e-05, 1.51930893e-05, 5.50171452e-05],\n",
              "       [6.20716971e-08, 1.00000000e+00, 5.00000000e-01, 0.00000000e+00,\n",
              "        0.00000000e+00, 9.69150956e-07, 1.54601279e-07, 5.83831883e-07],\n",
              "       [8.31516885e-01, 1.00000000e+00, 5.00000000e-01, 0.00000000e+00,\n",
              "        0.00000000e+00, 1.06606605e-05, 1.46871215e-06, 7.78442511e-06],\n",
              "       [1.18912417e-01, 3.52941176e-01, 1.00000000e+00, 0.00000000e+00,\n",
              "        0.00000000e+00, 3.10128306e-05, 7.74913813e-06, 3.90014114e-05],\n",
              "       [3.57959274e-04, 3.52941176e-01, 1.00000000e+00, 0.00000000e+00,\n",
              "        0.00000000e+00, 4.84575478e-06, 3.07194749e-07, 1.34065099e-06]])"
            ]
          },
          "execution_count": 24,
          "metadata": {},
          "output_type": "execute_result"
        }
      ],
      "source": [
        "def Normalization(x_train ,x_test):\n",
        "\n",
        "    scaler = MinMaxScaler(feature_range=(0,1)).fit(x_train)\n",
        "\n",
        "    x_train = scaler.transform(x_train)\n",
        "    x_test = scaler.transform(x_test)\n",
        "    return x_train ,x_test\n",
        "x_train_1_4_1_UnderSampler_Normalization , x_test_1_4_1_UnderSampler_Normalization = Normalization (x_train_UnderSampler_1_4_1, x_test_UnderSampler_1_4_1)\n",
        "x_train_1_4_1_UnderSampler_Normalization[:5] # TH dùng mã số 1.4.1 + UnderSampler"
      ]
    },
    {
      "cell_type": "code",
      "execution_count": null,
      "metadata": {
        "colab": {
          "base_uri": "https://localhost:8080/"
        },
        "id": "S1r-V-bYnr6q",
        "outputId": "39043346-2f9a-43a4-846b-3a3e9f2c8efe"
      },
      "outputs": [
        {
          "data": {
            "text/plain": [
              "array([[6.94444492e-08, 1.00000000e+00, 5.00000000e-01, 0.00000000e+00,\n",
              "        0.00000000e+00, 4.23994709e-06, 5.61648463e-07, 5.98247485e-07],\n",
              "       [5.16666702e-08, 1.00000000e+00, 5.00000000e-01, 0.00000000e+00,\n",
              "        0.00000000e+00, 4.23994709e-06, 5.32845978e-07, 5.69416281e-07],\n",
              "       [6.22222264e-08, 1.00000000e+00, 5.00000000e-01, 0.00000000e+00,\n",
              "        0.00000000e+00, 4.23994709e-06, 5.32845978e-07, 5.69416281e-07],\n",
              "       [6.41666710e-08, 1.00000000e+00, 5.00000000e-01, 0.00000000e+00,\n",
              "        0.00000000e+00, 4.23994709e-06, 5.32845978e-07, 5.69416281e-07],\n",
              "       [0.00000000e+00, 5.88235294e-02, 1.00000000e+00, 0.00000000e+00,\n",
              "        1.00000000e+00, 0.00000000e+00, 3.62191253e-06, 7.68351589e-06]])"
            ]
          },
          "execution_count": 25,
          "metadata": {},
          "output_type": "execute_result"
        }
      ],
      "source": [
        "x_train_1_4_1_nearmiss_Normalization , x_test_1_4_1_nearmiss_Normalization = Normalization(x_train_nearmiss_1_4_1, x_test_nearmiss_1_4_1)\n",
        "x_train_1_4_1_nearmiss_Normalization[:5] # TH mã hóa số 1.4.1 + mearmiss"
      ]
    },
    {
      "cell_type": "code",
      "execution_count": null,
      "metadata": {
        "colab": {
          "base_uri": "https://localhost:8080/"
        },
        "id": "A6_ZQAl6-UnK",
        "outputId": "cd07866a-aece-4b3d-bea7-e7716c1561de"
      },
      "outputs": [
        {
          "data": {
            "text/plain": [
              "array([[2.25138513e-02, 1.00000000e+00, 0.00000000e+00, 0.00000000e+00,\n",
              "        0.00000000e+00, 0.00000000e+00, 1.00000000e+00, 0.00000000e+00,\n",
              "        1.00000000e+00, 0.00000000e+00, 1.00000000e+00, 0.00000000e+00],\n",
              "       [6.20716971e-08, 0.00000000e+00, 1.00000000e+00, 0.00000000e+00,\n",
              "        0.00000000e+00, 0.00000000e+00, 0.00000000e+00, 1.00000000e+00,\n",
              "        1.00000000e+00, 0.00000000e+00, 1.00000000e+00, 0.00000000e+00],\n",
              "       [8.31516885e-01, 0.00000000e+00, 1.00000000e+00, 0.00000000e+00,\n",
              "        0.00000000e+00, 0.00000000e+00, 0.00000000e+00, 1.00000000e+00,\n",
              "        1.00000000e+00, 0.00000000e+00, 1.00000000e+00, 0.00000000e+00],\n",
              "       [1.18912417e-01, 1.00000000e+00, 0.00000000e+00, 0.00000000e+00,\n",
              "        0.00000000e+00, 0.00000000e+00, 1.00000000e+00, 0.00000000e+00,\n",
              "        1.00000000e+00, 0.00000000e+00, 1.00000000e+00, 0.00000000e+00],\n",
              "       [3.57959274e-04, 1.00000000e+00, 0.00000000e+00, 0.00000000e+00,\n",
              "        0.00000000e+00, 0.00000000e+00, 1.00000000e+00, 0.00000000e+00,\n",
              "        1.00000000e+00, 0.00000000e+00, 1.00000000e+00, 0.00000000e+00]])"
            ]
          },
          "execution_count": 26,
          "metadata": {},
          "output_type": "execute_result"
        }
      ],
      "source": [
        "x_train_UnderSampler_ANOVA_Normalization ,x_test_UnderSampler_ANOVA_Normalization = Normalization(x_train_UnderSampler_ANOVA, x_test_UnderSampler_ANOVA)\n",
        "x_train_UnderSampler_ANOVA_Normalization[:5]  # TH mã onehot endcoding 1.4.2 + ANOVA + UnderSampler"
      ]
    },
    {
      "cell_type": "code",
      "execution_count": null,
      "metadata": {
        "colab": {
          "base_uri": "https://localhost:8080/"
        },
        "id": "A4SB2FdG_7ku",
        "outputId": "b1a86eb2-5de0-42b9-d1c8-90cfc8f43559"
      },
      "outputs": [
        {
          "data": {
            "text/plain": [
              "array([[1.60277789e-07, 0.00000000e+00, 1.00000000e+00, 0.00000000e+00,\n",
              "        0.00000000e+00, 0.00000000e+00, 0.00000000e+00, 1.00000000e+00,\n",
              "        1.00000000e+00, 0.00000000e+00, 1.00000000e+00, 0.00000000e+00],\n",
              "       [7.44444495e-08, 0.00000000e+00, 1.00000000e+00, 0.00000000e+00,\n",
              "        0.00000000e+00, 0.00000000e+00, 0.00000000e+00, 1.00000000e+00,\n",
              "        1.00000000e+00, 0.00000000e+00, 1.00000000e+00, 0.00000000e+00],\n",
              "       [8.88888949e-08, 0.00000000e+00, 1.00000000e+00, 0.00000000e+00,\n",
              "        0.00000000e+00, 0.00000000e+00, 0.00000000e+00, 1.00000000e+00,\n",
              "        1.00000000e+00, 0.00000000e+00, 1.00000000e+00, 0.00000000e+00],\n",
              "       [6.69444490e-08, 0.00000000e+00, 1.00000000e+00, 0.00000000e+00,\n",
              "        0.00000000e+00, 0.00000000e+00, 0.00000000e+00, 1.00000000e+00,\n",
              "        1.00000000e+00, 0.00000000e+00, 1.00000000e+00, 0.00000000e+00],\n",
              "       [1.02405143e-02, 1.00000000e+00, 0.00000000e+00, 0.00000000e+00,\n",
              "        0.00000000e+00, 0.00000000e+00, 1.00000000e+00, 0.00000000e+00,\n",
              "        1.00000000e+00, 0.00000000e+00, 1.00000000e+00, 0.00000000e+00]])"
            ]
          },
          "execution_count": 27,
          "metadata": {},
          "output_type": "execute_result"
        }
      ],
      "source": [
        "x_train_nearmiss_ANOVA_Normalization ,x_test_nearmiss_ANOVA_Normalization = Normalization(x_train_nearmiss_ANOVA, x_test_nearmiss_ANOVA)\n",
        "x_train_nearmiss_ANOVA_Normalization[:5] #TH mã onehot endcoding 1.4.2 + ANOVA + Nearmiss"
      ]
    },
    {
      "cell_type": "code",
      "execution_count": null,
      "metadata": {
        "colab": {
          "base_uri": "https://localhost:8080/"
        },
        "id": "i4-pk0rfAcpP",
        "outputId": "156f2382-c676-42f3-f1f3-8664e38026e6"
      },
      "outputs": [
        {
          "data": {
            "text/plain": [
              "array([[2.25138513e-02, 2.71362268e-05, 1.51930893e-05, 5.50171452e-05,\n",
              "        1.00000000e+00, 0.00000000e+00, 0.00000000e+00, 0.00000000e+00,\n",
              "        1.00000000e+00, 0.00000000e+00],\n",
              "       [6.20716971e-08, 9.69150956e-07, 1.54601279e-07, 5.83831883e-07,\n",
              "        0.00000000e+00, 1.00000000e+00, 0.00000000e+00, 1.00000000e+00,\n",
              "        1.00000000e+00, 0.00000000e+00],\n",
              "       [8.31516885e-01, 1.06606605e-05, 1.46871215e-06, 7.78442511e-06,\n",
              "        0.00000000e+00, 1.00000000e+00, 0.00000000e+00, 1.00000000e+00,\n",
              "        1.00000000e+00, 0.00000000e+00],\n",
              "       [1.18912417e-01, 3.10128306e-05, 7.74913813e-06, 3.90014114e-05,\n",
              "        1.00000000e+00, 0.00000000e+00, 0.00000000e+00, 0.00000000e+00,\n",
              "        1.00000000e+00, 0.00000000e+00],\n",
              "       [3.57959274e-04, 4.84575478e-06, 3.07194749e-07, 1.34065099e-06,\n",
              "        1.00000000e+00, 0.00000000e+00, 0.00000000e+00, 0.00000000e+00,\n",
              "        1.00000000e+00, 0.00000000e+00]])"
            ]
          },
          "execution_count": 28,
          "metadata": {},
          "output_type": "execute_result"
        }
      ],
      "source": [
        "x_train_UnderSampler_chi_2_Normalization ,x_test_UnderSampler_chi_2_Normalization = Normalization( x_train_UnderSampler_chi_2, x_test_UnderSampler_chi_2 )\n",
        "x_train_UnderSampler_chi_2_Normalization[:5]  #TH mã onehot endcoding 1.4.2 + chi 2 + UnderSampler"
      ]
    },
    {
      "cell_type": "code",
      "execution_count": null,
      "metadata": {
        "colab": {
          "base_uri": "https://localhost:8080/"
        },
        "id": "lURbgHAQBHPm",
        "outputId": "c7da1f88-0542-4b6c-a211-045f70f4abf0"
      },
      "outputs": [
        {
          "data": {
            "text/plain": [
              "array([[7.08333381e-08, 4.23994709e-06, 5.61648463e-07, 5.98247485e-07,\n",
              "        0.00000000e+00, 1.00000000e+00, 0.00000000e+00, 1.00000000e+00,\n",
              "        1.00000000e+00, 0.00000000e+00],\n",
              "       [6.50000044e-08, 4.23994709e-06, 5.32845978e-07, 5.69416281e-07,\n",
              "        0.00000000e+00, 1.00000000e+00, 0.00000000e+00, 1.00000000e+00,\n",
              "        1.00000000e+00, 0.00000000e+00],\n",
              "       [6.22222264e-08, 4.23994709e-06, 5.32845978e-07, 5.69416281e-07,\n",
              "        0.00000000e+00, 1.00000000e+00, 0.00000000e+00, 1.00000000e+00,\n",
              "        1.00000000e+00, 0.00000000e+00],\n",
              "       [7.02777825e-08, 4.23994709e-06, 5.54447842e-07, 5.83831883e-07,\n",
              "        0.00000000e+00, 1.00000000e+00, 0.00000000e+00, 1.00000000e+00,\n",
              "        1.00000000e+00, 0.00000000e+00],\n",
              "       [0.00000000e+00, 0.00000000e+00, 3.62191253e-06, 7.68351589e-06,\n",
              "        1.00000000e+00, 0.00000000e+00, 1.00000000e+00, 0.00000000e+00,\n",
              "        0.00000000e+00, 1.00000000e+00]])"
            ]
          },
          "execution_count": 29,
          "metadata": {},
          "output_type": "execute_result"
        }
      ],
      "source": [
        "x_train_nearmiss_chi_2_Normalization ,x_test_nearmiss_chi_2_Normalization = Normalization( x_train_nearmiss_chi_2, x_test_nearmiss_chi_2 )\n",
        "x_train_nearmiss_chi_2_Normalization[:5]  #TH mã onehot endcoding 1.4.2 + chi 2 + Nearmiss"
      ]
    },
    {
      "cell_type": "markdown",
      "metadata": {
        "id": "0jPVkXLcoBXy"
      },
      "source": [
        "### **1.7.2.Standardization**"
      ]
    },
    {
      "cell_type": "code",
      "execution_count": null,
      "metadata": {
        "colab": {
          "base_uri": "https://localhost:8080/"
        },
        "id": "WhjRKowmoG8S",
        "outputId": "218a72fb-ff78-4897-bb15-146f0fc70c63"
      },
      "outputs": [
        {
          "data": {
            "text/plain": [
              "array([[-1.41186909e-01, -5.98140444e-01,  9.71437977e-01,\n",
              "        -3.42687654e-02, -6.52472108e-01, -2.45344895e-03,\n",
              "        -5.43977739e-03, -1.09428672e-03],\n",
              "       [-2.73880319e-01,  9.68097324e-01, -9.60164074e-01,\n",
              "        -3.42687654e-02, -6.52472108e-01, -1.23603848e-02,\n",
              "        -1.08426097e-02, -1.17754149e-02],\n",
              "       [ 4.62697404e+00,  9.68097324e-01, -9.60164074e-01,\n",
              "        -3.42687654e-02, -6.52472108e-01, -8.69114931e-03,\n",
              "        -1.03704930e-02, -1.03624849e-02],\n",
              "       [ 4.26973970e-01, -5.98140444e-01,  9.71437977e-01,\n",
              "        -3.42687654e-02, -6.52472108e-01, -9.85754747e-04,\n",
              "        -8.11414330e-03, -4.23695975e-03],\n",
              "       [-2.71770918e-01, -5.98140444e-01,  9.71437977e-01,\n",
              "        -3.42687654e-02, -6.52472108e-01, -1.08926906e-02,\n",
              "        -1.07877879e-02, -1.16269087e-02]])"
            ]
          },
          "execution_count": 30,
          "metadata": {},
          "output_type": "execute_result"
        }
      ],
      "source": [
        "def Standardization(x_train,x_test):\n",
        "\n",
        "    scaler = StandardScaler().fit(x_train)\n",
        "    x_train = scaler.transform(x_train)\n",
        "    x_test = scaler.transform(x_test)\n",
        "    return x_train ,x_test\n",
        "x_train_1_4_1_UnderSampler_Standardization , x_test_1_4_1_UnderSampler_Standardization = Standardization(x_train_UnderSampler_1_4_1, x_test_UnderSampler_1_4_1)\n",
        "x_train_1_4_1_UnderSampler_Standardization[:5] # TH dùng mã số 1.4.1 + UnderSampler"
      ]
    },
    {
      "cell_type": "code",
      "execution_count": null,
      "metadata": {
        "colab": {
          "base_uri": "https://localhost:8080/"
        },
        "id": "BRfuJRiYn5Sy",
        "outputId": "5e88d80f-2c7d-4ba6-89c9-e180845f2981"
      },
      "outputs": [
        {
          "data": {
            "text/plain": [
              "array([[-0.15013816,  0.79340818, -0.84111775, -0.01399942, -0.66893528,\n",
              "        -0.01243816, -0.01237816, -0.0103547 ],\n",
              "       [-0.1501385 ,  0.79340818, -0.84111775, -0.01399942, -0.66893528,\n",
              "        -0.01243816, -0.01238608, -0.01035982],\n",
              "       [-0.1501383 ,  0.79340818, -0.84111775, -0.01399942, -0.66893528,\n",
              "        -0.01243816, -0.01238608, -0.01035982],\n",
              "       [-0.15013826,  0.79340818, -0.84111775, -0.01399942, -0.66893528,\n",
              "        -0.01243816, -0.01238608, -0.01035982],\n",
              "       [-0.15013949, -1.44259535,  1.170493  , -0.01399942,  1.49491293,\n",
              "        -0.01335092, -0.01153697, -0.00909623]])"
            ]
          },
          "execution_count": 31,
          "metadata": {},
          "output_type": "execute_result"
        }
      ],
      "source": [
        "x_train_1_4_1_nearmiss_Standardization , x_test_1_4_1_nearmiss_Standardization = Standardization(x_train_nearmiss_1_4_1, x_test_nearmiss_1_4_1)\n",
        "x_train_1_4_1_nearmiss_Standardization[:5] # TH mã hóa số 1.4.1 + mearmiss"
      ]
    },
    {
      "cell_type": "code",
      "execution_count": null,
      "metadata": {
        "colab": {
          "base_uri": "https://localhost:8080/"
        },
        "id": "ONwHnUQVBs4I",
        "outputId": "1eb81634-181d-4009-c9be-ef813d19fbcb"
      },
      "outputs": [
        {
          "data": {
            "text/plain": [
              "array([[-0.14118691,  0.987883  , -0.97022568, -0.09537014, -0.58787767,\n",
              "        -0.0460795 ,  1.77344746, -0.99959252,  0.07936768, -0.07582375,\n",
              "         0.65254898, -0.65241469],\n",
              "       [-0.27388032, -1.01226562,  1.03068803, -0.09537014, -0.58787767,\n",
              "        -0.0460795 , -0.56387349,  1.00040765,  0.07936768, -0.07582375,\n",
              "         0.65254898, -0.65241469],\n",
              "       [ 4.62697404, -1.01226562,  1.03068803, -0.09537014, -0.58787767,\n",
              "        -0.0460795 , -0.56387349,  1.00040765,  0.07936768, -0.07582375,\n",
              "         0.65254898, -0.65241469],\n",
              "       [ 0.42697397,  0.987883  , -0.97022568, -0.09537014, -0.58787767,\n",
              "        -0.0460795 ,  1.77344746, -0.99959252,  0.07936768, -0.07582375,\n",
              "         0.65254898, -0.65241469],\n",
              "       [-0.27177092,  0.987883  , -0.97022568, -0.09537014, -0.58787767,\n",
              "        -0.0460795 ,  1.77344746, -0.99959252,  0.07936768, -0.07582375,\n",
              "         0.65254898, -0.65241469]])"
            ]
          },
          "execution_count": 32,
          "metadata": {},
          "output_type": "execute_result"
        }
      ],
      "source": [
        "x_train_UnderSampler_ANOVA_Standardization ,x_test_UnderSampler_ANOVA_Standardization = Standardization(x_train_UnderSampler_ANOVA, x_test_UnderSampler_ANOVA)\n",
        "x_train_UnderSampler_ANOVA_Standardization[:5]  # TH mã onehot endcoding 1.4.2 + ANOVA + UnderSampler"
      ]
    },
    {
      "cell_type": "code",
      "execution_count": null,
      "metadata": {
        "colab": {
          "base_uri": "https://localhost:8080/"
        },
        "id": "i4DPX4FQBtB3",
        "outputId": "a731ed9a-1768-4d46-fed0-5a176f56ebf2"
      },
      "outputs": [
        {
          "data": {
            "text/plain": [
              "array([[-0.14951282, -0.802819  ,  0.80627323, -0.04530436, -0.57865754,\n",
              "        -0.01352463, -0.40071388,  0.79856129,  0.01542088, -0.01542088,\n",
              "         0.62527949, -0.62527949],\n",
              "       [-0.14951444, -0.802819  ,  0.80627323, -0.04530436, -0.57865754,\n",
              "        -0.01352463, -0.40071388,  0.79856129,  0.01542088, -0.01542088,\n",
              "         0.62527949, -0.62527949],\n",
              "       [-0.14951417, -0.802819  ,  0.80627323, -0.04530436, -0.57865754,\n",
              "        -0.01352463, -0.40071388,  0.79856129,  0.01542088, -0.01542088,\n",
              "         0.62527949, -0.62527949],\n",
              "       [-0.14951458, -0.802819  ,  0.80627323, -0.04530436, -0.57865754,\n",
              "        -0.01352463, -0.40071388,  0.79856129,  0.01542088, -0.01542088,\n",
              "         0.62527949, -0.62527949],\n",
              "       [ 0.04336211,  1.24561078, -1.24027434, -0.04530436, -0.57865754,\n",
              "        -0.01352463,  2.4955462 , -1.25225203,  0.01542088, -0.01542088,\n",
              "         0.62527949, -0.62527949]])"
            ]
          },
          "execution_count": 33,
          "metadata": {},
          "output_type": "execute_result"
        }
      ],
      "source": [
        "x_train_nearmiss_ANOVA_Standardization ,x_test_nearmiss_ANOVA_Standardization = Standardization(x_train_nearmiss_ANOVA, x_test_nearmiss_ANOVA)\n",
        "x_train_nearmiss_ANOVA_Standardization[:5] #TH mã onehot endcoding 1.4.2 + ANOVA + Nearmiss"
      ]
    },
    {
      "cell_type": "code",
      "execution_count": null,
      "metadata": {
        "colab": {
          "base_uri": "https://localhost:8080/"
        },
        "id": "bqE_pWx6BtKX",
        "outputId": "85b53242-6c6d-4781-f66c-4f54d73b121d"
      },
      "outputs": [
        {
          "data": {
            "text/plain": [
              "array([[-1.41186909e-01, -2.45344895e-03, -5.43977739e-03,\n",
              "        -1.09428672e-03,  9.87882999e-01, -9.70225684e-01,\n",
              "        -5.87877667e-01, -9.99592517e-01,  6.52548982e-01,\n",
              "        -6.52414686e-01],\n",
              "       [-2.73880319e-01, -1.23603848e-02, -1.08426097e-02,\n",
              "        -1.17754149e-02, -1.01226562e+00,  1.03068803e+00,\n",
              "        -5.87877667e-01,  1.00040765e+00,  6.52548982e-01,\n",
              "        -6.52414686e-01],\n",
              "       [ 4.62697404e+00, -8.69114931e-03, -1.03704930e-02,\n",
              "        -1.03624849e-02, -1.01226562e+00,  1.03068803e+00,\n",
              "        -5.87877667e-01,  1.00040765e+00,  6.52548982e-01,\n",
              "        -6.52414686e-01],\n",
              "       [ 4.26973970e-01, -9.85754747e-04, -8.11414330e-03,\n",
              "        -4.23695975e-03,  9.87882999e-01, -9.70225684e-01,\n",
              "        -5.87877667e-01, -9.99592517e-01,  6.52548982e-01,\n",
              "        -6.52414686e-01],\n",
              "       [-2.71770918e-01, -1.08926906e-02, -1.07877879e-02,\n",
              "        -1.16269087e-02,  9.87882999e-01, -9.70225684e-01,\n",
              "        -5.87877667e-01, -9.99592517e-01,  6.52548982e-01,\n",
              "        -6.52414686e-01]])"
            ]
          },
          "execution_count": 34,
          "metadata": {},
          "output_type": "execute_result"
        }
      ],
      "source": [
        "x_train_UnderSampler_chi_2_Standardization ,x_test_UnderSampler_chi_2_Standardization = Standardization( x_train_UnderSampler_chi_2, x_test_UnderSampler_chi_2 )\n",
        "x_train_UnderSampler_chi_2_Standardization[:5]  #TH mã onehot endcoding 1.4.2 + chi 2 + UnderSampler"
      ]
    },
    {
      "cell_type": "code",
      "execution_count": null,
      "metadata": {
        "colab": {
          "base_uri": "https://localhost:8080/"
        },
        "id": "fc6wJZf2Btau",
        "outputId": "ea650fbf-b357-471b-a60f-364d7cb2be32"
      },
      "outputs": [
        {
          "data": {
            "text/plain": [
              "array([[-0.15004497, -0.01243686, -0.0123788 , -0.01035457, -0.85091184,\n",
              "         0.85424277, -0.59629258,  0.81114301,  0.66895165, -0.66895165],\n",
              "       [-0.15004508, -0.01243686, -0.01238672, -0.0103597 , -0.85091184,\n",
              "         0.85424277, -0.59629258,  0.81114301,  0.66895165, -0.66895165],\n",
              "       [-0.15004514, -0.01243686, -0.01238672, -0.0103597 , -0.85091184,\n",
              "         0.85424277, -0.59629258,  0.81114301,  0.66895165, -0.66895165],\n",
              "       [-0.15004498, -0.01243686, -0.01238078, -0.01035713, -0.85091184,\n",
              "         0.85424277, -0.59629258,  0.81114301,  0.66895165, -0.66895165],\n",
              "       [-0.15004633, -0.01334962, -0.01153761, -0.00909611,  1.17520988,\n",
              "        -1.17062741,  1.67702908, -1.23282823, -1.49487636,  1.49487636]])"
            ]
          },
          "execution_count": 35,
          "metadata": {},
          "output_type": "execute_result"
        }
      ],
      "source": [
        "x_train_nearmiss_chi_2_Standardization ,x_test_nearmiss_chi_2_Standardization = Standardization( x_train_nearmiss_chi_2, x_test_nearmiss_chi_2 )\n",
        "x_train_nearmiss_chi_2_Standardization[:5]  #TH mã onehot endcoding 1.4.2 + chi 2 + Nearmiss"
      ]
    },
    {
      "cell_type": "markdown",
      "metadata": {
        "id": "wFGsfyeooujB"
      },
      "source": [
        "# **2. Các Mô hình máy học**"
      ]
    },
    {
      "cell_type": "markdown",
      "metadata": {
        "id": "0QhZPB9oo2hy"
      },
      "source": [
        "## **2.1.K-Nearest Neighbors**"
      ]
    },
    {
      "cell_type": "code",
      "execution_count": null,
      "metadata": {
        "colab": {
          "base_uri": "https://localhost:8080/"
        },
        "id": "xJFnS2b2o_By",
        "outputId": "bff66128-4916-4591-df9e-fc5c2f15bfae"
      },
      "outputs": [
        {
          "data": {
            "text/plain": [
              "('Nearmiss_chi_2_Standardization', 6.688497770357899)"
            ]
          },
          "execution_count": 95,
          "metadata": {},
          "output_type": "execute_result"
        }
      ],
      "source": [
        "datasets = [\n",
        "    (\"1_4_1_UnderSampler_Normalization\", x_train_1_4_1_UnderSampler_Normalization, x_test_1_4_1_UnderSampler_Normalization, y_train_UnderSampler_1_4_1, y_test_UnderSampler_1_4_1),\n",
        "    (\"1_4_1_Nearmiss_Normalization\",     x_train_1_4_1_nearmiss_Normalization , x_test_1_4_1_nearmiss_Normalization, y_train_nearmiss_1_4_1, y_test_nearmiss_1_4_1),\n",
        "    (\"UnderSampler_ANOVA_Normalization\", x_train_UnderSampler_ANOVA_Normalization ,x_test_UnderSampler_ANOVA_Normalization , y_train_UnderSampler_ANOVA, y_test_UnderSampler_ANOVA),\n",
        "    (\"Nearmiss_ANOVA_Normalization\",     x_train_nearmiss_ANOVA_Normalization ,x_test_nearmiss_ANOVA_Normalization, y_train_nearmiss_ANOVA , y_test_nearmiss_ANOVA) ,\n",
        "    (\"UnderSampler_chi_2_Normalization\", x_train_UnderSampler_chi_2_Normalization ,x_test_UnderSampler_chi_2_Normalization, y_train_UnderSampler_chi_2 , y_test_UnderSampler_chi_2),\n",
        "    (\"Nearmiss_chi_2_Normalization\",     x_train_nearmiss_chi_2_Normalization ,x_test_nearmiss_chi_2_Normalization, y_train_nearmiss_chi_2, y_test_nearmiss_chi_2),\n",
        "\n",
        "    (\"1_4_1_UnderSampler_Standardization\", x_train_1_4_1_UnderSampler_Standardization, x_test_1_4_1_UnderSampler_Standardization, y_train_UnderSampler_1_4_1, y_test_UnderSampler_1_4_1),\n",
        "    (\"1_4_1_Nearmiss_Standardization\",     x_train_1_4_1_nearmiss_Standardization , x_test_1_4_1_nearmiss_Standardization, y_train_nearmiss_1_4_1, y_test_nearmiss_1_4_1),\n",
        "    (\"UnderSampler_ANOVA_Standardization\", x_train_UnderSampler_ANOVA_Standardization ,x_test_UnderSampler_ANOVA_Standardization , y_train_UnderSampler_ANOVA, y_test_UnderSampler_ANOVA),\n",
        "    (\"Nearmiss_ANOVA_Standardization\",     x_train_nearmiss_ANOVA_Standardization ,x_test_nearmiss_ANOVA_Standardization, y_train_nearmiss_ANOVA , y_test_nearmiss_ANOVA) ,\n",
        "    (\"UnderSampler_chi_2_Standardization\", x_train_UnderSampler_chi_2_Standardization ,x_test_UnderSampler_chi_2_Standardization, y_train_UnderSampler_chi_2 , y_test_UnderSampler_chi_2),\n",
        "    (\"Nearmiss_chi_2_Standardization\",     x_train_nearmiss_chi_2_Standardization ,x_test_nearmiss_chi_2_Standardization, y_train_nearmiss_chi_2, y_test_nearmiss_chi_2),\n",
        "]\n",
        "accuracy_dict_KNN = {}\n",
        "precision_dict_KNN = {}\n",
        "recall_dict_KNN = {}\n",
        "f1_dict_KNN = {}\n",
        "auc_label_0_KNN = {}\n",
        "auc_label_1_KNN = {}\n",
        "auc_label_2_KNN = {}\n",
        "total_KNN = {}\n",
        "best_value_KNN = 0\n",
        "best_key_KNN = \"\"\n",
        "for name, x_train, x_test, y_train, y_test in datasets:\n",
        "    knn = KNeighborsClassifier(\n",
        "        n_neighbors=5,\n",
        "        weights='uniform',\n",
        "        algorithm='auto',\n",
        "        leaf_size=30,\n",
        "        metric='minkowski',\n",
        "        metric_params=None,\n",
        "        n_jobs=None\n",
        "    )\n",
        "\n",
        "    knn.fit(x_train, y_train)\n",
        "    y_pred_KNN = knn.predict(x_test)\n",
        "\n",
        "    accuracy = accuracy_score(y_test, y_pred_KNN)\n",
        "    precision = precision_score(y_test, y_pred_KNN, average='macro', zero_division=0)\n",
        "    recall = recall_score(y_test, y_pred_KNN, average='macro', zero_division=0)\n",
        "    f1 = f1_score(y_test, y_pred_KNN, average='macro', zero_division=0)\n",
        "\n",
        "    accuracy_dict_KNN[name] = accuracy\n",
        "    precision_dict_KNN[name] = precision\n",
        "    recall_dict_KNN[name] = recall\n",
        "    f1_dict_KNN[name] = f1\n",
        "\n",
        "\n",
        "        # Dự đoán xác suất\n",
        "    y_score = knn.predict_proba(x_test)\n",
        "\n",
        "        # Binarize nhãn thật\n",
        "    classes = np.unique(y_test)\n",
        "    y_test_bin = label_binarize(y_test, classes=classes)\n",
        "\n",
        "    for i, label in enumerate(classes):\n",
        "        auc = roc_auc_score(y_test_bin[:, i], y_score[:, i])\n",
        "        auc = auc.item()\n",
        "        if label == 0:\n",
        "            auc_label_0_KNN[name] = auc\n",
        "        elif label == 1:\n",
        "            auc_label_1_KNN[name] = auc\n",
        "        elif label == 2:\n",
        "            auc_label_2_KNN[name] = auc\n",
        "\n",
        "\n",
        "\n",
        "    total_KNN[name] = accuracy + precision + recall + f1 + auc_label_0_KNN.get(name, 0) + auc_label_1_KNN.get(name, 0) + auc_label_2_KNN.get(name, 0)\n",
        "\n",
        "    for key, value in total_KNN.items():\n",
        "     if value > best_value_KNN:\n",
        "        best_value_KNN = value\n",
        "        best_key_KNN = key\n",
        "        best_y_score_KNN = y_score\n",
        "        best_y_test_bin_KNN = y_test_bin\n",
        "\n",
        "best_key_KNN , best_value_KNN"
      ]
    },
    {
      "cell_type": "code",
      "execution_count": null,
      "metadata": {
        "colab": {
          "base_uri": "https://localhost:8080/"
        },
        "id": "jxcmKDyB0y6d",
        "outputId": "1127d6e2-f71d-4b91-d4c4-2b0a5eb2afff"
      },
      "outputs": [
        {
          "data": {
            "text/plain": [
              "{'1_4_1_UnderSampler_Normalization': 0.9189996969411961,\n",
              " '1_4_1_Nearmiss_Normalization': 0.9471737153964322,\n",
              " 'UnderSampler_ANOVA_Normalization': 0.8166285230585949,\n",
              " 'Nearmiss_ANOVA_Normalization': 0.8648148728720569,\n",
              " 'UnderSampler_chi_2_Normalization': 0.9189683460304522,\n",
              " 'Nearmiss_chi_2_Normalization': 0.9480515408972631,\n",
              " '1_4_1_UnderSampler_Standardization': 0.9324074364360284,\n",
              " '1_4_1_Nearmiss_Standardization': 0.9507477192212433,\n",
              " 'UnderSampler_ANOVA_Standardization': 0.8162523121296673,\n",
              " 'Nearmiss_ANOVA_Standardization': 0.8661629620340471,\n",
              " 'UnderSampler_chi_2_Standardization': 0.9324492376503537,\n",
              " 'Nearmiss_chi_2_Standardization': 0.9515732932041676}"
            ]
          },
          "execution_count": 96,
          "metadata": {},
          "output_type": "execute_result"
        }
      ],
      "source": [
        "accuracy_dict_KNN"
      ]
    },
    {
      "cell_type": "code",
      "execution_count": null,
      "metadata": {
        "colab": {
          "base_uri": "https://localhost:8080/"
        },
        "id": "7lDZnejNS6pE",
        "outputId": "924633ac-a0b6-45ce-c967-65db0f125bb3"
      },
      "outputs": [
        {
          "data": {
            "text/plain": [
              "{'1_4_1_UnderSampler_Normalization': 0.9051928774515673,\n",
              " '1_4_1_Nearmiss_Normalization': 0.9313791463776196,\n",
              " 'UnderSampler_ANOVA_Normalization': 0.7751320561632036,\n",
              " 'Nearmiss_ANOVA_Normalization': 0.8348343297594313,\n",
              " 'UnderSampler_chi_2_Normalization': 0.9051428236359609,\n",
              " 'Nearmiss_chi_2_Normalization': 0.9327450536051259,\n",
              " '1_4_1_UnderSampler_Standardization': 0.9182847577231614,\n",
              " '1_4_1_Nearmiss_Standardization': 0.9366160865759628,\n",
              " 'UnderSampler_ANOVA_Standardization': 0.7745860227917665,\n",
              " 'Nearmiss_ANOVA_Standardization': 0.8375233092855296,\n",
              " 'UnderSampler_chi_2_Standardization': 0.9183084099402854,\n",
              " 'Nearmiss_chi_2_Standardization': 0.9375257287993456}"
            ]
          },
          "execution_count": 97,
          "metadata": {},
          "output_type": "execute_result"
        }
      ],
      "source": [
        "precision_dict_KNN"
      ]
    },
    {
      "cell_type": "code",
      "execution_count": null,
      "metadata": {
        "colab": {
          "base_uri": "https://localhost:8080/"
        },
        "id": "DqtJbkdIS6xm",
        "outputId": "b4e6cb1a-1d64-45bf-eefc-d836be355455"
      },
      "outputs": [
        {
          "data": {
            "text/plain": [
              "{'1_4_1_UnderSampler_Normalization': 0.8958189824586801,\n",
              " '1_4_1_Nearmiss_Normalization': 0.923948230644862,\n",
              " 'UnderSampler_ANOVA_Normalization': 0.7372582580989836,\n",
              " 'Nearmiss_ANOVA_Normalization': 0.7893125758788361,\n",
              " 'UnderSampler_chi_2_Normalization': 0.8957706045562569,\n",
              " 'Nearmiss_chi_2_Normalization': 0.9249417670410524,\n",
              " '1_4_1_UnderSampler_Standardization': 0.9144984652612648,\n",
              " '1_4_1_Nearmiss_Standardization': 0.9290280306026003,\n",
              " 'UnderSampler_ANOVA_Standardization': 0.736946609246307,\n",
              " 'Nearmiss_ANOVA_Standardization': 0.7904815251413885,\n",
              " 'UnderSampler_chi_2_Standardization': 0.9145813324665683,\n",
              " 'Nearmiss_chi_2_Standardization': 0.930404007032501}"
            ]
          },
          "execution_count": 98,
          "metadata": {},
          "output_type": "execute_result"
        }
      ],
      "source": [
        "recall_dict_KNN"
      ]
    },
    {
      "cell_type": "code",
      "execution_count": null,
      "metadata": {
        "colab": {
          "base_uri": "https://localhost:8080/"
        },
        "id": "_jZ2Y35kS7A7",
        "outputId": "d027dc72-fad1-4394-e47e-a9db6312c563"
      },
      "outputs": [
        {
          "data": {
            "text/plain": [
              "{'1_4_1_UnderSampler_Normalization': 0.9003126506074635,\n",
              " '1_4_1_Nearmiss_Normalization': 0.9275332756929654,\n",
              " 'UnderSampler_ANOVA_Normalization': 0.7498349222545014,\n",
              " 'Nearmiss_ANOVA_Normalization': 0.8044558090677226,\n",
              " 'UnderSampler_chi_2_Normalization': 0.9002634557938131,\n",
              " 'Nearmiss_chi_2_Normalization': 0.9287005706187759,\n",
              " '1_4_1_UnderSampler_Standardization': 0.9163599892675739,\n",
              " '1_4_1_Nearmiss_Standardization': 0.9326840861599232,\n",
              " 'UnderSampler_ANOVA_Standardization': 0.7494639258043074,\n",
              " 'Nearmiss_ANOVA_Standardization': 0.8060120734891244,\n",
              " 'UnderSampler_chi_2_Standardization': 0.9164142837477942,\n",
              " 'Nearmiss_chi_2_Standardization': 0.933845775936042}"
            ]
          },
          "execution_count": 99,
          "metadata": {},
          "output_type": "execute_result"
        }
      ],
      "source": [
        "f1_dict_KNN"
      ]
    },
    {
      "cell_type": "code",
      "execution_count": null,
      "metadata": {
        "colab": {
          "base_uri": "https://localhost:8080/"
        },
        "id": "qJ5dr6jHkg1i",
        "outputId": "b4a38968-5956-430f-941c-1892c78f9876"
      },
      "outputs": [
        {
          "data": {
            "text/plain": [
              "{'1_4_1_UnderSampler_Normalization': 0.9725663210369705,\n",
              " '1_4_1_Nearmiss_Normalization': 0.981311275191028,\n",
              " 'UnderSampler_ANOVA_Normalization': 0.8781427805754152,\n",
              " 'Nearmiss_ANOVA_Normalization': 0.9178500750200611,\n",
              " 'UnderSampler_chi_2_Normalization': 0.9725398120571935,\n",
              " 'Nearmiss_chi_2_Normalization': 0.9814256305094015,\n",
              " '1_4_1_UnderSampler_Standardization': 0.9791386433992522,\n",
              " '1_4_1_Nearmiss_Standardization': 0.9817144501109047,\n",
              " 'UnderSampler_ANOVA_Standardization': 0.8781113787692855,\n",
              " 'Nearmiss_ANOVA_Standardization': 0.9177425636738741,\n",
              " 'UnderSampler_chi_2_Standardization': 0.9791935976520794,\n",
              " 'Nearmiss_chi_2_Standardization': 0.9818095875274214}"
            ]
          },
          "execution_count": 100,
          "metadata": {},
          "output_type": "execute_result"
        }
      ],
      "source": [
        "auc_label_0_KNN"
      ]
    },
    {
      "cell_type": "code",
      "execution_count": null,
      "metadata": {
        "colab": {
          "base_uri": "https://localhost:8080/"
        },
        "id": "Grna5MAbkiXM",
        "outputId": "18619506-e00e-404c-b7a1-77559b6a9a62"
      },
      "outputs": [
        {
          "data": {
            "text/plain": [
              "{'1_4_1_UnderSampler_Normalization': 0.9913901959812286,\n",
              " '1_4_1_Nearmiss_Normalization': 0.9969881736095572,\n",
              " 'UnderSampler_ANOVA_Normalization': 0.9673732328084138,\n",
              " 'Nearmiss_ANOVA_Normalization': 0.979929700678762,\n",
              " 'UnderSampler_chi_2_Normalization': 0.9914113913681672,\n",
              " 'Nearmiss_chi_2_Normalization': 0.9969197747704064,\n",
              " '1_4_1_UnderSampler_Standardization': 0.9945933111523192,\n",
              " '1_4_1_Nearmiss_Standardization': 0.9978062664656603,\n",
              " 'UnderSampler_ANOVA_Standardization': 0.9673654825051959,\n",
              " 'Nearmiss_ANOVA_Standardization': 0.9782182341010774,\n",
              " 'UnderSampler_chi_2_Standardization': 0.994586099788098,\n",
              " 'Nearmiss_chi_2_Standardization': 0.997498892002649}"
            ]
          },
          "execution_count": 101,
          "metadata": {},
          "output_type": "execute_result"
        }
      ],
      "source": [
        "auc_label_1_KNN"
      ]
    },
    {
      "cell_type": "code",
      "execution_count": null,
      "metadata": {
        "colab": {
          "base_uri": "https://localhost:8080/"
        },
        "id": "jJwSiTuQkjrF",
        "outputId": "a09e9557-934c-4821-ba0b-9fdd52755253"
      },
      "outputs": [
        {
          "data": {
            "text/plain": [
              "{'1_4_1_UnderSampler_Normalization': 0.9554486020312822,\n",
              " '1_4_1_Nearmiss_Normalization': 0.9532607502510442,\n",
              " 'UnderSampler_ANOVA_Normalization': 0.8090737864296439,\n",
              " 'Nearmiss_ANOVA_Normalization': 0.8189216105006754,\n",
              " 'UnderSampler_chi_2_Normalization': 0.9554275195673911,\n",
              " 'Nearmiss_chi_2_Normalization': 0.9533821918640225,\n",
              " '1_4_1_UnderSampler_Standardization': 0.966886783038609,\n",
              " '1_4_1_Nearmiss_Standardization': 0.9555871910063811,\n",
              " 'UnderSampler_ANOVA_Standardization': 0.8092525048542876,\n",
              " 'Nearmiss_ANOVA_Standardization': 0.8200527332525915,\n",
              " 'UnderSampler_chi_2_Standardization': 0.9669506097647098,\n",
              " 'Nearmiss_chi_2_Standardization': 0.9558404858557724}"
            ]
          },
          "execution_count": 102,
          "metadata": {},
          "output_type": "execute_result"
        }
      ],
      "source": [
        "auc_label_2_KNN"
      ]
    },
    {
      "cell_type": "code",
      "execution_count": null,
      "metadata": {
        "colab": {
          "base_uri": "https://localhost:8080/",
          "height": 564
        },
        "id": "xPGPNf1fTPIX",
        "outputId": "1a01024c-8f7a-4e9c-b859-25ee517c1560"
      },
      "outputs": [
        {
          "data": {
            "image/png": "[encoded data removed]",
            "text/plain": [
              "<Figure size 800x600 with 1 Axes>"
            ]
          },
          "metadata": {},
          "output_type": "display_data"
        }
      ],
      "source": [
        "from sklearn.metrics import auc\n",
        "\n",
        "plt.figure(figsize=(8,6))\n",
        "for i, label in enumerate(np.unique(y_train)):\n",
        "    fpr, tpr, _ = roc_curve(best_y_test_bin_KNN[:, i], best_y_score_KNN[:, i])\n",
        "    roc_auc = auc(fpr, tpr)\n",
        "    plt.plot(fpr, tpr, lw=2, label=f'Label {label} ROC curve (AUC = {roc_auc:.2f})')\n",
        "\n",
        "plt.plot([0,1],[0,1],'k--')\n",
        "plt.xlabel('False Positive Rate')\n",
        "plt.ylabel('True Positive Rate')\n",
        "plt.title(f'ROC Curves for best KNN dataset: {best_key_KNN}')\n",
        "plt.legend(loc='lower right')\n",
        "plt.show()\n"
      ]
    },
    {
      "cell_type": "code",
      "execution_count": null,
      "metadata": {
        "colab": {
          "base_uri": "https://localhost:8080/",
          "height": 707
        },
        "id": "bdHdK31GN8yE",
        "outputId": "2c12757e-ebc6-493f-e35a-cd6d999d0db7"
      },
      "outputs": [
        {
          "data": {
            "image/png": "[encoded data removed]",
            "text/plain": [
              "<Figure size 1400x700 with 1 Axes>"
            ]
          },
          "metadata": {},
          "output_type": "display_data"
        }
      ],
      "source": [
        "# Danh sách các tên phương pháp (từ accuracy_dict)\n",
        "methods = list(accuracy_dict_KNN.keys())\n",
        "\n",
        "metrics = [accuracy_dict_KNN, precision_dict_KNN, recall_dict_KNN, f1_dict_KNN]\n",
        "metric_names = [\"Accuracy\", \"Precision\", \"Recall\", \"F1 Score\"]\n",
        "\n",
        "num_methods = len(methods)\n",
        "num_metrics = len(metric_names)\n",
        "\n",
        "x = np.arange(num_metrics)  # Vị trí trục x: [0, 1, 2, 3]\n",
        "width = 0.07  # Độ rộng mỗi cột\n",
        "\n",
        "plt.figure(figsize=(14, 7))\n",
        "\n",
        "for i in range(num_methods):\n",
        "    values = [metrics[j][methods[i]] for j in range(num_metrics)]\n",
        "    plt.bar(x + (i - num_methods/2)*width + width/2, values, width=width, label=methods[i])\n",
        "\n",
        "plt.xticks(x, metric_names)\n",
        "plt.ylabel(\"Score\")\n",
        "plt.title(\"So sánh các kỹ thuật xử lý dữ liệu với KNN theo từng chỉ số\")\n",
        "plt.legend(title=\"Phương pháp\", bbox_to_anchor=(1.05, 1), loc='upper left')\n",
        "plt.tight_layout()\n",
        "plt.grid(axis='y', linestyle='--', alpha=0.7)\n",
        "plt.show()\n"
      ]
    },
    {
      "cell_type": "markdown",
      "metadata": {
        "id": "UR4_Yt-LpmNZ"
      },
      "source": [
        "## **2.2.Decision Tree**"
      ]
    },
    {
      "cell_type": "code",
      "execution_count": null,
      "metadata": {
        "colab": {
          "base_uri": "https://localhost:8080/"
        },
        "id": "rBHCvdl-pmYK",
        "outputId": "59d1fb06-d929-451f-89da-1eea85f55540"
      },
      "outputs": [
        {
          "data": {
            "text/plain": [
              "('Nearmiss_1_4_1', 6.703148399652745)"
            ]
          },
          "execution_count": 37,
          "metadata": {},
          "output_type": "execute_result"
        }
      ],
      "source": [
        "datasets = [\n",
        "    (\"Nearmiss_1_4_1\" ,x_train_nearmiss_1_4_1 , x_test_nearmiss_1_4_1, y_train_nearmiss_1_4_1, y_test_nearmiss_1_4_1 ),\n",
        "    (\"NearMiss_ANOVA\", x_train_nearmiss_ANOVA, x_test_nearmiss_ANOVA, y_train_nearmiss_ANOVA, y_test_nearmiss_ANOVA),\n",
        "    (\"NearMiss_chi_2\", x_train_nearmiss_chi_2, x_test_nearmiss_chi_2, y_train_nearmiss_chi_2, y_test_nearmiss_chi_2),\n",
        "    (\"UnderSampler_ANOVA\", x_train_UnderSampler_ANOVA, x_test_UnderSampler_ANOVA, y_train_UnderSampler_ANOVA, y_test_UnderSampler_ANOVA),\n",
        "    ( \"UnderSampler_1_4_1\" ,x_train_UnderSampler_1_4_1 , x_test_UnderSampler_1_4_1,y_train_UnderSampler_1_4_1, y_test_UnderSampler_1_4_1 ),\n",
        "    (\"UnderSampler_chi_2\", x_train_UnderSampler_chi_2, x_test_UnderSampler_chi_2, y_train_UnderSampler_chi_2, y_test_UnderSampler_chi_2),\n",
        "]\n",
        "accuracy_dict_DT = {}\n",
        "precision_dict_DT = {}\n",
        "recall_dict_DT = {}\n",
        "f1_dict_DT = {}\n",
        "auc_label_0_DT = {}\n",
        "auc_label_1_DT = {}\n",
        "auc_label_2_DT = {}\n",
        "total_DT = {}\n",
        "\n",
        "for name, x_train, x_test, y_train, y_test in datasets:\n",
        "    DT = DecisionTreeClassifier(\n",
        "        min_samples_split=5,\n",
        "        min_samples_leaf=2,\n",
        "        max_depth=15,\n",
        "        max_features='sqrt',\n",
        "        random_state=42,\n",
        "        criterion='gini',\n",
        "        splitter='best',\n",
        "    )\n",
        "\n",
        "    DT.fit(x_train, y_train)\n",
        "    y_pred_DT = DT.predict(x_test)\n",
        "\n",
        "    accuracy = accuracy_score(y_test, y_pred_DT)\n",
        "    precision = precision_score(y_test, y_pred_DT, average='macro', zero_division=0)\n",
        "    recall = recall_score(y_test, y_pred_DT, average='macro', zero_division=0)\n",
        "    f1 = f1_score(y_test, y_pred_DT, average='macro', zero_division=0)\n",
        "\n",
        "    accuracy_dict_DT[name] = accuracy\n",
        "    precision_dict_DT[name] = precision\n",
        "    recall_dict_DT[name] = recall\n",
        "    f1_dict_DT[name] = f1\n",
        "\n",
        "     # Dự đoán xác suất\n",
        "    y_score = DT.predict_proba(x_test)\n",
        "\n",
        "        # Binarize nhãn thật\n",
        "    classes = np.unique(y_test)\n",
        "    y_test_bin = label_binarize(y_test, classes=classes)\n",
        "\n",
        "    for i, label in enumerate(classes):\n",
        "        auc = roc_auc_score(y_test_bin[:, i], y_score[:, i])\n",
        "        auc = auc.item()\n",
        "        if label == 0:\n",
        "            auc_label_0_DT[name] = auc\n",
        "        elif label == 1:\n",
        "            auc_label_1_DT[name] = auc\n",
        "        elif label == 2:\n",
        "            auc_label_2_DT[name] = auc\n",
        "\n",
        "\n",
        "    total_DT[name] = accuracy + precision + recall + f1 + auc_label_0_DT.get(name, 0) + auc_label_1_DT.get(name, 0) + auc_label_2_DT.get(name, 0)\n",
        "best_value_DT = 0\n",
        "best_key_DT = \"\"\n",
        "\n",
        "for key, value in total_DT.items():\n",
        "    if value > best_value_DT:\n",
        "        best_value_DT = value\n",
        "        best_key_DT = key\n",
        "        best_y_score_DT = y_score\n",
        "        best_y_test_bin_DT = y_test_bin\n",
        "best_key_DT , best_value_DT"
      ]
    },
    {
      "cell_type": "code",
      "execution_count": null,
      "metadata": {
        "colab": {
          "base_uri": "https://localhost:8080/"
        },
        "id": "8bKd7MMT7I8s",
        "outputId": "691f9978-c113-4a8c-ff02-82b16589e545"
      },
      "outputs": [
        {
          "data": {
            "text/plain": [
              "{'Nearmiss_1_4_1': 0.9501311513099455,\n",
              " 'NearMiss_ANOVA': 0.8828207459426697,\n",
              " 'NearMiss_chi_2': 0.9470378614498751,\n",
              " 'UnderSampler_ANOVA': 0.8307155322862129,\n",
              " 'UnderSampler_1_4_1': 0.9096362249323343,\n",
              " 'UnderSampler_chi_2': 0.909594423718009}"
            ]
          },
          "execution_count": 39,
          "metadata": {},
          "output_type": "execute_result"
        }
      ],
      "source": [
        "accuracy_dict_DT"
      ]
    },
    {
      "cell_type": "code",
      "execution_count": null,
      "metadata": {
        "colab": {
          "base_uri": "https://localhost:8080/"
        },
        "id": "nlQ0xInn7Mfy",
        "outputId": "99541713-3a33-4746-9a99-b39bd2de1ab6"
      },
      "outputs": [
        {
          "data": {
            "text/plain": [
              "{'Nearmiss_1_4_1': 0.9354127137089615,\n",
              " 'NearMiss_ANOVA': 0.8960363380324097,\n",
              " 'NearMiss_chi_2': 0.9344001586197671,\n",
              " 'UnderSampler_ANOVA': 0.851851692325022,\n",
              " 'UnderSampler_1_4_1': 0.8989357955607993,\n",
              " 'UnderSampler_chi_2': 0.9075922970439801}"
            ]
          },
          "execution_count": 90,
          "metadata": {},
          "output_type": "execute_result"
        }
      ],
      "source": [
        "precision_dict_DT"
      ]
    },
    {
      "cell_type": "code",
      "execution_count": null,
      "metadata": {
        "colab": {
          "base_uri": "https://localhost:8080/"
        },
        "id": "Fq8skd_77MqC",
        "outputId": "40b96b5a-1c9e-431c-bd46-da4e8ad7b0aa"
      },
      "outputs": [
        {
          "data": {
            "text/plain": [
              "{'Nearmiss_1_4_1': 0.9289265653565395,\n",
              " 'NearMiss_ANOVA': 0.7913604967441894,\n",
              " 'NearMiss_chi_2': 0.9293068618112846,\n",
              " 'UnderSampler_ANOVA': 0.712924121084439,\n",
              " 'UnderSampler_1_4_1': 0.8732013110887191,\n",
              " 'UnderSampler_chi_2': 0.8573006247837002}"
            ]
          },
          "execution_count": 91,
          "metadata": {},
          "output_type": "execute_result"
        }
      ],
      "source": [
        "recall_dict_DT"
      ]
    },
    {
      "cell_type": "code",
      "execution_count": null,
      "metadata": {
        "colab": {
          "base_uri": "https://localhost:8080/"
        },
        "id": "yT2n69SH7Sgy",
        "outputId": "06e00c6c-dc67-4962-c37c-0fdb367a7489"
      },
      "outputs": [
        {
          "data": {
            "text/plain": [
              "{'Nearmiss_1_4_1': 0.9320727520191129,\n",
              " 'NearMiss_ANOVA': 0.816162855671811,\n",
              " 'NearMiss_chi_2': 0.9317969945566899,\n",
              " 'UnderSampler_ANOVA': 0.7290195155196098,\n",
              " 'UnderSampler_1_4_1': 0.884502654716847,\n",
              " 'UnderSampler_chi_2': 0.8769458374796909}"
            ]
          },
          "execution_count": 92,
          "metadata": {},
          "output_type": "execute_result"
        }
      ],
      "source": [
        "f1_dict_DT"
      ]
    },
    {
      "cell_type": "code",
      "execution_count": null,
      "metadata": {
        "colab": {
          "base_uri": "https://localhost:8080/"
        },
        "id": "V688BEKatPZK",
        "outputId": "478defd2-c7e7-44c5-b1ca-534c9b25c620"
      },
      "outputs": [
        {
          "data": {
            "text/plain": [
              "{'Nearmiss_1_4_1': 0.9879450823456275,\n",
              " 'NearMiss_ANOVA': 0.9386931516144192,\n",
              " 'NearMiss_chi_2': 0.9904826290816642,\n",
              " 'UnderSampler_ANOVA': 0.9074763629483168,\n",
              " 'UnderSampler_1_4_1': 0.9758609289562357,\n",
              " 'UnderSampler_chi_2': 0.9778085162909144}"
            ]
          },
          "execution_count": 46,
          "metadata": {},
          "output_type": "execute_result"
        }
      ],
      "source": [
        "auc_label_0_DT"
      ]
    },
    {
      "cell_type": "code",
      "execution_count": null,
      "metadata": {
        "colab": {
          "base_uri": "https://localhost:8080/"
        },
        "id": "I4XkBd50uvct",
        "outputId": "cdaa4d0b-95a8-400e-91b7-4c802b6c22ec"
      },
      "outputs": [
        {
          "data": {
            "text/plain": [
              "{'Nearmiss_1_4_1': 0.9972782753616348,\n",
              " 'NearMiss_ANOVA': 0.9836749245386653,\n",
              " 'NearMiss_chi_2': 0.9981505973804256,\n",
              " 'UnderSampler_ANOVA': 0.9821205215230955,\n",
              " 'UnderSampler_1_4_1': 0.9952830488848038,\n",
              " 'UnderSampler_chi_2': 0.9959022552288685}"
            ]
          },
          "execution_count": 47,
          "metadata": {},
          "output_type": "execute_result"
        }
      ],
      "source": [
        "auc_label_1_DT"
      ]
    },
    {
      "cell_type": "code",
      "execution_count": null,
      "metadata": {
        "colab": {
          "base_uri": "https://localhost:8080/"
        },
        "id": "st9BvFybuwz4",
        "outputId": "ecabff4c-fdb9-4e4f-a1dd-a675cbbf412c"
      },
      "outputs": [
        {
          "data": {
            "text/plain": [
              "{'Nearmiss_1_4_1': 0.9713818595509243,\n",
              " 'NearMiss_ANOVA': 0.8830754680922624,\n",
              " 'NearMiss_chi_2': 0.9764841265607118,\n",
              " 'UnderSampler_ANOVA': 0.8707902689211855,\n",
              " 'UnderSampler_1_4_1': 0.9658801512131564,\n",
              " 'UnderSampler_chi_2': 0.9679343395320893}"
            ]
          },
          "execution_count": 48,
          "metadata": {},
          "output_type": "execute_result"
        }
      ],
      "source": [
        "auc_label_2_DT"
      ]
    },
    {
      "cell_type": "code",
      "execution_count": null,
      "metadata": {
        "colab": {
          "base_uri": "https://localhost:8080/",
          "height": 564
        },
        "id": "cGkXJB2GN1zL",
        "outputId": "57d9f085-b12b-4750-9855-095378651278"
      },
      "outputs": [
        {
          "data": {
            "image/png": "[encoded data removed]",
            "text/plain": [
              "<Figure size 800x600 with 1 Axes>"
            ]
          },
          "metadata": {},
          "output_type": "display_data"
        }
      ],
      "source": [
        "from sklearn.metrics import auc\n",
        "\n",
        "plt.figure(figsize=(8,6))\n",
        "for i, label in enumerate(np.unique(y_train)):\n",
        "    fpr, tpr, _ = roc_curve(best_y_test_bin_DT[:, i], best_y_score_DT[:, i])\n",
        "    roc_auc = auc(fpr, tpr)\n",
        "    plt.plot(fpr, tpr, lw=2, label=f'Label {label} ROC curve (AUC = {roc_auc:.2f})')\n",
        "\n",
        "plt.plot([0,1],[0,1],'k--')\n",
        "plt.xlabel('False Positive Rate')\n",
        "plt.ylabel('True Positive Rate')\n",
        "plt.title(f'ROC Curves for best DT dataset: {best_key_DT}')\n",
        "plt.legend(loc='lower right')\n",
        "plt.show()\n"
      ]
    },
    {
      "cell_type": "code",
      "execution_count": null,
      "metadata": {
        "colab": {
          "base_uri": "https://localhost:8080/",
          "height": 607
        },
        "id": "lTiovEYW7hHy",
        "outputId": "4b2fbaae-ed98-41d8-c57d-c986433382f7"
      },
      "outputs": [
        {
          "data": {
            "image/png": "[encoded data removed]",
            "text/plain": [
              "<Figure size 1400x600 with 1 Axes>"
            ]
          },
          "metadata": {},
          "output_type": "display_data"
        }
      ],
      "source": [
        "# Danh sách các tên phương pháp (từ accuracy_dict)\n",
        "methods = list(accuracy_dict_DT.keys())\n",
        "\n",
        "metrics = [accuracy_dict_DT, precision_dict_DT, recall_dict_DT, f1_dict_DT]\n",
        "metric_names = [\"Accuracy\", \"Precision\", \"Recall\", \"F1 Score\"]\n",
        "\n",
        "num_methods = len(methods)\n",
        "num_metrics = len(metric_names)\n",
        "\n",
        "x = np.arange(num_metrics)  # Vị trí trục x: [0, 1, 2, 3]\n",
        "width = 0.1  # Độ rộng mỗi cột\n",
        "\n",
        "plt.figure(figsize=(14, 6))\n",
        "\n",
        "for i in range(num_methods):\n",
        "    values = [metrics[j][methods[i]] for j in range(num_metrics)]\n",
        "    plt.bar(x + (i - num_methods/2)*width + width/2, values, width=width, label=methods[i])\n",
        "\n",
        "plt.xticks(x, metric_names)\n",
        "plt.ylabel(\"Score\")\n",
        "plt.title(\"So sánh các kỹ thuật xử lý dữ liệu với DT theo từng chỉ số\")\n",
        "plt.legend(title=\"Phương pháp\", bbox_to_anchor=(1.05, 1), loc='upper left')\n",
        "plt.tight_layout()\n",
        "plt.grid(axis='y', linestyle='--', alpha=0.7)\n",
        "plt.show()\n"
      ]
    },
    {
      "cell_type": "markdown",
      "metadata": {
        "id": "nD0i_WXkptKx"
      },
      "source": [
        "## **2.3.Random forest**"
      ]
    },
    {
      "cell_type": "code",
      "execution_count": null,
      "metadata": {
        "colab": {
          "base_uri": "https://localhost:8080/"
        },
        "id": "__VN74vepxdi",
        "outputId": "b855f7d1-c355-4c5a-b5e2-1e766c689cba"
      },
      "outputs": [
        {
          "data": {
            "text/plain": [
              "('NearMiss_chi_2', 6.743179294814304)"
            ]
          },
          "execution_count": 40,
          "metadata": {},
          "output_type": "execute_result"
        }
      ],
      "source": [
        "datasets = [\n",
        "    (\"Nearmiss_1_4_1\" ,x_train_nearmiss_1_4_1 , x_test_nearmiss_1_4_1, y_train_nearmiss_1_4_1, y_test_nearmiss_1_4_1 ),\n",
        "    (\"NearMiss_ANOVA\", x_train_nearmiss_ANOVA, x_test_nearmiss_ANOVA, y_train_nearmiss_ANOVA, y_test_nearmiss_ANOVA),\n",
        "    (\"NearMiss_chi_2\", x_train_nearmiss_chi_2, x_test_nearmiss_chi_2, y_train_nearmiss_chi_2, y_test_nearmiss_chi_2),\n",
        "    (\"UnderSampler_ANOVA\", x_train_UnderSampler_ANOVA, x_test_UnderSampler_ANOVA, y_train_UnderSampler_ANOVA, y_test_UnderSampler_ANOVA),\n",
        "    ( \"UnderSampler_1_4_1\" ,x_train_UnderSampler_1_4_1 , x_test_UnderSampler_1_4_1,y_train_UnderSampler_1_4_1, y_test_UnderSampler_1_4_1 ),\n",
        "    (\"UnderSampler_chi_2\", x_train_UnderSampler_chi_2, x_test_UnderSampler_chi_2, y_train_UnderSampler_chi_2, y_test_UnderSampler_chi_2),\n",
        "]\n",
        "accuracy_dict_RF = {}\n",
        "precision_dict_RF = {}\n",
        "recall_dict_RF = {}\n",
        "f1_dict_RF = {}\n",
        "auc_label_0_RF = {}\n",
        "auc_label_1_RF = {}\n",
        "auc_label_2_RF = {}\n",
        "total_RF = {}\n",
        "\n",
        "for name, x_train, x_test, y_train, y_test in datasets:\n",
        "    RF = RandomForestClassifier(\n",
        "        n_estimators=285,\n",
        "        criterion='gini',\n",
        "        max_depth=15,\n",
        "        min_samples_split=5,\n",
        "        min_samples_leaf=3,\n",
        "        max_features='sqrt',\n",
        "        random_state=42,\n",
        "        n_jobs=-1,\n",
        ")\n",
        "\n",
        "    RF.fit(x_train, y_train)\n",
        "    y_pred_RF = RF.predict(x_test)\n",
        "\n",
        "    accuracy = accuracy_score(y_test, y_pred_RF)\n",
        "    precision = precision_score(y_test, y_pred_RF, average='macro')\n",
        "    recall = recall_score(y_test, y_pred_RF, average='macro')\n",
        "    f1 = f1_score(y_test, y_pred_RF, average='macro')\n",
        "\n",
        "    accuracy_dict_RF[name] = accuracy\n",
        "    precision_dict_RF[name] = precision\n",
        "    recall_dict_RF[name] = recall\n",
        "    f1_dict_RF[name] = f1\n",
        "\n",
        "         # Dự đoán xác suất\n",
        "    y_score = RF.predict_proba(x_test)\n",
        "\n",
        "        # Binarize nhãn thật\n",
        "    classes = np.unique(y_test)\n",
        "    y_test_bin = label_binarize(y_test, classes=classes)\n",
        "\n",
        "    for i, label in enumerate(classes):\n",
        "        auc = roc_auc_score(y_test_bin[:, i], y_score[:, i])\n",
        "        auc = auc.item()\n",
        "        if label == 0:\n",
        "            auc_label_0_RF[name] = auc\n",
        "        elif label == 1:\n",
        "            auc_label_1_RF[name] = auc\n",
        "        elif label == 2:\n",
        "            auc_label_2_RF[name] = auc\n",
        "\n",
        "\n",
        "    total_RF[name] = accuracy + precision + recall + f1 + auc_label_0_RF.get(name, 0) + auc_label_1_RF.get(name, 0) + auc_label_2_RF.get(name, 0)\n",
        "\n",
        "# Sau khi hoàn thành vòng lặp, mới đi tìm best_key_RF\n",
        "best_value_RF = 0\n",
        "best_key_RF = \"\"\n",
        "\n",
        "for key, value in total_RF.items():\n",
        "    if value > best_value_RF:\n",
        "        best_value_RF = value\n",
        "        best_key_RF = key\n",
        "        best_y_score_RF = y_score\n",
        "        best_y_test_bin_RF = y_test_bin\n",
        "best_key_RF ,best_value_RF\n"
      ]
    },
    {
      "cell_type": "code",
      "execution_count": null,
      "metadata": {
        "colab": {
          "base_uri": "https://localhost:8080/"
        },
        "id": "HccMpYAz9hlc",
        "outputId": "cac11921-61ca-44ec-f1e1-a1ba57b1be7e"
      },
      "outputs": [
        {
          "data": {
            "text/plain": [
              "{'Nearmiss_1_4_1': 0.9527437272052753,\n",
              " 'NearMiss_ANOVA': 0.8839284781222895,\n",
              " 'NearMiss_chi_2': 0.9536633539204313,\n",
              " 'UnderSampler_ANOVA': 0.8317083111264382,\n",
              " 'UnderSampler_1_4_1': 0.922761806230471,\n",
              " 'UnderSampler_chi_2': 0.9272031852525315}"
            ]
          },
          "execution_count": 56,
          "metadata": {},
          "output_type": "execute_result"
        }
      ],
      "source": [
        "accuracy_dict_RF"
      ]
    },
    {
      "cell_type": "code",
      "execution_count": null,
      "metadata": {
        "colab": {
          "base_uri": "https://localhost:8080/"
        },
        "id": "vdYp7g5Q9hvs",
        "outputId": "a31c105f-d29b-4974-9a64-00464932b00a"
      },
      "outputs": [
        {
          "data": {
            "text/plain": [
              "{'Nearmiss_1_4_1': 0.9402495327177189,\n",
              " 'NearMiss_ANOVA': 0.8979628215341376,\n",
              " 'NearMiss_chi_2': 0.9410757430370698,\n",
              " 'UnderSampler_ANOVA': 0.8643819988578859,\n",
              " 'UnderSampler_1_4_1': 0.9376337001370353,\n",
              " 'UnderSampler_chi_2': 0.9361755637317636}"
            ]
          },
          "execution_count": 57,
          "metadata": {},
          "output_type": "execute_result"
        }
      ],
      "source": [
        "precision_dict_RF"
      ]
    },
    {
      "cell_type": "code",
      "execution_count": null,
      "metadata": {
        "colab": {
          "base_uri": "https://localhost:8080/"
        },
        "id": "Hkn8qcE19h0W",
        "outputId": "8e735023-8e38-40d8-fc54-c9330645de4c"
      },
      "outputs": [
        {
          "data": {
            "text/plain": [
              "{'Nearmiss_1_4_1': 0.9320951224579397,\n",
              " 'NearMiss_ANOVA': 0.7933613472239093,\n",
              " 'NearMiss_chi_2': 0.9335430013388982,\n",
              " 'UnderSampler_ANOVA': 0.7113816600952783,\n",
              " 'UnderSampler_1_4_1': 0.8744941737342945,\n",
              " 'UnderSampler_chi_2': 0.8847943812984482}"
            ]
          },
          "execution_count": 58,
          "metadata": {},
          "output_type": "execute_result"
        }
      ],
      "source": [
        "recall_dict_RF"
      ]
    },
    {
      "cell_type": "code",
      "execution_count": null,
      "metadata": {
        "colab": {
          "base_uri": "https://localhost:8080/"
        },
        "id": "Bv-vkVa99h49",
        "outputId": "ef210717-b01b-43eb-b672-c1a56f773fc7"
      },
      "outputs": [
        {
          "data": {
            "text/plain": [
              "{'Nearmiss_1_4_1': 0.9360292333154024,\n",
              " 'NearMiss_ANOVA': 0.8185595628161003,\n",
              " 'NearMiss_chi_2': 0.9371868183579454,\n",
              " 'UnderSampler_ANOVA': 0.7266737348433043,\n",
              " 'UnderSampler_1_4_1': 0.8983015255253163,\n",
              " 'UnderSampler_chi_2': 0.9052310567747943}"
            ]
          },
          "execution_count": 59,
          "metadata": {},
          "output_type": "execute_result"
        }
      ],
      "source": [
        "f1_dict_RF"
      ]
    },
    {
      "cell_type": "code",
      "execution_count": null,
      "metadata": {
        "colab": {
          "base_uri": "https://localhost:8080/"
        },
        "id": "egIcut_GvIKY",
        "outputId": "ead6e7e7-e338-4098-cd5f-04ac4e01ec9d"
      },
      "outputs": [
        {
          "data": {
            "text/plain": [
              "{'Nearmiss_1_4_1': 0.9932225482791084,\n",
              " 'NearMiss_ANOVA': 0.9388119627007316,\n",
              " 'NearMiss_chi_2': 0.9933337644652849,\n",
              " 'UnderSampler_ANOVA': 0.9066749732082756,\n",
              " 'UnderSampler_1_4_1': 0.986150102004978,\n",
              " 'UnderSampler_chi_2': 0.9871972072522129}"
            ]
          },
          "execution_count": 51,
          "metadata": {},
          "output_type": "execute_result"
        }
      ],
      "source": [
        "auc_label_0_RF"
      ]
    },
    {
      "cell_type": "code",
      "execution_count": null,
      "metadata": {
        "colab": {
          "base_uri": "https://localhost:8080/"
        },
        "id": "4T78HmHrvKCb",
        "outputId": "3b66b9fb-331e-426e-9882-f8594fa2801f"
      },
      "outputs": [
        {
          "data": {
            "text/plain": [
              "{'Nearmiss_1_4_1': 0.999728169341496,\n",
              " 'NearMiss_ANOVA': 0.9881568145589668,\n",
              " 'NearMiss_chi_2': 0.9997573103137174,\n",
              " 'UnderSampler_ANOVA': 0.979380133992628,\n",
              " 'UnderSampler_1_4_1': 0.9982613087325005,\n",
              " 'UnderSampler_chi_2': 0.9985067965564787}"
            ]
          },
          "execution_count": 52,
          "metadata": {},
          "output_type": "execute_result"
        }
      ],
      "source": [
        "auc_label_1_RF"
      ]
    },
    {
      "cell_type": "code",
      "execution_count": null,
      "metadata": {
        "colab": {
          "base_uri": "https://localhost:8080/"
        },
        "id": "-3rqEnObvLYz",
        "outputId": "2ca5a7c7-2673-4527-f301-2bc617bfd19e"
      },
      "outputs": [
        {
          "data": {
            "text/plain": [
              "{'Nearmiss_1_4_1': 0.9841969311062604,\n",
              " 'NearMiss_ANOVA': 0.888683514747641,\n",
              " 'NearMiss_chi_2': 0.9846193033809575,\n",
              " 'UnderSampler_ANOVA': 0.8736465859646522,\n",
              " 'UnderSampler_1_4_1': 0.9815397747165168,\n",
              " 'UnderSampler_chi_2': 0.9827859886547737}"
            ]
          },
          "execution_count": 53,
          "metadata": {},
          "output_type": "execute_result"
        }
      ],
      "source": [
        "auc_label_2_RF"
      ]
    },
    {
      "cell_type": "code",
      "execution_count": null,
      "metadata": {
        "colab": {
          "base_uri": "https://localhost:8080/",
          "height": 564
        },
        "id": "0vJzxATvQIEp",
        "outputId": "21378a52-7a68-47c0-fc2e-36d69324584a"
      },
      "outputs": [
        {
          "data": {
            "image/png": "[encoded data removed]",
            "text/plain": [
              "<Figure size 800x600 with 1 Axes>"
            ]
          },
          "metadata": {},
          "output_type": "display_data"
        }
      ],
      "source": [
        "from sklearn.metrics import auc\n",
        "plt.figure(figsize=(8,6))\n",
        "for i, label in enumerate(np.unique(y_train)):\n",
        "    fpr, tpr, _ = roc_curve(best_y_test_bin_RF[:, i], best_y_score_RF[:, i])\n",
        "    roc_auc = auc(fpr, tpr)\n",
        "    plt.plot(fpr, tpr, lw=2, label=f'Label {label} ROC curve (AUC = {roc_auc:.2f})')\n",
        "\n",
        "plt.plot([0,1],[0,1],'k--')\n",
        "plt.xlabel('False Positive Rate')\n",
        "plt.ylabel('True Positive Rate')\n",
        "plt.title(f'ROC Curves for best RF dataset: {best_key_RF}')\n",
        "plt.legend(loc='lower right')\n",
        "plt.show()"
      ]
    },
    {
      "cell_type": "markdown",
      "metadata": {
        "id": "6psyf2qTK5nn"
      },
      "source": [
        "##**2.4.Naive Bayes**"
      ]
    },
    {
      "cell_type": "code",
      "execution_count": null,
      "metadata": {
        "colab": {
          "base_uri": "https://localhost:8080/",
          "height": 607
        },
        "id": "Css4loxn9iGT",
        "outputId": "57177050-e8c2-4f43-eb09-d3ecad0a6b79"
      },
      "outputs": [
        {
          "data": {
            "image/png": "[encoded data removed]",
            "text/plain": [
              "<Figure size 1400x600 with 1 Axes>"
            ]
          },
          "metadata": {},
          "output_type": "display_data"
        }
      ],
      "source": [
        "# Danh sách các tên phương pháp (từ accuracy_dict)\n",
        "methods = list(accuracy_dict_RF.keys())\n",
        "\n",
        "metrics = [accuracy_dict_RF, precision_dict_RF, recall_dict_RF, f1_dict_RF]\n",
        "metric_names = [\"Accuracy\", \"Precision\", \"Recall\", \"F1 Score\"]\n",
        "\n",
        "num_methods = len(methods)\n",
        "num_metrics = len(metric_names)\n",
        "\n",
        "x = np.arange(num_metrics)  # Vị trí trục x: [0, 1, 2, 3]\n",
        "width = 0.1  # Độ rộng mỗi cột\n",
        "\n",
        "plt.figure(figsize=(14, 6))\n",
        "\n",
        "for i in range(num_methods):\n",
        "    values = [metrics[j][methods[i]] for j in range(num_metrics)]\n",
        "    plt.bar(x + (i - num_methods/2)*width + width/2, values, width=width, label=methods[i])\n",
        "\n",
        "plt.xticks(x, metric_names)\n",
        "plt.ylabel(\"Score\")\n",
        "plt.title(\"So sánh các kỹ thuật xử lý dữ liệu với RF theo từng chỉ số\")\n",
        "plt.legend(title=\"Phương pháp\", bbox_to_anchor=(1.05, 1), loc='upper left')\n",
        "plt.tight_layout()\n",
        "plt.grid(axis='y', linestyle='--', alpha=0.7)\n",
        "plt.show()\n"
      ]
    },
    {
      "cell_type": "code",
      "execution_count": null,
      "metadata": {
        "colab": {
          "base_uri": "https://localhost:8080/"
        },
        "id": "78XD3RGcLN-u",
        "outputId": "48b302d2-8121-468f-f429-3a21e56ffc13"
      },
      "outputs": [
        {
          "data": {
            "text/plain": [
              "('NearMiss_ANOVA', 5.345554517658421)"
            ]
          },
          "execution_count": 43,
          "metadata": {},
          "output_type": "execute_result"
        }
      ],
      "source": [
        "datasets = [\n",
        "    (\"Nearmiss_1_4_1\" ,x_train_nearmiss_1_4_1 , x_test_nearmiss_1_4_1, y_train_nearmiss_1_4_1, y_test_nearmiss_1_4_1 ),\n",
        "    (\"NearMiss_ANOVA\", x_train_nearmiss_ANOVA, x_test_nearmiss_ANOVA, y_train_nearmiss_ANOVA, y_test_nearmiss_ANOVA),\n",
        "    (\"NearMiss_chi_2\", x_train_nearmiss_chi_2, x_test_nearmiss_chi_2, y_train_nearmiss_chi_2, y_test_nearmiss_chi_2),\n",
        "    (\"UnderSampler_ANOVA\", x_train_UnderSampler_ANOVA, x_test_UnderSampler_ANOVA, y_train_UnderSampler_ANOVA, y_test_UnderSampler_ANOVA),\n",
        "    ( \"UnderSampler_1_4_1\" ,x_train_UnderSampler_1_4_1 , x_test_UnderSampler_1_4_1,y_train_UnderSampler_1_4_1, y_test_UnderSampler_1_4_1 ),\n",
        "    (\"UnderSampler_chi_2\", x_train_UnderSampler_chi_2, x_test_UnderSampler_chi_2, y_train_UnderSampler_chi_2, y_test_UnderSampler_chi_2),\n",
        "]\n",
        "accuracy_dict_NB = {}\n",
        "precision_dict_NB = {}\n",
        "recall_dict_NB = {}\n",
        "f1_dict_NB = {}\n",
        "auc_label_0_NB = {}\n",
        "auc_label_1_NB = {}\n",
        "auc_label_2_NB = {}\n",
        "total_NB = {}\n",
        "\n",
        "for name, x_train, x_test, y_train, y_test in datasets:\n",
        "    NB = GaussianNB(priors=None, var_smoothing=1e-09)\n",
        "\n",
        "\n",
        "    NB.fit(x_train, y_train)\n",
        "    y_pred_NB = NB.predict(x_test)\n",
        "\n",
        "    accuracy = round(accuracy_score(y_test, y_pred_NB), 4)\n",
        "    precision = round(precision_score(y_test, y_pred_NB, average='macro', zero_division=0), 4)\n",
        "    recall = round(recall_score(y_test, y_pred_NB, average='macro', zero_division=0), 4)\n",
        "    f1 = round(f1_score(y_test, y_pred_NB, average='macro', zero_division=0), 4)\n",
        "\n",
        "    accuracy_dict_NB[name] = accuracy\n",
        "    precision_dict_NB[name] = precision\n",
        "    recall_dict_NB[name] = recall\n",
        "    f1_dict_NB[name] = f1\n",
        "\n",
        "    y_score = NB.predict_proba(x_test)\n",
        "\n",
        "        # Binarize nhãn thật\n",
        "    classes = np.unique(y_test)\n",
        "    y_test_bin = label_binarize(y_test, classes=classes)\n",
        "\n",
        "    for i, label in enumerate(classes):\n",
        "        auc = roc_auc_score(y_test_bin[:, i], y_score[:, i])\n",
        "        auc = auc.item()\n",
        "        if label == 0:\n",
        "            auc_label_0_NB[name] = auc\n",
        "        elif label == 1:\n",
        "            auc_label_1_NB[name] = auc\n",
        "        elif label == 2:\n",
        "            auc_label_2_NB[name] = auc\n",
        "\n",
        "\n",
        "    total_NB[name] = accuracy + precision + recall + f1 + auc_label_0_NB.get(name, 0) + auc_label_1_NB.get(name, 0) + auc_label_2_NB.get(name, 0)\n",
        "\n",
        "# Sau khi hoàn thành vòng lặp, mới đi tìm best_key_NB\n",
        "best_value_NB = 0\n",
        "best_key_NB = \"\"\n",
        "\n",
        "for key, value in total_NB.items():\n",
        "    if value > best_value_NB:\n",
        "        best_value_NB = value\n",
        "        best_key_NB = key\n",
        "        best_y_score_NB = y_score\n",
        "        best_y_test_bin_NB = y_test_bin\n",
        "best_key_NB ,best_value_NB\n"
      ]
    },
    {
      "cell_type": "code",
      "execution_count": null,
      "metadata": {
        "colab": {
          "base_uri": "https://localhost:8080/"
        },
        "id": "8O08sFu_MOCB",
        "outputId": "8e93e3aa-88aa-4555-f64b-710078ca1928"
      },
      "outputs": [
        {
          "data": {
            "text/plain": [
              "{'Nearmiss_1_4_1': 0.7514,\n",
              " 'NearMiss_ANOVA': 0.8087,\n",
              " 'NearMiss_chi_2': 0.7513,\n",
              " 'UnderSampler_ANOVA': 0.4765,\n",
              " 'UnderSampler_1_4_1': 0.3691,\n",
              " 'UnderSampler_chi_2': 0.369}"
            ]
          },
          "execution_count": 46,
          "metadata": {},
          "output_type": "execute_result"
        }
      ],
      "source": [
        "accuracy_dict_NB"
      ]
    },
    {
      "cell_type": "code",
      "execution_count": null,
      "metadata": {
        "colab": {
          "base_uri": "https://localhost:8080/"
        },
        "id": "uFlGYubmMQeY",
        "outputId": "6c232749-d08f-422b-8975-ee2386550a90"
      },
      "outputs": [
        {
          "data": {
            "text/plain": [
              "{'Nearmiss_1_4_1': 0.7815,\n",
              " 'NearMiss_ANOVA': 0.7179,\n",
              " 'NearMiss_chi_2': 0.7658,\n",
              " 'UnderSampler_ANOVA': 0.607,\n",
              " 'UnderSampler_1_4_1': 0.3533,\n",
              " 'UnderSampler_chi_2': 0.3531}"
            ]
          },
          "execution_count": 47,
          "metadata": {},
          "output_type": "execute_result"
        }
      ],
      "source": [
        "precision_dict_NB"
      ]
    },
    {
      "cell_type": "code",
      "execution_count": null,
      "metadata": {
        "colab": {
          "base_uri": "https://localhost:8080/"
        },
        "id": "ppo9bEmUMR_W",
        "outputId": "95c09fcc-ab8d-48e8-a5b0-b31671b1f98e"
      },
      "outputs": [
        {
          "data": {
            "text/plain": [
              "{'Nearmiss_1_4_1': 0.5868,\n",
              " 'NearMiss_ANOVA': 0.6564,\n",
              " 'NearMiss_chi_2': 0.5869,\n",
              " 'UnderSampler_ANOVA': 0.5586,\n",
              " 'UnderSampler_1_4_1': 0.3521,\n",
              " 'UnderSampler_chi_2': 0.352}"
            ]
          },
          "execution_count": 48,
          "metadata": {},
          "output_type": "execute_result"
        }
      ],
      "source": [
        "recall_dict_NB"
      ]
    },
    {
      "cell_type": "code",
      "execution_count": null,
      "metadata": {
        "colab": {
          "base_uri": "https://localhost:8080/"
        },
        "id": "QmPyHGqXMTyY",
        "outputId": "8d8105e1-3b31-4d78-8c9f-3500fd4935fc"
      },
      "outputs": [
        {
          "data": {
            "text/plain": [
              "{'Nearmiss_1_4_1': 0.5509,\n",
              " 'NearMiss_ANOVA': 0.6159,\n",
              " 'NearMiss_chi_2': 0.5511,\n",
              " 'UnderSampler_ANOVA': 0.4359,\n",
              " 'UnderSampler_1_4_1': 0.2332,\n",
              " 'UnderSampler_chi_2': 0.2332}"
            ]
          },
          "execution_count": 49,
          "metadata": {},
          "output_type": "execute_result"
        }
      ],
      "source": [
        "f1_dict_NB"
      ]
    },
    {
      "cell_type": "code",
      "execution_count": null,
      "metadata": {
        "colab": {
          "base_uri": "https://localhost:8080/"
        },
        "id": "A3p5K7mkvoKL",
        "outputId": "8c11de1e-6769-42e6-f4e9-45d6e308c521"
      },
      "outputs": [
        {
          "data": {
            "text/plain": [
              "{'Nearmiss_1_4_1': 0.9082958800191698,\n",
              " 'NearMiss_ANOVA': 0.869145225879018,\n",
              " 'NearMiss_chi_2': 0.9081513403677299,\n",
              " 'UnderSampler_ANOVA': 0.8359657266960641,\n",
              " 'UnderSampler_1_4_1': 0.8129883785403245,\n",
              " 'UnderSampler_chi_2': 0.7421019326897804}"
            ]
          },
          "execution_count": 50,
          "metadata": {},
          "output_type": "execute_result"
        }
      ],
      "source": [
        "auc_label_0_NB"
      ]
    },
    {
      "cell_type": "code",
      "execution_count": null,
      "metadata": {
        "colab": {
          "base_uri": "https://localhost:8080/"
        },
        "id": "2QA1F-zTvsRB",
        "outputId": "9a1edbee-1756-4019-936f-bfe7109e191a"
      },
      "outputs": [
        {
          "data": {
            "text/plain": [
              "{'Nearmiss_1_4_1': 0.9557355677913663,\n",
              " 'NearMiss_ANOVA': 0.9679192797266704,\n",
              " 'NearMiss_chi_2': 0.9407098643759891,\n",
              " 'UnderSampler_ANOVA': 0.9455384570870257,\n",
              " 'UnderSampler_1_4_1': 0.8833413067337601,\n",
              " 'UnderSampler_chi_2': 0.8075788914851885}"
            ]
          },
          "execution_count": 51,
          "metadata": {},
          "output_type": "execute_result"
        }
      ],
      "source": [
        "auc_label_1_NB"
      ]
    },
    {
      "cell_type": "code",
      "execution_count": null,
      "metadata": {
        "colab": {
          "base_uri": "https://localhost:8080/"
        },
        "id": "-5yZIR69v22i",
        "outputId": "312eb8a6-b86a-4fb2-8d74-c48aee1f969d"
      },
      "outputs": [
        {
          "data": {
            "text/plain": [
              "{'Nearmiss_1_4_1': 0.5649135805195098,\n",
              " 'NearMiss_ANOVA': 0.7095900120527325,\n",
              " 'NearMiss_chi_2': 0.5423365360871593,\n",
              " 'UnderSampler_ANOVA': 0.6794819198821243,\n",
              " 'UnderSampler_1_4_1': 0.6941760204907619,\n",
              " 'UnderSampler_chi_2': 0.675999719046226}"
            ]
          },
          "execution_count": 52,
          "metadata": {},
          "output_type": "execute_result"
        }
      ],
      "source": [
        "auc_label_2_NB"
      ]
    },
    {
      "cell_type": "code",
      "execution_count": null,
      "metadata": {
        "colab": {
          "base_uri": "https://localhost:8080/",
          "height": 564
        },
        "id": "2Ath7K21QL6I",
        "outputId": "dadc94b4-824c-46c6-c47c-d59bcffa4261"
      },
      "outputs": [
        {
          "data": {
            "image/png": "[encoded data removed]",
            "text/plain": [
              "<Figure size 800x600 with 1 Axes>"
            ]
          },
          "metadata": {},
          "output_type": "display_data"
        }
      ],
      "source": [
        "from sklearn.metrics import auc\n",
        "\n",
        "plt.figure(figsize=(8,6))\n",
        "for i, label in enumerate(np.unique(y_train)):\n",
        "    fpr, tpr, _ = roc_curve(best_y_test_bin_NB[:, i], best_y_score_NB[:, i])\n",
        "    roc_auc = auc(fpr, tpr)\n",
        "    plt.plot(fpr, tpr, lw=2, label=f'Label {label} ROC curve (AUC = {roc_auc:.2f})')\n",
        "\n",
        "plt.plot([0,1],[0,1],'k--')\n",
        "plt.xlabel('False Positive Rate')\n",
        "plt.ylabel('True Positive Rate')\n",
        "plt.title(f'ROC Curves for best NB dataset: {best_key_NB}')\n",
        "plt.legend(loc='lower right')\n",
        "plt.show()"
      ]
    },
    {
      "cell_type": "code",
      "execution_count": null,
      "metadata": {
        "colab": {
          "base_uri": "https://localhost:8080/",
          "height": 607
        },
        "id": "3LB65JKIMZSG",
        "outputId": "da9d5335-3e7d-485f-d03e-9a140a0341e5"
      },
      "outputs": [
        {
          "data": {
            "image/png": "[encoded data removed]",
            "text/plain": [
              "<Figure size 1400x600 with 1 Axes>"
            ]
          },
          "metadata": {},
          "output_type": "display_data"
        }
      ],
      "source": [
        "# Danh sách các tên phương pháp (từ accuracy_dict)\n",
        "methods = list(accuracy_dict_NB.keys())\n",
        "\n",
        "metrics = [accuracy_dict_NB, precision_dict_NB, recall_dict_NB, f1_dict_NB]\n",
        "metric_names = [\"Accuracy\", \"Precision\", \"Recall\", \"F1 Score\"]\n",
        "\n",
        "num_methods = len(methods)\n",
        "num_metrics = len(metric_names)\n",
        "\n",
        "x = np.arange(num_metrics)  # Vị trí trục x: [0, 1, 2, 3]\n",
        "width = 0.1  # Độ rộng mỗi cột\n",
        "\n",
        "plt.figure(figsize=(14, 6))\n",
        "\n",
        "for i in range(num_methods):\n",
        "    values = [metrics[j][methods[i]] for j in range(num_metrics)]\n",
        "    plt.bar(x + (i - num_methods/2)*width + width/2, values, width=width, label=methods[i])\n",
        "\n",
        "plt.xticks(x, metric_names)\n",
        "plt.ylabel(\"Score\")\n",
        "plt.title(\"So sánh các kỹ thuật xử lý dữ liệu với NB theo từng chỉ số\")\n",
        "plt.legend(title=\"Phương pháp\", bbox_to_anchor=(1.05, 1), loc='upper left')\n",
        "plt.tight_layout()\n",
        "plt.grid(axis='y', linestyle='--', alpha=0.7)\n",
        "plt.show()\n"
      ]
    },
    {
      "cell_type": "markdown",
      "metadata": {
        "id": "8nIKo2mzMzmf"
      },
      "source": [
        "## **Ta có thể thấy best_value_RF có tổng các tham số là lớn nhất , và kịch bản có các tham số tốt nhất là kịch bản One-hot Encoding , Chi-square , NearMiss và Random Forest**\n",
        "\n"
      ]
    }
  ],
  "metadata": {
    "colab": {
      "authorship_tag": "ABX9TyOeqOe76F5ImXmnTCXeTkFL",
      "include_colab_link": true,
      "provenance": []
    },
    "kernelspec": {
      "display_name": "Python 3",
      "name": "python3"
    },
    "language_info": {
      "name": "python"
    }
  },
  "nbformat": 4,
  "nbformat_minor": 0
}
